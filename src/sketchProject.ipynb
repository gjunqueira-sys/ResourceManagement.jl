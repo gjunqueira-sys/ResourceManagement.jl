{
 "cells": [
  {
   "cell_type": "code",
   "execution_count": 1,
   "metadata": {},
   "outputs": [],
   "source": [
    "using ResourceManagement\n",
    "using DataFrames\n",
    "\n",
    "using CSV"
   ]
  },
  {
   "cell_type": "code",
   "execution_count": 2,
   "metadata": {},
   "outputs": [],
   "source": [
    "# dflabor = ReadLaborTracker(\"src\\\\TEAM_PLANNED_FWD24.csv\"); \n",
    "dflabor = ReadLaborTracker(\"C:\\\\Users\\\\junqueg\\\\OneDrive - dematic.com\\\\MyDocuments_BackUp\\\\15. Programming\\\\Projects\\\\ResourceManagement.jl\\\\src\\\\TEAM_PLANNED_FWD24_NOV.csv\"); "
   ]
  },
  {
   "cell_type": "code",
   "execution_count": 3,
   "metadata": {},
   "outputs": [],
   "source": [
    "dfp =  ReadLaborTracker(\"actual_planByDeptByProj.csv\");"
   ]
  },
  {
   "cell_type": "code",
   "execution_count": 4,
   "metadata": {},
   "outputs": [
    {
     "data": {
      "text/html": [
       "<p>DataFrameRow (55 columns)</p><div class=\"data-frame\"><table class=\"data-frame\"><thead><tr><th></th><th>Department</th><th>Project</th><th>Description</th><th>Network</th><th>Task</th><th>Employee No</th></tr><tr><th></th><th title=\"String31\">String31</th><th title=\"Int64\">Int64</th><th title=\"String31\">String31</th><th title=\"String15\">String15</th><th title=\"Int64\">Int64</th><th title=\"Int64\">Int64</th></tr></thead><tbody><tr><th>1</th><td>430300 ENG - Controls</td><td>154662</td><td>Burlington Coat Factory</td><td>N154662-02</td><td>2000</td><td>11562</td></tr></tbody></table></div>"
      ],
      "text/latex": [
       "\\begin{tabular}{r|ccccccc}\n",
       "\t& Department & Project & Description & Network & Task & Employee No & \\\\\n",
       "\t\\hline\n",
       "\t& String31 & Int64 & String31 & String15 & Int64 & Int64 & \\\\\n",
       "\t\\hline\n",
       "\t1 & 430300 ENG - Controls & 154662 & Burlington Coat Factory & N154662-02 & 2000 & 11562 & $\\dots$ \\\\\n",
       "\\end{tabular}\n"
      ],
      "text/plain": [
       "\u001b[1mDataFrameRow\u001b[0m\n",
       "\u001b[1m Row \u001b[0m│\u001b[1m Department            \u001b[0m\u001b[1m Project \u001b[0m\u001b[1m Description             \u001b[0m\u001b[1m Network    \u001b[0m\u001b[1m Ta\u001b[0m ⋯\n",
       "\u001b[1m     \u001b[0m│\u001b[90m String31              \u001b[0m\u001b[90m Int64   \u001b[0m\u001b[90m String31                \u001b[0m\u001b[90m String15   \u001b[0m\u001b[90m In\u001b[0m ⋯\n",
       "─────┼──────────────────────────────────────────────────────────────────────────\n",
       "   1 │ 430300 ENG - Controls   154662  Burlington Coat Factory  N154662-02   2 ⋯\n",
       "\u001b[36m                                                              51 columns omitted\u001b[0m"
      ]
     },
     "metadata": {},
     "output_type": "display_data"
    }
   ],
   "source": [
    "dfp |> first"
   ]
  },
  {
   "cell_type": "code",
   "execution_count": 5,
   "metadata": {},
   "outputs": [],
   "source": [
    "dfcostnew =  ReadCostTracker(\"costracker_0606.csv\");"
   ]
  },
  {
   "cell_type": "code",
   "execution_count": 6,
   "metadata": {},
   "outputs": [
    {
     "data": {
      "text/plain": [
       "(💼, 154662, Burlington, Make every Project a Success 💪🏻 before it even begins!"
      ]
     },
     "metadata": {},
     "output_type": "display_data"
    }
   ],
   "source": [
    "p154662 = Project(\"154662\" , \"Burlington\")"
   ]
  },
  {
   "cell_type": "code",
   "execution_count": 7,
   "metadata": {},
   "outputs": [
    {
     "data": {
      "text/plain": [
       "Cost[]"
      ]
     },
     "metadata": {},
     "output_type": "display_data"
    }
   ],
   "source": [
    "p154662.Cost"
   ]
  },
  {
   "cell_type": "code",
   "execution_count": 8,
   "metadata": {},
   "outputs": [
    {
     "data": {
      "text/plain": [
       "(💼, 154662, Burlington Coat Factory, Make every Project a Success 💪🏻 before it even begins!"
      ]
     },
     "metadata": {},
     "output_type": "display_data"
    }
   ],
   "source": [
    "fetchAndWriteProjectFinances!(dfcostnew, \"154662\", \"430300\", p154662)"
   ]
  },
  {
   "cell_type": "code",
   "execution_count": 9,
   "metadata": {},
   "outputs": [
    {
     "data": {
      "text/plain": [
       "267.6"
      ]
     },
     "metadata": {},
     "output_type": "display_data"
    }
   ],
   "source": [
    "p154662.Cost[1].Actual_ENG"
   ]
  },
  {
   "cell_type": "code",
   "execution_count": 10,
   "metadata": {},
   "outputs": [
    {
     "data": {
      "text/plain": [
       "267.6"
      ]
     },
     "metadata": {},
     "output_type": "display_data"
    }
   ],
   "source": [
    "getProjectCostItem(p154662, :Actual_ENG)"
   ]
  },
  {
   "cell_type": "code",
   "execution_count": 11,
   "metadata": {},
   "outputs": [
    {
     "data": {
      "text/plain": [
       "(💼, 158070, Walmart, Make every Project a Success 💪🏻 before it even begins!"
      ]
     },
     "metadata": {},
     "output_type": "display_data"
    }
   ],
   "source": [
    "p158070 = Project(\"158070\" , \"Walmart\")"
   ]
  },
  {
   "cell_type": "code",
   "execution_count": 12,
   "metadata": {},
   "outputs": [
    {
     "data": {
      "text/plain": [
       "(💼, 158070, Walmart HVFC - Memphis TN, Make every Project a Success 💪🏻 before it even begins!"
      ]
     },
     "metadata": {},
     "output_type": "display_data"
    }
   ],
   "source": [
    "fetchAndWriteProjectFinances!(dfcostnew, \"158070\", \"430300\", p158070)"
   ]
  },
  {
   "cell_type": "code",
   "execution_count": 13,
   "metadata": {},
   "outputs": [
    {
     "data": {
      "text/plain": [
       "25-element Vector{String}:\n",
       " \"Employee\"\n",
       " \"Month1\"\n",
       " \"Month2\"\n",
       " \"Month3\"\n",
       " \"Month4\"\n",
       " \"Month5\"\n",
       " \"Month6\"\n",
       " \"Month7\"\n",
       " \"Month8\"\n",
       " \"Month9\"\n",
       " ⋮\n",
       " \"Month16\"\n",
       " \"Month17\"\n",
       " \"Month18\"\n",
       " \"Month19\"\n",
       " \"Month20\"\n",
       " \"Month21\"\n",
       " \"Month22\"\n",
       " \"Month23\"\n",
       " \"Month24\""
      ]
     },
     "metadata": {},
     "output_type": "display_data"
    }
   ],
   "source": [
    "p154662.FwdHoursForecast |> names"
   ]
  },
  {
   "cell_type": "code",
   "execution_count": 14,
   "metadata": {},
   "outputs": [
    {
     "data": {
      "text/plain": [
       "(💼, 154662, Burlington Coat Factory, Make every Project a Success 💪🏻 before it even begins!"
      ]
     },
     "metadata": {},
     "output_type": "display_data"
    }
   ],
   "source": [
    "fetchAndWritePlannedProjHours!(dfp, p154662, :fwd)"
   ]
  },
  {
   "cell_type": "code",
   "execution_count": 15,
   "metadata": {},
   "outputs": [
    {
     "data": {
      "text/plain": [
       "(💼, 154662, Burlington Coat Factory, Make every Project a Success 💪🏻 before it even begins!"
      ]
     },
     "metadata": {},
     "output_type": "display_data"
    }
   ],
   "source": [
    "p154662"
   ]
  },
  {
   "cell_type": "code",
   "execution_count": 16,
   "metadata": {},
   "outputs": [
    {
     "data": {
      "text/html": [
       "<div class=\"data-frame\"><p>19 rows × 25 columns (omitted printing of 17 columns)</p><table class=\"data-frame\"><thead><tr><th></th><th>Employee</th><th>Month1</th><th>Month2</th><th>Month3</th><th>Month4</th><th>Month5</th><th>Month6</th><th>Month7</th></tr><tr><th></th><th title=\"String\">String</th><th title=\"Int64\">Int64</th><th title=\"Int64\">Int64</th><th title=\"Int64\">Int64</th><th title=\"Int64\">Int64</th><th title=\"Int64\">Int64</th><th title=\"Int64\">Int64</th><th title=\"Int64\">Int64</th></tr></thead><tbody><tr><th>1</th><td>ZAHID ZOHAIB</td><td>60</td><td>60</td><td>0</td><td>0</td><td>0</td><td>0</td><td>0</td></tr><tr><th>2</th><td>SHETTY RACHIT</td><td>24</td><td>80</td><td>184</td><td>168</td><td>168</td><td>168</td><td>136</td></tr><tr><th>3</th><td>UNASSIGNED CONTROLS A</td><td>0</td><td>0</td><td>0</td><td>0</td><td>0</td><td>0</td><td>0</td></tr><tr><th>4</th><td>UNASSIGNED CONTROLS B</td><td>0</td><td>0</td><td>0</td><td>0</td><td>0</td><td>0</td><td>0</td></tr><tr><th>5</th><td>VENKATACHARI SRUTHILAYA</td><td>176</td><td>160</td><td>184</td><td>168</td><td>168</td><td>168</td><td>136</td></tr><tr><th>6</th><td>CHAHLA ABRAHAM</td><td>64</td><td>0</td><td>0</td><td>0</td><td>0</td><td>0</td><td>0</td></tr><tr><th>7</th><td>BRIONES JULITA</td><td>0</td><td>160</td><td>184</td><td>168</td><td>168</td><td>168</td><td>136</td></tr><tr><th>8</th><td>BORDEN BRADLEY</td><td>176</td><td>0</td><td>92</td><td>84</td><td>168</td><td>168</td><td>136</td></tr><tr><th>9</th><td>HIGA ANTHONY</td><td>0</td><td>160</td><td>0</td><td>168</td><td>168</td><td>168</td><td>136</td></tr><tr><th>10</th><td>VALENCIA BAUTISTA ANNUAR</td><td>0</td><td>0</td><td>184</td><td>168</td><td>168</td><td>168</td><td>136</td></tr><tr><th>11</th><td>RANA MD SHOHEL</td><td>16</td><td>160</td><td>184</td><td>168</td><td>168</td><td>168</td><td>136</td></tr><tr><th>12</th><td>SOLANKI VIRAL</td><td>176</td><td>160</td><td>184</td><td>168</td><td>168</td><td>168</td><td>136</td></tr><tr><th>13</th><td>FOMEGANG PELAP DIDIER VALERY</td><td>176</td><td>80</td><td>0</td><td>84</td><td>168</td><td>168</td><td>136</td></tr><tr><th>14</th><td>KRISHNAKUMAR RISHIKUMAR</td><td>88</td><td>0</td><td>4</td><td>0</td><td>168</td><td>168</td><td>136</td></tr><tr><th>15</th><td>DYER BRENT</td><td>176</td><td>160</td><td>184</td><td>168</td><td>168</td><td>168</td><td>136</td></tr><tr><th>16</th><td>SHEN STEVEN</td><td>176</td><td>160</td><td>184</td><td>168</td><td>168</td><td>168</td><td>136</td></tr><tr><th>17</th><td>MAHADEVAN SWETHA</td><td>176</td><td>160</td><td>184</td><td>168</td><td>168</td><td>168</td><td>136</td></tr><tr><th>18</th><td>LAGERMAN ERIC</td><td>10</td><td>0</td><td>0</td><td>0</td><td>0</td><td>0</td><td>0</td></tr><tr><th>19</th><td>THOMAS JACOB SUNIL</td><td>84</td><td>76</td><td>92</td><td>16</td><td>16</td><td>16</td><td>16</td></tr></tbody></table></div>"
      ],
      "text/latex": [
       "\\begin{tabular}{r|ccccccccc}\n",
       "\t& Employee & Month1 & Month2 & Month3 & Month4 & Month5 & Month6 & Month7 & \\\\\n",
       "\t\\hline\n",
       "\t& String & Int64 & Int64 & Int64 & Int64 & Int64 & Int64 & Int64 & \\\\\n",
       "\t\\hline\n",
       "\t1 & ZAHID ZOHAIB & 60 & 60 & 0 & 0 & 0 & 0 & 0 & $\\dots$ \\\\\n",
       "\t2 & SHETTY RACHIT & 24 & 80 & 184 & 168 & 168 & 168 & 136 & $\\dots$ \\\\\n",
       "\t3 & UNASSIGNED CONTROLS A & 0 & 0 & 0 & 0 & 0 & 0 & 0 & $\\dots$ \\\\\n",
       "\t4 & UNASSIGNED CONTROLS B & 0 & 0 & 0 & 0 & 0 & 0 & 0 & $\\dots$ \\\\\n",
       "\t5 & VENKATACHARI SRUTHILAYA & 176 & 160 & 184 & 168 & 168 & 168 & 136 & $\\dots$ \\\\\n",
       "\t6 & CHAHLA ABRAHAM & 64 & 0 & 0 & 0 & 0 & 0 & 0 & $\\dots$ \\\\\n",
       "\t7 & BRIONES JULITA & 0 & 160 & 184 & 168 & 168 & 168 & 136 & $\\dots$ \\\\\n",
       "\t8 & BORDEN BRADLEY & 176 & 0 & 92 & 84 & 168 & 168 & 136 & $\\dots$ \\\\\n",
       "\t9 & HIGA ANTHONY & 0 & 160 & 0 & 168 & 168 & 168 & 136 & $\\dots$ \\\\\n",
       "\t10 & VALENCIA BAUTISTA ANNUAR & 0 & 0 & 184 & 168 & 168 & 168 & 136 & $\\dots$ \\\\\n",
       "\t11 & RANA MD SHOHEL & 16 & 160 & 184 & 168 & 168 & 168 & 136 & $\\dots$ \\\\\n",
       "\t12 & SOLANKI VIRAL & 176 & 160 & 184 & 168 & 168 & 168 & 136 & $\\dots$ \\\\\n",
       "\t13 & FOMEGANG PELAP DIDIER VALERY & 176 & 80 & 0 & 84 & 168 & 168 & 136 & $\\dots$ \\\\\n",
       "\t14 & KRISHNAKUMAR RISHIKUMAR & 88 & 0 & 4 & 0 & 168 & 168 & 136 & $\\dots$ \\\\\n",
       "\t15 & DYER BRENT & 176 & 160 & 184 & 168 & 168 & 168 & 136 & $\\dots$ \\\\\n",
       "\t16 & SHEN STEVEN & 176 & 160 & 184 & 168 & 168 & 168 & 136 & $\\dots$ \\\\\n",
       "\t17 & MAHADEVAN SWETHA & 176 & 160 & 184 & 168 & 168 & 168 & 136 & $\\dots$ \\\\\n",
       "\t18 & LAGERMAN ERIC & 10 & 0 & 0 & 0 & 0 & 0 & 0 & $\\dots$ \\\\\n",
       "\t19 & THOMAS JACOB SUNIL & 84 & 76 & 92 & 16 & 16 & 16 & 16 & $\\dots$ \\\\\n",
       "\\end{tabular}\n"
      ],
      "text/plain": [
       "\u001b[1m19×25 DataFrame\u001b[0m\n",
       "\u001b[1m Row \u001b[0m│\u001b[1m Employee                     \u001b[0m\u001b[1m Month1 \u001b[0m\u001b[1m Month2 \u001b[0m\u001b[1m Month3 \u001b[0m\u001b[1m Month4 \u001b[0m\u001b[1m Month5 \u001b[0m\u001b[1m M\u001b[0m ⋯\n",
       "\u001b[1m     \u001b[0m│\u001b[90m String                       \u001b[0m\u001b[90m Int64  \u001b[0m\u001b[90m Int64  \u001b[0m\u001b[90m Int64  \u001b[0m\u001b[90m Int64  \u001b[0m\u001b[90m Int64  \u001b[0m\u001b[90m I\u001b[0m ⋯\n",
       "─────┼──────────────────────────────────────────────────────────────────────────\n",
       "   1 │ ZAHID ZOHAIB                      60      60       0       0       0    ⋯\n",
       "   2 │ SHETTY RACHIT                     24      80     184     168     168\n",
       "   3 │ UNASSIGNED CONTROLS A              0       0       0       0       0\n",
       "   4 │ UNASSIGNED CONTROLS B              0       0       0       0       0\n",
       "   5 │ VENKATACHARI SRUTHILAYA          176     160     184     168     168    ⋯\n",
       "   6 │ CHAHLA ABRAHAM                    64       0       0       0       0\n",
       "   7 │ BRIONES JULITA                     0     160     184     168     168\n",
       "   8 │ BORDEN BRADLEY                   176       0      92      84     168\n",
       "  ⋮  │              ⋮                  ⋮       ⋮       ⋮       ⋮       ⋮       ⋱\n",
       "  13 │ FOMEGANG PELAP DIDIER VALERY     176      80       0      84     168    ⋯\n",
       "  14 │ KRISHNAKUMAR RISHIKUMAR           88       0       4       0     168\n",
       "  15 │ DYER BRENT                       176     160     184     168     168\n",
       "  16 │ SHEN STEVEN                      176     160     184     168     168\n",
       "  17 │ MAHADEVAN SWETHA                 176     160     184     168     168    ⋯\n",
       "  18 │ LAGERMAN ERIC                     10       0       0       0       0\n",
       "  19 │ THOMAS JACOB SUNIL                84      76      92      16      16\n",
       "\u001b[36m                                                   19 columns and 4 rows omitted\u001b[0m"
      ]
     },
     "metadata": {},
     "output_type": "display_data"
    }
   ],
   "source": [
    "p154662.FwdHoursForecast"
   ]
  },
  {
   "cell_type": "code",
   "execution_count": 17,
   "metadata": {},
   "outputs": [],
   "source": [
    "Tony = DisciplineLabor(\"430300\", \"Higa Anthony\");"
   ]
  },
  {
   "cell_type": "code",
   "execution_count": 18,
   "metadata": {},
   "outputs": [],
   "source": [
    "Brad = DisciplineLabor(\"430300\", \"BORDEN BRADLEY\");"
   ]
  },
  {
   "cell_type": "code",
   "execution_count": 40,
   "metadata": {},
   "outputs": [],
   "source": [
    "Viral = DisciplineLabor(\"430300\", \"SOLANKI VIRAL\");"
   ]
  },
  {
   "cell_type": "code",
   "execution_count": 19,
   "metadata": {},
   "outputs": [
    {
     "data": {
      "text/plain": [
       "(💼, 154662, Burlington Coat Factory, Make every Project a Success 💪🏻 before it even begins!"
      ]
     },
     "metadata": {},
     "output_type": "display_data"
    }
   ],
   "source": [
    "p154662"
   ]
  },
  {
   "cell_type": "code",
   "execution_count": 20,
   "metadata": {},
   "outputs": [
    {
     "data": {
      "text/plain": [
       "19-element Vector{String}:\n",
       " \"ZAHID ZOHAIB\"\n",
       " \"SHETTY RACHIT\"\n",
       " \"UNASSIGNED CONTROLS A\"\n",
       " \"UNASSIGNED CONTROLS B\"\n",
       " \"VENKATACHARI SRUTHILAYA\"\n",
       " \"CHAHLA ABRAHAM\"\n",
       " \"BRIONES JULITA\"\n",
       " \"BORDEN BRADLEY\"\n",
       " \"HIGA ANTHONY\"\n",
       " \"VALENCIA BAUTISTA ANNUAR\"\n",
       " \"RANA MD SHOHEL\"\n",
       " \"SOLANKI VIRAL\"\n",
       " \"FOMEGANG PELAP DIDIER VALERY\"\n",
       " \"KRISHNAKUMAR RISHIKUMAR\"\n",
       " \"DYER BRENT\"\n",
       " \"SHEN STEVEN\"\n",
       " \"MAHADEVAN SWETHA\"\n",
       " \"LAGERMAN ERIC\"\n",
       " \"THOMAS JACOB SUNIL\""
      ]
     },
     "metadata": {},
     "output_type": "display_data"
    }
   ],
   "source": [
    "p154662.FwdHoursForecast.Employee"
   ]
  },
  {
   "cell_type": "code",
   "execution_count": 21,
   "metadata": {},
   "outputs": [
    {
     "data": {
      "text/plain": [
       "\"154662\""
      ]
     },
     "metadata": {},
     "output_type": "display_data"
    }
   ],
   "source": [
    "p154662.Number"
   ]
  },
  {
   "cell_type": "code",
   "execution_count": 22,
   "metadata": {},
   "outputs": [
    {
     "data": {
      "text/html": [
       "<div class=\"data-frame\"><p>1 rows × 25 columns (omitted printing of 15 columns)</p><table class=\"data-frame\"><thead><tr><th></th><th>Project</th><th>Month1</th><th>Month2</th><th>Month3</th><th>Month4</th><th>Month5</th><th>Month6</th><th>Month7</th><th>Month8</th><th>Month9</th></tr><tr><th></th><th title=\"String\">String</th><th title=\"Int64\">Int64</th><th title=\"Int64\">Int64</th><th title=\"Int64\">Int64</th><th title=\"Int64\">Int64</th><th title=\"Int64\">Int64</th><th title=\"Int64\">Int64</th><th title=\"Int64\">Int64</th><th title=\"Int64\">Int64</th><th title=\"Int64\">Int64</th></tr></thead><tbody><tr><th>1</th><td>154662</td><td>0</td><td>160</td><td>0</td><td>168</td><td>168</td><td>168</td><td>136</td><td>176</td><td>0</td></tr></tbody></table></div>"
      ],
      "text/latex": [
       "\\begin{tabular}{r|ccccccccccc}\n",
       "\t& Project & Month1 & Month2 & Month3 & Month4 & Month5 & Month6 & Month7 & Month8 & Month9 & \\\\\n",
       "\t\\hline\n",
       "\t& String & Int64 & Int64 & Int64 & Int64 & Int64 & Int64 & Int64 & Int64 & Int64 & \\\\\n",
       "\t\\hline\n",
       "\t1 & 154662 & 0 & 160 & 0 & 168 & 168 & 168 & 136 & 176 & 0 & $\\dots$ \\\\\n",
       "\\end{tabular}\n"
      ],
      "text/plain": [
       "\u001b[1m1×25 DataFrame\u001b[0m\n",
       "\u001b[1m Row \u001b[0m│\u001b[1m Project \u001b[0m\u001b[1m Month1 \u001b[0m\u001b[1m Month2 \u001b[0m\u001b[1m Month3 \u001b[0m\u001b[1m Month4 \u001b[0m\u001b[1m Month5 \u001b[0m\u001b[1m Month6 \u001b[0m\u001b[1m Month7 \u001b[0m\u001b[1m Month8\u001b[0m ⋯\n",
       "\u001b[1m     \u001b[0m│\u001b[90m String  \u001b[0m\u001b[90m Int64  \u001b[0m\u001b[90m Int64  \u001b[0m\u001b[90m Int64  \u001b[0m\u001b[90m Int64  \u001b[0m\u001b[90m Int64  \u001b[0m\u001b[90m Int64  \u001b[0m\u001b[90m Int64  \u001b[0m\u001b[90m Int64 \u001b[0m ⋯\n",
       "─────┼──────────────────────────────────────────────────────────────────────────\n",
       "   1 │ 154662        0     160       0     168     168     168     136     176 ⋯\n",
       "\u001b[36m                                                              16 columns omitted\u001b[0m"
      ]
     },
     "metadata": {},
     "output_type": "display_data"
    }
   ],
   "source": [
    "_tranfProjToDisciplineDf(p154662, Tony , \"HIGA ANTHONY\")"
   ]
  },
  {
   "cell_type": "code",
   "execution_count": 23,
   "metadata": {},
   "outputs": [
    {
     "data": {
      "text/html": [
       "<div class=\"data-frame\"><p>1 rows × 25 columns (omitted printing of 15 columns)</p><table class=\"data-frame\"><thead><tr><th></th><th>Project</th><th>Month1</th><th>Month2</th><th>Month3</th><th>Month4</th><th>Month5</th><th>Month6</th><th>Month7</th><th>Month8</th><th>Month9</th></tr><tr><th></th><th title=\"String\">String</th><th title=\"Int64\">Int64</th><th title=\"Int64\">Int64</th><th title=\"Int64\">Int64</th><th title=\"Int64\">Int64</th><th title=\"Int64\">Int64</th><th title=\"Int64\">Int64</th><th title=\"Int64\">Int64</th><th title=\"Int64\">Int64</th><th title=\"Int64\">Int64</th></tr></thead><tbody><tr><th>1</th><td>154662</td><td>176</td><td>0</td><td>92</td><td>84</td><td>168</td><td>168</td><td>136</td><td>176</td><td>160</td></tr></tbody></table></div>"
      ],
      "text/latex": [
       "\\begin{tabular}{r|ccccccccccc}\n",
       "\t& Project & Month1 & Month2 & Month3 & Month4 & Month5 & Month6 & Month7 & Month8 & Month9 & \\\\\n",
       "\t\\hline\n",
       "\t& String & Int64 & Int64 & Int64 & Int64 & Int64 & Int64 & Int64 & Int64 & Int64 & \\\\\n",
       "\t\\hline\n",
       "\t1 & 154662 & 176 & 0 & 92 & 84 & 168 & 168 & 136 & 176 & 160 & $\\dots$ \\\\\n",
       "\\end{tabular}\n"
      ],
      "text/plain": [
       "\u001b[1m1×25 DataFrame\u001b[0m\n",
       "\u001b[1m Row \u001b[0m│\u001b[1m Project \u001b[0m\u001b[1m Month1 \u001b[0m\u001b[1m Month2 \u001b[0m\u001b[1m Month3 \u001b[0m\u001b[1m Month4 \u001b[0m\u001b[1m Month5 \u001b[0m\u001b[1m Month6 \u001b[0m\u001b[1m Month7 \u001b[0m\u001b[1m Month8\u001b[0m ⋯\n",
       "\u001b[1m     \u001b[0m│\u001b[90m String  \u001b[0m\u001b[90m Int64  \u001b[0m\u001b[90m Int64  \u001b[0m\u001b[90m Int64  \u001b[0m\u001b[90m Int64  \u001b[0m\u001b[90m Int64  \u001b[0m\u001b[90m Int64  \u001b[0m\u001b[90m Int64  \u001b[0m\u001b[90m Int64 \u001b[0m ⋯\n",
       "─────┼──────────────────────────────────────────────────────────────────────────\n",
       "   1 │ 154662      176       0      92      84     168     168     136     176 ⋯\n",
       "\u001b[36m                                                              16 columns omitted\u001b[0m"
      ]
     },
     "metadata": {},
     "output_type": "display_data"
    }
   ],
   "source": [
    "_tranfProjToDisciplineDf(p154662, Brad , \"BORDEN BRADLEY\")"
   ]
  },
  {
   "cell_type": "code",
   "execution_count": 41,
   "metadata": {},
   "outputs": [
    {
     "data": {
      "text/html": [
       "<div class=\"data-frame\"><p>1 rows × 25 columns (omitted printing of 15 columns)</p><table class=\"data-frame\"><thead><tr><th></th><th>Project</th><th>Month1</th><th>Month2</th><th>Month3</th><th>Month4</th><th>Month5</th><th>Month6</th><th>Month7</th><th>Month8</th><th>Month9</th></tr><tr><th></th><th title=\"String\">String</th><th title=\"Int64\">Int64</th><th title=\"Int64\">Int64</th><th title=\"Int64\">Int64</th><th title=\"Int64\">Int64</th><th title=\"Int64\">Int64</th><th title=\"Int64\">Int64</th><th title=\"Int64\">Int64</th><th title=\"Int64\">Int64</th><th title=\"Int64\">Int64</th></tr></thead><tbody><tr><th>1</th><td>154662</td><td>176</td><td>160</td><td>184</td><td>168</td><td>168</td><td>168</td><td>136</td><td>176</td><td>160</td></tr></tbody></table></div>"
      ],
      "text/latex": [
       "\\begin{tabular}{r|ccccccccccc}\n",
       "\t& Project & Month1 & Month2 & Month3 & Month4 & Month5 & Month6 & Month7 & Month8 & Month9 & \\\\\n",
       "\t\\hline\n",
       "\t& String & Int64 & Int64 & Int64 & Int64 & Int64 & Int64 & Int64 & Int64 & Int64 & \\\\\n",
       "\t\\hline\n",
       "\t1 & 154662 & 176 & 160 & 184 & 168 & 168 & 168 & 136 & 176 & 160 & $\\dots$ \\\\\n",
       "\\end{tabular}\n"
      ],
      "text/plain": [
       "\u001b[1m1×25 DataFrame\u001b[0m\n",
       "\u001b[1m Row \u001b[0m│\u001b[1m Project \u001b[0m\u001b[1m Month1 \u001b[0m\u001b[1m Month2 \u001b[0m\u001b[1m Month3 \u001b[0m\u001b[1m Month4 \u001b[0m\u001b[1m Month5 \u001b[0m\u001b[1m Month6 \u001b[0m\u001b[1m Month7 \u001b[0m\u001b[1m Month8\u001b[0m ⋯\n",
       "\u001b[1m     \u001b[0m│\u001b[90m String  \u001b[0m\u001b[90m Int64  \u001b[0m\u001b[90m Int64  \u001b[0m\u001b[90m Int64  \u001b[0m\u001b[90m Int64  \u001b[0m\u001b[90m Int64  \u001b[0m\u001b[90m Int64  \u001b[0m\u001b[90m Int64  \u001b[0m\u001b[90m Int64 \u001b[0m ⋯\n",
       "─────┼──────────────────────────────────────────────────────────────────────────\n",
       "   1 │ 154662      176     160     184     168     168     168     136     176 ⋯\n",
       "\u001b[36m                                                              16 columns omitted\u001b[0m"
      ]
     },
     "metadata": {},
     "output_type": "display_data"
    }
   ],
   "source": [
    "_tranfProjToDisciplineDf(p154662, Viral , \"SOLANKI VIRAL\")"
   ]
  },
  {
   "cell_type": "code",
   "execution_count": 24,
   "metadata": {},
   "outputs": [
    {
     "name": "stdout",
     "output_type": "stream",
     "text": [
      "Tony.FwdHoursForecast = 1×25 DataFrame\n",
      " Row │ Project  Month1  Month2  Month3  Month4  Month5  Month6  Month7  Month8  Month9  Month10  Month11  Month12  Month13  Month14  Month15  Month16  Month17  Month18  Month19  Month20  Month21  Month22  Month23  Month24\n",
      "     │ String   Int64   Int64   Int64   Int64   Int64   Int64   Int64   Int64   Int64   Int64    Int64    Int64    Int64    Int64    Int64    Int64    Int64    Int64    Int64    Int64    Int64    Int64    Int64    Int64\n",
      "─────┼────────────────────────────────────────────────────────────────────────────────────────────────────────────────────────────────────────────────────────────────────────────────────────────────────────────────────────\n",
      "   1 │ 154662        0     160       0     168     168     168     136     176       0      184      168        0        0        0        0        0        0        0        0        0        0        0        0        0\n"
     ]
    },
    {
     "data": {
      "text/html": [
       "<div class=\"data-frame\"><p>1 rows × 25 columns (omitted printing of 15 columns)</p><table class=\"data-frame\"><thead><tr><th></th><th>Project</th><th>Month1</th><th>Month2</th><th>Month3</th><th>Month4</th><th>Month5</th><th>Month6</th><th>Month7</th><th>Month8</th><th>Month9</th></tr><tr><th></th><th title=\"String\">String</th><th title=\"Int64\">Int64</th><th title=\"Int64\">Int64</th><th title=\"Int64\">Int64</th><th title=\"Int64\">Int64</th><th title=\"Int64\">Int64</th><th title=\"Int64\">Int64</th><th title=\"Int64\">Int64</th><th title=\"Int64\">Int64</th><th title=\"Int64\">Int64</th></tr></thead><tbody><tr><th>1</th><td>154662</td><td>0</td><td>160</td><td>0</td><td>168</td><td>168</td><td>168</td><td>136</td><td>176</td><td>0</td></tr></tbody></table></div>"
      ],
      "text/latex": [
       "\\begin{tabular}{r|ccccccccccc}\n",
       "\t& Project & Month1 & Month2 & Month3 & Month4 & Month5 & Month6 & Month7 & Month8 & Month9 & \\\\\n",
       "\t\\hline\n",
       "\t& String & Int64 & Int64 & Int64 & Int64 & Int64 & Int64 & Int64 & Int64 & Int64 & \\\\\n",
       "\t\\hline\n",
       "\t1 & 154662 & 0 & 160 & 0 & 168 & 168 & 168 & 136 & 176 & 0 & $\\dots$ \\\\\n",
       "\\end{tabular}\n"
      ],
      "text/plain": [
       "\u001b[1m1×25 DataFrame\u001b[0m\n",
       "\u001b[1m Row \u001b[0m│\u001b[1m Project \u001b[0m\u001b[1m Month1 \u001b[0m\u001b[1m Month2 \u001b[0m\u001b[1m Month3 \u001b[0m\u001b[1m Month4 \u001b[0m\u001b[1m Month5 \u001b[0m\u001b[1m Month6 \u001b[0m\u001b[1m Month7 \u001b[0m\u001b[1m Month8\u001b[0m ⋯\n",
       "\u001b[1m     \u001b[0m│\u001b[90m String  \u001b[0m\u001b[90m Int64  \u001b[0m\u001b[90m Int64  \u001b[0m\u001b[90m Int64  \u001b[0m\u001b[90m Int64  \u001b[0m\u001b[90m Int64  \u001b[0m\u001b[90m Int64  \u001b[0m\u001b[90m Int64  \u001b[0m\u001b[90m Int64 \u001b[0m ⋯\n",
       "─────┼──────────────────────────────────────────────────────────────────────────\n",
       "   1 │ 154662        0     160       0     168     168     168     136     176 ⋯\n",
       "\u001b[36m                                                              16 columns omitted\u001b[0m"
      ]
     },
     "metadata": {},
     "output_type": "display_data"
    }
   ],
   "source": [
    "@show Tony.FwdHoursForecast"
   ]
  },
  {
   "cell_type": "code",
   "execution_count": 25,
   "metadata": {},
   "outputs": [
    {
     "name": "stdout",
     "output_type": "stream",
     "text": [
      "Brad.FwdHoursForecast = 1×25 DataFrame\n",
      " Row │ Project  Month1  Month2  Month3  Month4  Month5  Month6  Month7  Month8  Month9  Month10  Month11  Month12  Month13  Month14  Month15  Month16  Month17  Month18  Month19  Month20  Month21  Month22  Month23  Month24\n",
      "     │ String   Int64   Int64   Int64   Int64   Int64   Int64   Int64   Int64   Int64   Int64    Int64    Int64    Int64    Int64    Int64    Int64    Int64    Int64    Int64    Int64    Int64    Int64    Int64    Int64\n",
      "─────┼────────────────────────────────────────────────────────────────────────────────────────────────────────────────────────────────────────────────────────────────────────────────────────────────────────────────────────\n",
      "   1 │ 154662      176       0      92      84     168     168     136     176     160      184      168      168      176      168      184        0        0        0        0        0        0        0        0        0\n"
     ]
    },
    {
     "data": {
      "text/html": [
       "<div class=\"data-frame\"><p>1 rows × 25 columns (omitted printing of 15 columns)</p><table class=\"data-frame\"><thead><tr><th></th><th>Project</th><th>Month1</th><th>Month2</th><th>Month3</th><th>Month4</th><th>Month5</th><th>Month6</th><th>Month7</th><th>Month8</th><th>Month9</th></tr><tr><th></th><th title=\"String\">String</th><th title=\"Int64\">Int64</th><th title=\"Int64\">Int64</th><th title=\"Int64\">Int64</th><th title=\"Int64\">Int64</th><th title=\"Int64\">Int64</th><th title=\"Int64\">Int64</th><th title=\"Int64\">Int64</th><th title=\"Int64\">Int64</th><th title=\"Int64\">Int64</th></tr></thead><tbody><tr><th>1</th><td>154662</td><td>176</td><td>0</td><td>92</td><td>84</td><td>168</td><td>168</td><td>136</td><td>176</td><td>160</td></tr></tbody></table></div>"
      ],
      "text/latex": [
       "\\begin{tabular}{r|ccccccccccc}\n",
       "\t& Project & Month1 & Month2 & Month3 & Month4 & Month5 & Month6 & Month7 & Month8 & Month9 & \\\\\n",
       "\t\\hline\n",
       "\t& String & Int64 & Int64 & Int64 & Int64 & Int64 & Int64 & Int64 & Int64 & Int64 & \\\\\n",
       "\t\\hline\n",
       "\t1 & 154662 & 176 & 0 & 92 & 84 & 168 & 168 & 136 & 176 & 160 & $\\dots$ \\\\\n",
       "\\end{tabular}\n"
      ],
      "text/plain": [
       "\u001b[1m1×25 DataFrame\u001b[0m\n",
       "\u001b[1m Row \u001b[0m│\u001b[1m Project \u001b[0m\u001b[1m Month1 \u001b[0m\u001b[1m Month2 \u001b[0m\u001b[1m Month3 \u001b[0m\u001b[1m Month4 \u001b[0m\u001b[1m Month5 \u001b[0m\u001b[1m Month6 \u001b[0m\u001b[1m Month7 \u001b[0m\u001b[1m Month8\u001b[0m ⋯\n",
       "\u001b[1m     \u001b[0m│\u001b[90m String  \u001b[0m\u001b[90m Int64  \u001b[0m\u001b[90m Int64  \u001b[0m\u001b[90m Int64  \u001b[0m\u001b[90m Int64  \u001b[0m\u001b[90m Int64  \u001b[0m\u001b[90m Int64  \u001b[0m\u001b[90m Int64  \u001b[0m\u001b[90m Int64 \u001b[0m ⋯\n",
       "─────┼──────────────────────────────────────────────────────────────────────────\n",
       "   1 │ 154662      176       0      92      84     168     168     136     176 ⋯\n",
       "\u001b[36m                                                              16 columns omitted\u001b[0m"
      ]
     },
     "metadata": {},
     "output_type": "display_data"
    }
   ],
   "source": [
    "@show Brad.FwdHoursForecast"
   ]
  },
  {
   "cell_type": "code",
   "execution_count": 26,
   "metadata": {},
   "outputs": [
    {
     "data": {
      "text/plain": [
       "getProjectNumbers (generic function with 1 method)"
      ]
     },
     "metadata": {},
     "output_type": "display_data"
    }
   ],
   "source": [
    "function getProjectNumbers(D::DisciplineLabor)\n",
    "\n",
    "    return D.Projects #return array of strings with project numbers\n",
    "\n",
    "\n",
    "end"
   ]
  },
  {
   "cell_type": "code",
   "execution_count": 27,
   "metadata": {},
   "outputs": [
    {
     "data": {
      "text/plain": [
       "getProjectNumbers (generic function with 2 methods)"
      ]
     },
     "metadata": {},
     "output_type": "display_data"
    }
   ],
   "source": [
    "function getProjectNumbers(p::Project)\n",
    "\n",
    "    projects = []; \n",
    "    push!(projects, p.Number);\n",
    "    return projects;\n",
    "\n",
    "end"
   ]
  },
  {
   "cell_type": "code",
   "execution_count": 28,
   "metadata": {},
   "outputs": [
    {
     "data": {
      "text/plain": [
       "getProjectNumbers (generic function with 3 methods)"
      ]
     },
     "metadata": {},
     "output_type": "display_data"
    }
   ],
   "source": [
    "function getProjectNumbers(t::TeamLabor)\n",
    "\n",
    "    return t.Projects\n",
    "\n",
    "end"
   ]
  },
  {
   "cell_type": "code",
   "execution_count": 29,
   "metadata": {},
   "outputs": [
    {
     "data": {
      "text/plain": [
       "1-element Vector{String}:\n",
       " \"154662\""
      ]
     },
     "metadata": {},
     "output_type": "display_data"
    }
   ],
   "source": [
    "getProjectNumbers(Tony)"
   ]
  },
  {
   "cell_type": "code",
   "execution_count": 30,
   "metadata": {},
   "outputs": [
    {
     "data": {
      "text/plain": [
       "1-element Vector{Any}:\n",
       " \"154662\""
      ]
     },
     "metadata": {},
     "output_type": "display_data"
    }
   ],
   "source": [
    "getProjectNumbers(p154662)"
   ]
  },
  {
   "cell_type": "code",
   "execution_count": 31,
   "metadata": {},
   "outputs": [
    {
     "data": {
      "text/plain": [
       "false"
      ]
     },
     "metadata": {},
     "output_type": "display_data"
    }
   ],
   "source": [
    "@isdefined Julie"
   ]
  },
  {
   "cell_type": "code",
   "execution_count": 32,
   "metadata": {},
   "outputs": [
    {
     "data": {
      "text/plain": [
       "getNamedResources (generic function with 1 method)"
      ]
     },
     "metadata": {},
     "output_type": "display_data"
    }
   ],
   "source": [
    "function getNamedResources(d::DisciplineLabor)\n",
    "\n",
    "        names = [];\n",
    "        push!(names, d.Name);\n",
    "    \n",
    "        return names\n",
    "    \n",
    "end"
   ]
  },
  {
   "cell_type": "code",
   "execution_count": 33,
   "metadata": {},
   "outputs": [
    {
     "data": {
      "text/plain": [
       "getNamedResources (generic function with 2 methods)"
      ]
     },
     "metadata": {},
     "output_type": "display_data"
    }
   ],
   "source": [
    "function getNamedResources(p::Project)\n",
    "\n",
    "    \n",
    "    nams = [nams for nams in p.FwdHoursForecast.Employee];\n",
    "    return nams\n",
    "        \n",
    "end"
   ]
  },
  {
   "cell_type": "code",
   "execution_count": 34,
   "metadata": {},
   "outputs": [
    {
     "data": {
      "text/plain": [
       "getNamedResources (generic function with 3 methods)"
      ]
     },
     "metadata": {},
     "output_type": "display_data"
    }
   ],
   "source": [
    "function getNamedResources(t::TeamLabor)\n",
    "    return t.Employees\n",
    "\n",
    "end"
   ]
  },
  {
   "cell_type": "code",
   "execution_count": 35,
   "metadata": {},
   "outputs": [
    {
     "data": {
      "text/plain": [
       "1-element Vector{Any}:\n",
       " \"Higa Anthony\""
      ]
     },
     "metadata": {},
     "output_type": "display_data"
    }
   ],
   "source": [
    "getNamedResources(Tony)"
   ]
  },
  {
   "cell_type": "code",
   "execution_count": 36,
   "metadata": {},
   "outputs": [
    {
     "data": {
      "text/plain": [
       "19-element Vector{String}:\n",
       " \"ZAHID ZOHAIB\"\n",
       " \"SHETTY RACHIT\"\n",
       " \"UNASSIGNED CONTROLS A\"\n",
       " \"UNASSIGNED CONTROLS B\"\n",
       " \"VENKATACHARI SRUTHILAYA\"\n",
       " \"CHAHLA ABRAHAM\"\n",
       " \"BRIONES JULITA\"\n",
       " \"BORDEN BRADLEY\"\n",
       " \"HIGA ANTHONY\"\n",
       " \"VALENCIA BAUTISTA ANNUAR\"\n",
       " \"RANA MD SHOHEL\"\n",
       " \"SOLANKI VIRAL\"\n",
       " \"FOMEGANG PELAP DIDIER VALERY\"\n",
       " \"KRISHNAKUMAR RISHIKUMAR\"\n",
       " \"DYER BRENT\"\n",
       " \"SHEN STEVEN\"\n",
       " \"MAHADEVAN SWETHA\"\n",
       " \"LAGERMAN ERIC\"\n",
       " \"THOMAS JACOB SUNIL\""
      ]
     },
     "metadata": {},
     "output_type": "display_data"
    }
   ],
   "source": [
    "getNamedResources(p154662)"
   ]
  },
  {
   "cell_type": "code",
   "execution_count": 42,
   "metadata": {},
   "outputs": [],
   "source": [
    "team1 = Tony + Brad + Viral;"
   ]
  },
  {
   "cell_type": "code",
   "execution_count": 43,
   "metadata": {},
   "outputs": [
    {
     "data": {
      "text/plain": [
       "3-element Vector{String}:\n",
       " \"Higa Anthony\"\n",
       " \"BORDEN BRADLEY\"\n",
       " \"SOLANKI VIRAL\""
      ]
     },
     "metadata": {},
     "output_type": "display_data"
    }
   ],
   "source": [
    "getNamedResources(team1)"
   ]
  },
  {
   "cell_type": "code",
   "execution_count": 39,
   "metadata": {},
   "outputs": [],
   "source": []
  }
 ],
 "metadata": {
  "kernelspec": {
   "display_name": "Julia 1.7.3",
   "language": "julia",
   "name": "julia-1.7"
  },
  "language_info": {
   "file_extension": ".jl",
   "mimetype": "application/julia",
   "name": "julia",
   "version": "1.7.3"
  },
  "orig_nbformat": 4
 },
 "nbformat": 4,
 "nbformat_minor": 2
}
