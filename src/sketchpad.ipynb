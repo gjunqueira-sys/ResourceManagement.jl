{
 "cells": [
  {
   "cell_type": "code",
   "execution_count": 48,
   "metadata": {},
   "outputs": [],
   "source": [
    "using DataFrames\n",
    "using ResourceManagement\n",
    "using DataFrames\n",
    "using Test\n",
    "using CSV\n",
    "\n",
    "mutable struct  DisciplineLaborTest\n",
    "\n",
    "    \n",
    "\n",
    "\n",
    "    FwdHoursAvailable::Array        # Fwd Hours Available on a given month.\n",
    "    FwdHoursForecast::DataFrame         # Array holding Hours Forecasted Fwd monthly(future). Element [1] is the first month forecasted.   \n",
    "    RevHoursForecast::DataFrame           # Array holding Hours Forecasted Rev monthly (in past). Element [1] is the first month forecasted. \n",
    "    RevHoursAvailable::Array        # Array holding Hours Available Rev monthly (in past). Element [1] is the first month forecasted.     \n",
    "\n",
    "    FwdCostsForecast::Array          # Array holding costs Forecasted Fwd monthly (future)\n",
    "    RevCostsForecast::Array         # Array holding costs Forecasted Rev  monthly (past)\n",
    "\n",
    "    RevActualHours::DataFrame        # Array holding Hours incurred Rev monthly (in past). Element [1] is the first month Actual Hours.\n",
    "    RevActualCostHours::Array     # Array holding Hours in Dollar Amounts incurred Rev monthly (in past)\n",
    "\n",
    "    Dept::String                        # Department for Discipline\n",
    "\n",
    "    Name::String                    # name of resource\n",
    "\n",
    "    Projects::Array                 # Project for Discipline\n",
    "\n",
    "\n",
    "    \"\"\"\n",
    "        DisciplineLabor() \n",
    "\n",
    "    Standard Constructor for Discipline Labor.\n",
    "    ```\n",
    "    new(0.0, 0.0, 0.0, 0.0, 0.0, 0.0, Array{Float64, 1}(undef, 12), Vector{Vector{Int64}}(), Array{Float64, 1}(undef, 12), Array{Float64, 1}(undef, 12) ,\n",
    "            Array{Float64, 1}(undef, 12), Array{Float64, 1}(undef, 12), \"430300\") \n",
    "    ```\n",
    "\n",
    "        DisciplineLabor(Dept, N)\n",
    "    Detailed Constructor for Discipline Labor. Specifies Dept and number of months to hold forecast and actuals (N)\n",
    "\n",
    "\n",
    "    # Examples\n",
    "    ```julia\n",
    "    CE = DisciplineLabor()\n",
    "\n",
    "    ```\n",
    "    \"\"\"\n",
    "    function DisciplineLaborTest()      # standard constructor supplied, all zerors, with 12 months array as default \n",
    "\n",
    "\n",
    "        \n",
    "        new(Array{Float64, 1}(), DataFrame(Project=  Array{String15,1}(), Month1 = Array{Int64, 1}()), DataFrame(Project=  Array{String15,1}(), Month1 = Array{Int64, 1}()), Array{Float64, 2}(undef, 12, 12),  Array{Float64, 2}(undef, 12, 12), Array{Float64, 2}(undef, 12,12) ,\n",
    "        DataFrame(), Array{Float64, 2}(undef, 12, 12), \"430300\",\"\", Array{String, 1}())\n",
    "\n",
    "\n",
    "    end\n",
    "end"
   ]
  },
  {
   "cell_type": "code",
   "execution_count": 49,
   "metadata": {},
   "outputs": [],
   "source": [
    "df = ReadLaborTracker(\"C:\\\\Users\\\\junqueg\\\\Documents\\\\My Documents\\\\15. Programming\\\\Projects\\\\ResourceManagement.jl\\\\src\\\\TEAM_PLANNED_FWD24_NOV.csv\"); "
   ]
  },
  {
   "cell_type": "code",
   "execution_count": 50,
   "metadata": {},
   "outputs": [
    {
     "data": {
      "text/html": [
       "<div class=\"data-frame\"><p>5 rows × 79 columns (omitted printing of 74 columns)</p><table class=\"data-frame\"><thead><tr><th></th><th>Department</th><th>Project</th><th>Description</th><th>Network</th><th>Task</th></tr><tr><th></th><th title=\"String31\">String31</th><th title=\"String15\">String15</th><th title=\"Union{Missing, String63}\">String63?</th><th title=\"String15\">String15</th><th title=\"Int64\">Int64</th></tr></thead><tbody><tr><th>1</th><td>430300 ENG - Controls</td><td>142270</td><td>Pandora II (Fairburn, GA)</td><td>N142270-02</td><td>2081</td></tr><tr><th>2</th><td>430300 ENG - Controls</td><td>144553</td><td>Dot Foods - Mount Sterling, IL</td><td>N144553-02</td><td>2020</td></tr><tr><th>3</th><td>430300 ENG - Controls</td><td>144553</td><td>Dot Foods - Mount Sterling, IL</td><td>N144553-02</td><td>2050</td></tr><tr><th>4</th><td>430300 ENG - Controls</td><td>144553</td><td>Dot Foods - Mount Sterling, IL</td><td>N144553-02</td><td>2052</td></tr><tr><th>5</th><td>430300 ENG - Controls</td><td>146391</td><td>Services-CDN# 146355-Ssense</td><td>N146391-02</td><td>2022</td></tr></tbody></table></div>"
      ],
      "text/latex": [
       "\\begin{tabular}{r|cccccc}\n",
       "\t& Department & Project & Description & Network & Task & \\\\\n",
       "\t\\hline\n",
       "\t& String31 & String15 & String63? & String15 & Int64 & \\\\\n",
       "\t\\hline\n",
       "\t1 & 430300 ENG - Controls & 142270 & Pandora II (Fairburn, GA) & N142270-02 & 2081 & $\\dots$ \\\\\n",
       "\t2 & 430300 ENG - Controls & 144553 & Dot Foods - Mount Sterling, IL & N144553-02 & 2020 & $\\dots$ \\\\\n",
       "\t3 & 430300 ENG - Controls & 144553 & Dot Foods - Mount Sterling, IL & N144553-02 & 2050 & $\\dots$ \\\\\n",
       "\t4 & 430300 ENG - Controls & 144553 & Dot Foods - Mount Sterling, IL & N144553-02 & 2052 & $\\dots$ \\\\\n",
       "\t5 & 430300 ENG - Controls & 146391 & Services-CDN\\# 146355-Ssense & N146391-02 & 2022 & $\\dots$ \\\\\n",
       "\\end{tabular}\n"
      ],
      "text/plain": [
       "\u001b[1m5×79 DataFrame\u001b[0m\n",
       "\u001b[1m Row \u001b[0m│\u001b[1m Department            \u001b[0m\u001b[1m Project  \u001b[0m\u001b[1m Description                    \u001b[0m\u001b[1m Networ\u001b[0m ⋯\n",
       "\u001b[1m     \u001b[0m│\u001b[90m String31              \u001b[0m\u001b[90m String15 \u001b[0m\u001b[90m String63?                      \u001b[0m\u001b[90m String\u001b[0m ⋯\n",
       "─────┼──────────────────────────────────────────────────────────────────────────\n",
       "   1 │ 430300 ENG - Controls  142270    Pandora II (Fairburn, GA)       N14227 ⋯\n",
       "   2 │ 430300 ENG - Controls  144553    Dot Foods - Mount Sterling, IL  N14455\n",
       "   3 │ 430300 ENG - Controls  144553    Dot Foods - Mount Sterling, IL  N14455\n",
       "   4 │ 430300 ENG - Controls  144553    Dot Foods - Mount Sterling, IL  N14455\n",
       "   5 │ 430300 ENG - Controls  146391    Services-CDN# 146355-Ssense     N14639 ⋯\n",
       "\u001b[36m                                                              76 columns omitted\u001b[0m"
      ]
     },
     "metadata": {},
     "output_type": "display_data"
    }
   ],
   "source": [
    "first(df,5)"
   ]
  },
  {
   "cell_type": "code",
   "execution_count": 9,
   "metadata": {},
   "outputs": [
    {
     "data": {
      "text/plain": [
       "_getEmployeeHoursFromDf (generic function with 1 method)"
      ]
     },
     "metadata": {},
     "output_type": "display_data"
    }
   ],
   "source": [
    "function _getEmployeeHoursFromDf(df::DataFrame, name::String, m::Int, col::Symbol)\n",
    "\n",
    "    if col == :plan\n",
    "        startcol = 9 #this matchs for both Fwd and Rev Sap Report\n",
    "    elseif col == :actual\n",
    "        startcol = 8\n",
    "    else \n",
    "        startcol = 9 #defaults to plan\n",
    "    end\n",
    "    \n",
    "\n",
    "\n",
    "    filter = (df.\"Employee Name\").==name\n",
    "    df = df[filter,:]\n",
    "    cols = [startcol+3*cols for cols in 0: m-1]\n",
    "    numbercols = [numbercols for numbercols in 2:m ]\n",
    "\n",
    "    dfg = groupby(df, :\"Project\");\n",
    "    \n",
    "\n",
    "    dfg_hours_per_month_per_name = combine(dfg, cols .=>sum)\n",
    "\n",
    "    return dfg_hours_per_month_per_name\n",
    "end"
   ]
  },
  {
   "cell_type": "code",
   "execution_count": 54,
   "metadata": {},
   "outputs": [
    {
     "data": {
      "text/html": [
       "<div class=\"data-frame\"><p>7 rows × 25 columns (omitted printing of 20 columns)</p><table class=\"data-frame\"><thead><tr><th></th><th>Project</th><th>NOV/2021 Planned_sum</th><th>DEC/2021 Planned_sum</th><th>JAN/2022 Planned_sum</th><th>FEB/2022 Planned_sum</th></tr><tr><th></th><th title=\"String15\">String15</th><th title=\"Int64\">Int64</th><th title=\"Int64\">Int64</th><th title=\"Int64\">Int64</th><th title=\"Int64\">Int64</th></tr></thead><tbody><tr><th>1</th><td>150171</td><td>40</td><td>0</td><td>0</td><td>0</td></tr><tr><th>2</th><td>152242</td><td>0</td><td>0</td><td>0</td><td>0</td></tr><tr><th>3</th><td>153804</td><td>0</td><td>0</td><td>120</td><td>120</td></tr><tr><th>4</th><td>154558</td><td>120</td><td>80</td><td>0</td><td>0</td></tr><tr><th>5</th><td>154662</td><td>0</td><td>0</td><td>0</td><td>0</td></tr><tr><th>6</th><td>IND-43</td><td>0</td><td>0</td><td>0</td><td>0</td></tr><tr><th>7</th><td>NZ430300</td><td>8</td><td>40</td><td>0</td><td>0</td></tr></tbody></table></div>"
      ],
      "text/latex": [
       "\\begin{tabular}{r|cccccc}\n",
       "\t& Project & NOV/2021 Planned\\_sum & DEC/2021 Planned\\_sum & JAN/2022 Planned\\_sum & FEB/2022 Planned\\_sum & \\\\\n",
       "\t\\hline\n",
       "\t& String15 & Int64 & Int64 & Int64 & Int64 & \\\\\n",
       "\t\\hline\n",
       "\t1 & 150171 & 40 & 0 & 0 & 0 & $\\dots$ \\\\\n",
       "\t2 & 152242 & 0 & 0 & 0 & 0 & $\\dots$ \\\\\n",
       "\t3 & 153804 & 0 & 0 & 120 & 120 & $\\dots$ \\\\\n",
       "\t4 & 154558 & 120 & 80 & 0 & 0 & $\\dots$ \\\\\n",
       "\t5 & 154662 & 0 & 0 & 0 & 0 & $\\dots$ \\\\\n",
       "\t6 & IND-43 & 0 & 0 & 0 & 0 & $\\dots$ \\\\\n",
       "\t7 & NZ430300 & 8 & 40 & 0 & 0 & $\\dots$ \\\\\n",
       "\\end{tabular}\n"
      ],
      "text/plain": [
       "\u001b[1m7×25 DataFrame\u001b[0m\n",
       "\u001b[1m Row \u001b[0m│\u001b[1m Project  \u001b[0m\u001b[1m NOV/2021 Planned_sum \u001b[0m\u001b[1m DEC/2021 Planned_sum \u001b[0m\u001b[1m JAN/2022 Planned_\u001b[0m ⋯\n",
       "\u001b[1m     \u001b[0m│\u001b[90m String15 \u001b[0m\u001b[90m Int64                \u001b[0m\u001b[90m Int64                \u001b[0m\u001b[90m Int64            \u001b[0m ⋯\n",
       "─────┼──────────────────────────────────────────────────────────────────────────\n",
       "   1 │ 150171                      40                     0                    ⋯\n",
       "   2 │ 152242                       0                     0\n",
       "   3 │ 153804                       0                     0\n",
       "   4 │ 154558                     120                    80\n",
       "   5 │ 154662                       0                     0                    ⋯\n",
       "   6 │ IND-43                       0                     0\n",
       "   7 │ NZ430300                     8                    40\n",
       "\u001b[36m                                                              22 columns omitted\u001b[0m"
      ]
     },
     "metadata": {},
     "output_type": "display_data"
    }
   ],
   "source": [
    "t = _getEmployeeHoursFromDf(df, \"HIGA ANTHONY\", 24, :plan)"
   ]
  },
  {
   "cell_type": "code",
   "execution_count": 52,
   "metadata": {},
   "outputs": [
    {
     "data": {
      "text/plain": [
       "DisciplineLaborTest(Float64[], \u001b[1m0×2 DataFrame\u001b[0m, \u001b[1m0×2 DataFrame\u001b[0m, [1.228390775e-314 1.2283922295e-314 … 0.0 0.0; 1.228390854e-314 1.228423581e-314 … 0.0 0.0; … ; 1.2283920556e-314 1.2283933204e-314 … 0.0 3.18299368645e-313; 1.2283921347e-314 1.228393336e-314 … 0.0 5.4e-323], [1.40441053e-315 1.39917652e-315 … 0.0 0.0; 1.398473206e-315 1.39837218e-315 … 0.0 0.0; … ; 1.39917478e-315 1.39846886e-315 … 0.0 3.18299368645e-313; 1.39846886e-315 1.39917478e-315 … 0.0 5.4e-323], [9.01110008e-316 9.01110008e-316 … 9.01110008e-316 9.01110008e-316; 9.01110008e-316 9.01110008e-316 … 9.01110008e-316 9.01110008e-316; … ; 9.01110008e-316 9.01110008e-316 … 9.01110008e-316 3.18299368645e-313; 9.01110008e-316 9.01110008e-316 … 9.01110008e-316 5.4e-323], \u001b[1m0×0 DataFrame\u001b[0m, [5.0e-324 5.0e-324 … 0.0 0.0; 0.0 5.0e-324 … 0.0 0.0; … ; 5.0e-324 5.0e-324 … 0.0 9.54065845e-315; 0.0 5.0e-324 … 0.0 9.54065908e-315], \"430300\", \"\", String[])"
      ]
     },
     "metadata": {},
     "output_type": "display_data"
    }
   ],
   "source": [
    "Tony = DisciplineLaborTest()"
   ]
  },
  {
   "cell_type": "code",
   "execution_count": 81,
   "metadata": {},
   "outputs": [
    {
     "ename": "MethodError",
     "evalue": "MethodError: Cannot `convert` an object of type Nothing to an object of type String15\nClosest candidates are:\n  convert(::Type{T}, !Matched::T) where T<:AbstractString at C:\\Users\\junqueg\\AppData\\Local\\Programs\\Julia-1.7.2\\share\\julia\\base\\strings\\basic.jl:231\n  convert(::Type{T}, !Matched::AbstractString) where T<:AbstractString at C:\\Users\\junqueg\\AppData\\Local\\Programs\\Julia-1.7.2\\share\\julia\\base\\strings\\basic.jl:232\n  convert(::Type{T}, !Matched::T) where T at C:\\Users\\junqueg\\AppData\\Local\\Programs\\Julia-1.7.2\\share\\julia\\base\\essentials.jl:218",
     "output_type": "error",
     "traceback": [
      "MethodError: Cannot `convert` an object of type Nothing to an object of type String15\n",
      "Closest candidates are:\n",
      "  convert(::Type{T}, !Matched::T) where T<:AbstractString at C:\\Users\\junqueg\\AppData\\Local\\Programs\\Julia-1.7.2\\share\\julia\\base\\strings\\basic.jl:231\n",
      "  convert(::Type{T}, !Matched::AbstractString) where T<:AbstractString at C:\\Users\\junqueg\\AppData\\Local\\Programs\\Julia-1.7.2\\share\\julia\\base\\strings\\basic.jl:232\n",
      "  convert(::Type{T}, !Matched::T) where T at C:\\Users\\junqueg\\AppData\\Local\\Programs\\Julia-1.7.2\\share\\julia\\base\\essentials.jl:218\n",
      "\n",
      "Stacktrace:\n",
      "  [1] fill!(dest::Vector{String15}, x::Nothing)\n",
      "    @ Base .\\array.jl:351\n",
      "  [2] Vector{String15}(#unused#::Nothing, d::Int64)\n",
      "    @ Base .\\baseext.jl:42\n",
      "  [3] top-level scope\n",
      "    @ c:\\Users\\junqueg\\Documents\\My Documents\\15. Programming\\Projects\\ResourceManagement.jl\\src\\sketchpad.ipynb:1\n",
      "  [4] eval\n",
      "    @ .\\boot.jl:373 [inlined]\n",
      "  [5] include_string(mapexpr::typeof(REPL.softscope), mod::Module, code::String, filename::String)\n",
      "    @ Base .\\loading.jl:1196\n",
      "  [6] #invokelatest#2\n",
      "    @ .\\essentials.jl:716 [inlined]\n",
      "  [7] invokelatest\n",
      "    @ .\\essentials.jl:714 [inlined]\n",
      "  [8] (::VSCodeServer.var\"#164#165\"{VSCodeServer.NotebookRunCellArguments, String})()\n",
      "    @ VSCodeServer c:\\Users\\junqueg\\.vscode\\extensions\\julialang.language-julia-1.6.17\\scripts\\packages\\VSCodeServer\\src\\serve_notebook.jl:19\n",
      "  [9] withpath(f::VSCodeServer.var\"#164#165\"{VSCodeServer.NotebookRunCellArguments, String}, path::String)\n",
      "    @ VSCodeServer c:\\Users\\junqueg\\.vscode\\extensions\\julialang.language-julia-1.6.17\\scripts\\packages\\VSCodeServer\\src\\repl.jl:184\n",
      " [10] notebook_runcell_request(conn::VSCodeServer.JSONRPC.JSONRPCEndpoint{Base.PipeEndpoint, Base.PipeEndpoint}, params::VSCodeServer.NotebookRunCellArguments)\n",
      "    @ VSCodeServer c:\\Users\\junqueg\\.vscode\\extensions\\julialang.language-julia-1.6.17\\scripts\\packages\\VSCodeServer\\src\\serve_notebook.jl:13\n",
      " [11] dispatch_msg(x::VSCodeServer.JSONRPC.JSONRPCEndpoint{Base.PipeEndpoint, Base.PipeEndpoint}, dispatcher::VSCodeServer.JSONRPC.MsgDispatcher, msg::Dict{String, Any})\n",
      "    @ VSCodeServer.JSONRPC c:\\Users\\junqueg\\.vscode\\extensions\\julialang.language-julia-1.6.17\\scripts\\packages\\JSONRPC\\src\\typed.jl:67\n",
      " [12] serve_notebook(pipename::String, outputchannel_logger::Base.CoreLogging.SimpleLogger; crashreporting_pipename::String)\n",
      "    @ VSCodeServer c:\\Users\\junqueg\\.vscode\\extensions\\julialang.language-julia-1.6.17\\scripts\\packages\\VSCodeServer\\src\\serve_notebook.jl:136\n",
      " [13] top-level scope\n",
      "    @ c:\\Users\\junqueg\\.vscode\\extensions\\julialang.language-julia-1.6.17\\scripts\\notebook\\notebook.jl:32\n",
      " [14] include(mod::Module, _path::String)\n",
      "    @ Base .\\Base.jl:418\n",
      " [15] exec_options(opts::Base.JLOptions)\n",
      "    @ Base .\\client.jl:292\n",
      " [16] _start()\n",
      "    @ Base .\\client.jl:495"
     ]
    }
   ],
   "source": [
    "d = DataFrame(Project=  Array{String15,1}(nothing, 10) , Month1 = Array{Int64, 1}(undef, 10))"
   ]
  },
  {
   "cell_type": "code",
   "execution_count": 71,
   "metadata": {},
   "outputs": [
    {
     "data": {
      "text/plain": [
       "7-element Vector{String15}:\n",
       " \"150171\"\n",
       " \"152242\"\n",
       " \"153804\"\n",
       " \"154558\"\n",
       " \"154662\"\n",
       " \"IND-43\"\n",
       " \"NZ430300\""
      ]
     },
     "metadata": {},
     "output_type": "display_data"
    }
   ],
   "source": [
    "append!(Tony.FwdHoursForecast.Project, t.Project)"
   ]
  },
  {
   "cell_type": "code",
   "execution_count": 72,
   "metadata": {},
   "outputs": [
    {
     "ename": "AssertionError",
     "evalue": "AssertionError: Data frame is corrupt: length of column :Month1 (0) does not match length of column 1 (7). The column vector has likely been resized unintentionally (either directly or because it is shared with another data frame).",
     "output_type": "error",
     "traceback": [
      "AssertionError: Data frame is corrupt: length of column :Month1 (0) does not match length of column 1 (7). The column vector has likely been resized unintentionally (either directly or because it is shared with another data frame).\n",
      "\n",
      "Stacktrace:\n",
      "  [1] _check_consistency(df::DataFrame)\n",
      "    @ DataFrames C:\\Users\\junqueg\\.julia\\packages\\DataFrames\\ORSVA\\src\\dataframe\\dataframe.jl:459\n",
      "  [2] _show(io::IOContext{IOBuffer}, df::DataFrame; allrows::Bool, allcols::Bool, rowlabel::Symbol, summary::Bool, eltypes::Bool, rowid::Nothing, truncate::Int64, kwargs::Base.Pairs{Symbol, Union{}, Tuple{}, NamedTuple{(), Tuple{}}})\n",
      "    @ DataFrames C:\\Users\\junqueg\\.julia\\packages\\DataFrames\\ORSVA\\src\\abstractdataframe\\show.jl:167\n",
      "  [3] #show#735\n",
      "    @ C:\\Users\\junqueg\\.julia\\packages\\DataFrames\\ORSVA\\src\\abstractdataframe\\show.jl:353 [inlined]\n",
      "  [4] show(io::IOContext{IOBuffer}, df::DataFrame)\n",
      "    @ DataFrames C:\\Users\\junqueg\\.julia\\packages\\DataFrames\\ORSVA\\src\\abstractdataframe\\show.jl:353\n",
      "  [5] #show#750\n",
      "    @ C:\\Users\\junqueg\\.julia\\packages\\DataFrames\\ORSVA\\src\\abstractdataframe\\io.jl:138 [inlined]\n",
      "  [6] show\n",
      "    @ C:\\Users\\junqueg\\.julia\\packages\\DataFrames\\ORSVA\\src\\abstractdataframe\\io.jl:138 [inlined]\n",
      "  [7] limitstringmime(mime::MIME{Symbol(\"text/plain\")}, x::DataFrame)\n",
      "    @ VSCodeServer.IJuliaCore c:\\Users\\junqueg\\.vscode\\extensions\\julialang.language-julia-1.6.17\\scripts\\packages\\IJuliaCore\\src\\inline.jl:22\n",
      "  [8] display_mimestring\n",
      "    @ c:\\Users\\junqueg\\.vscode\\extensions\\julialang.language-julia-1.6.17\\scripts\\packages\\IJuliaCore\\src\\display.jl:67 [inlined]\n",
      "  [9] display_dict(x::DataFrame)\n",
      "    @ VSCodeServer.IJuliaCore c:\\Users\\junqueg\\.vscode\\extensions\\julialang.language-julia-1.6.17\\scripts\\packages\\IJuliaCore\\src\\display.jl:98\n",
      " [10] display(#unused#::VSCodeServer.JuliaNotebookInlineDisplay, x::DataFrame)\n",
      "    @ VSCodeServer c:\\Users\\junqueg\\.vscode\\extensions\\julialang.language-julia-1.6.17\\scripts\\packages\\VSCodeServer\\src\\notebookdisplay.jl:32\n",
      " [11] display(x::Any)\n",
      "    @ Base.Multimedia .\\multimedia.jl:328\n",
      " [12] #invokelatest#2\n",
      "    @ .\\essentials.jl:716 [inlined]\n",
      " [13] invokelatest\n",
      "    @ .\\essentials.jl:714 [inlined]\n",
      " [14] (::VSCodeServer.var\"#164#165\"{VSCodeServer.NotebookRunCellArguments, String})()\n",
      "    @ VSCodeServer c:\\Users\\junqueg\\.vscode\\extensions\\julialang.language-julia-1.6.17\\scripts\\packages\\VSCodeServer\\src\\serve_notebook.jl:47\n",
      " [15] withpath(f::VSCodeServer.var\"#164#165\"{VSCodeServer.NotebookRunCellArguments, String}, path::String)\n",
      "    @ VSCodeServer c:\\Users\\junqueg\\.vscode\\extensions\\julialang.language-julia-1.6.17\\scripts\\packages\\VSCodeServer\\src\\repl.jl:184\n",
      " [16] notebook_runcell_request(conn::VSCodeServer.JSONRPC.JSONRPCEndpoint{Base.PipeEndpoint, Base.PipeEndpoint}, params::VSCodeServer.NotebookRunCellArguments)\n",
      "    @ VSCodeServer c:\\Users\\junqueg\\.vscode\\extensions\\julialang.language-julia-1.6.17\\scripts\\packages\\VSCodeServer\\src\\serve_notebook.jl:13\n",
      " [17] dispatch_msg(x::VSCodeServer.JSONRPC.JSONRPCEndpoint{Base.PipeEndpoint, Base.PipeEndpoint}, dispatcher::VSCodeServer.JSONRPC.MsgDispatcher, msg::Dict{String, Any})\n",
      "    @ VSCodeServer.JSONRPC c:\\Users\\junqueg\\.vscode\\extensions\\julialang.language-julia-1.6.17\\scripts\\packages\\JSONRPC\\src\\typed.jl:67\n",
      " [18] serve_notebook(pipename::String, outputchannel_logger::Base.CoreLogging.SimpleLogger; crashreporting_pipename::String)\n",
      "    @ VSCodeServer c:\\Users\\junqueg\\.vscode\\extensions\\julialang.language-julia-1.6.17\\scripts\\packages\\VSCodeServer\\src\\serve_notebook.jl:136\n",
      " [19] top-level scope\n",
      "    @ c:\\Users\\junqueg\\.vscode\\extensions\\julialang.language-julia-1.6.17\\scripts\\notebook\\notebook.jl:32\n",
      " [20] include(mod::Module, _path::String)\n",
      "    @ Base .\\Base.jl:418\n",
      " [21] exec_options(opts::Base.JLOptions)\n",
      "    @ Base .\\client.jl:292\n",
      " [22] _start()\n",
      "    @ Base .\\client.jl:495"
     ]
    }
   ],
   "source": [
    "Tony.FwdHoursForecast"
   ]
  },
  {
   "cell_type": "code",
   "execution_count": null,
   "metadata": {},
   "outputs": [],
   "source": []
  }
 ],
 "metadata": {
  "kernelspec": {
   "display_name": "Julia 1.7.2",
   "language": "julia",
   "name": "julia-1.7"
  },
  "language_info": {
   "file_extension": ".jl",
   "mimetype": "application/julia",
   "name": "julia",
   "version": "1.7.2"
  },
  "orig_nbformat": 4
 },
 "nbformat": 4,
 "nbformat_minor": 2
}
