{
 "cells": [
  {
   "cell_type": "code",
   "execution_count": 11,
   "metadata": {},
   "outputs": [],
   "source": [
    "using DataFrames\n",
    "using ResourceManagement\n",
    "using DataFrames\n",
    "using Test\n",
    "using CSV\n",
    "\n",
    "mutable struct  DisciplineLaborTest\n",
    "\n",
    "    \n",
    "\n",
    "\n",
    "    FwdHoursAvailable::Array        # Fwd Hours Available on a given month.\n",
    "    FwdHoursForecast::DataFrame         # Array holding Hours Forecasted Fwd monthly(future). Element [1] is the first month forecasted.   \n",
    "    RevHoursForecast::DataFrame           # Array holding Hours Forecasted Rev monthly (in past). Element [1] is the first month forecasted. \n",
    "    RevHoursAvailable::Array        # Array holding Hours Available Rev monthly (in past). Element [1] is the first month forecasted.     \n",
    "\n",
    "    FwdCostsForecast::Array          # Array holding costs Forecasted Fwd monthly (future)\n",
    "    RevCostsForecast::Array         # Array holding costs Forecasted Rev  monthly (past)\n",
    "\n",
    "    RevActualHours::DataFrame        # Array holding Hours incurred Rev monthly (in past). Element [1] is the first month Actual Hours.\n",
    "    RevActualCostHours::Array     # Array holding Hours in Dollar Amounts incurred Rev monthly (in past)\n",
    "\n",
    "    Dept::String                        # Department for Discipline\n",
    "\n",
    "    Name::String                    # name of resource\n",
    "\n",
    "    Projects::Array                 # Project for Discipline\n",
    "\n",
    "\n",
    "    \"\"\"\n",
    "        DisciplineLabor() \n",
    "\n",
    "    Standard Constructor for Discipline Labor.\n",
    "    \n",
    "\n",
    "        DisciplineLabor(Dept, N)\n",
    "    Detailed Constructor for Discipline Labor. Specifies Dept and number of months to hold forecast and actuals (N)\n",
    "\n",
    "\n",
    "    # Examples\n",
    "    ```julia\n",
    "    CE = DisciplineLabor()\n",
    "\n",
    "    ```\n",
    "    \"\"\"\n",
    "    function DisciplineLaborTest()      # standard constructor supplied, all zerors, with 24 months array as default \n",
    "\n",
    "\n",
    "        \n",
    "        new(Array{Float64, 1}(), DataFrame(Project=  Array{String15,1}(), Network=  Array{String15,1}(), Task = Array{Int64, 1}() ,Month1 = Array{Int64, 1}(), Month2 = Array{Int64, 1}(), Month3 = Array{Int64, 1}(),\n",
    "        Month4 = Array{Int64, 1}(), Month5 = Array{Int64, 1}(), Month6 = Array{Int64, 1}(), Month7 = Array{Int64, 1}(), Month8 = Array{Int64, 1}(),\n",
    "        Month9 = Array{Int64, 1}(), Month10 = Array{Int64, 1}(), Month11 = Array{Int64, 1}(), Month12 = Array{Int64, 1}(),\n",
    "        Month13 = Array{Int64, 1}(), Month14 = Array{Int64, 1}(), Month15 = Array{Int64, 1}(), Month16 = Array{Int64, 1}(), Month17 = Array{Int64, 1}(),\n",
    "        Month18 = Array{Int64, 1}(), Month19 = Array{Int64, 1}(), Month20 = Array{Int64, 1}(), Month21 = Array{Int64, 1}(), Month22 = Array{Int64, 1}(),\n",
    "        Month23 = Array{Int64, 1}(), Month24 = Array{Int64, 1}())\n",
    "        ,\n",
    "         DataFrame(Project=  Array{String15,1}(), Network=  Array{String15,1}(), Task = Array{Int64, 1}() , Month1 = Array{Int64, 1}(), Month2 = Array{Int64, 1}(), Month3 = Array{Int64, 1}(),\n",
    "         Month4 = Array{Int64, 1}(), Month5 = Array{Int64, 1}(), Month6 = Array{Int64, 1}(), Month7 = Array{Int64, 1}(), Month8 = Array{Int64, 1}(),\n",
    "            Month9 = Array{Int64, 1}(), Month10 = Array{Int64, 1}(), Month11 = Array{Int64, 1}(), Month12 = Array{Int64, 1}(),\n",
    "            Month13 = Array{Int64, 1}(), Month14 = Array{Int64, 1}(), Month15 = Array{Int64, 1}(), Month16 = Array{Int64, 1}(), Month17 = Array{Int64, 1}(),\n",
    "            Month18 = Array{Int64, 1}(), Month19 = Array{Int64, 1}(), Month20 = Array{Int64, 1}(), Month21 = Array{Int64, 1}(), Month22 = Array{Int64, 1}(),\n",
    "            Month23 = Array{Int64, 1}(), Month24 = Array{Int64, 1}())\n",
    "         , Array{Float64, 2}(undef, 24, 24),  Array{Float64, 2}(undef, 24, 24), Array{Float64, 2}(undef, 24,24) ,\n",
    "        DataFrame(Project=  Array{String15,1}(), Network=  Array{String15,1}(), Task = Array{Int64, 1}() ,Month1 = Array{Int64, 1}(), Month2 = Array{Int64, 1}(), Month3 = Array{Int64, 1}(),\n",
    "        Month4 = Array{Int64, 1}(), Month5 = Array{Int64, 1}(), Month6 = Array{Int64, 1}(), Month7 = Array{Int64, 1}(), Month8 = Array{Int64, 1}(),\n",
    "           Month9 = Array{Int64, 1}(), Month10 = Array{Int64, 1}(), Month11 = Array{Int64, 1}(), Month12 = Array{Int64, 1}(),\n",
    "           Month13 = Array{Int64, 1}(), Month14 = Array{Int64, 1}(), Month15 = Array{Int64, 1}(), Month16 = Array{Int64, 1}(), Month17 = Array{Int64, 1}(),\n",
    "           Month18 = Array{Int64, 1}(), Month19 = Array{Int64, 1}(), Month20 = Array{Int64, 1}(), Month21 = Array{Int64, 1}(), Month22 = Array{Int64, 1}(),\n",
    "           Month23 = Array{Int64, 1}(), Month24 = Array{Int64, 1}())\n",
    "           , Array{Float64, 2}(undef, 24, 24), \"430300\",\"\", Array{String, 1}())\n",
    "\n",
    "\n",
    "    end\n",
    "\n",
    "\n",
    "\n",
    "    \"\"\"\n",
    "        DisciplineLabor(Dept::String, Name::String) \n",
    "\n",
    "    Standard Constructor for Discipline Labor.\n",
    "    \n",
    "\n",
    "        DisciplineLabor(Dept, N)\n",
    "    Detailed Constructor for Discipline Labor. Specifies Dept and number of months to hold forecast and actuals (N)\n",
    "\n",
    "\n",
    "    # Examples\n",
    "    ```julia\n",
    "    CE = DisciplineLabor()\n",
    "\n",
    "    ```\n",
    "    \"\"\"\n",
    "    function DisciplineLaborTest(Dept::String, Name::String)      # standard constructor supplied, all zerors, with 24 months array as default \n",
    "\n",
    "\n",
    "        \n",
    "        new(Array{Float64, 1}(), DataFrame(Project=  Array{String15,1}(), Month1 = Array{Int64, 1}(), Month2 = Array{Int64, 1}(), Month3 = Array{Int64, 1}(),\n",
    "        Month4 = Array{Int64, 1}(), Month5 = Array{Int64, 1}(), Month6 = Array{Int64, 1}(), Month7 = Array{Int64, 1}(), Month8 = Array{Int64, 1}(),\n",
    "        Month9 = Array{Int64, 1}(), Month10 = Array{Int64, 1}(), Month11 = Array{Int64, 1}(), Month12 = Array{Int64, 1}(),\n",
    "        Month13 = Array{Int64, 1}(), Month14 = Array{Int64, 1}(), Month15 = Array{Int64, 1}(), Month16 = Array{Int64, 1}(), Month17 = Array{Int64, 1}(),\n",
    "        Month18 = Array{Int64, 1}(), Month19 = Array{Int64, 1}(), Month20 = Array{Int64, 1}(), Month21 = Array{Int64, 1}(), Month22 = Array{Int64, 1}(),\n",
    "        Month23 = Array{Int64, 1}(), Month24 = Array{Int64, 1}())\n",
    "        ,\n",
    "         DataFrame(Project=  Array{String15,1}(), Month1 = Array{Int64, 1}(), Month2 = Array{Int64, 1}(), Month3 = Array{Int64, 1}(),\n",
    "         Month4 = Array{Int64, 1}(), Month5 = Array{Int64, 1}(), Month6 = Array{Int64, 1}(), Month7 = Array{Int64, 1}(), Month8 = Array{Int64, 1}(),\n",
    "            Month9 = Array{Int64, 1}(), Month10 = Array{Int64, 1}(), Month11 = Array{Int64, 1}(), Month12 = Array{Int64, 1}(),\n",
    "            Month13 = Array{Int64, 1}(), Month14 = Array{Int64, 1}(), Month15 = Array{Int64, 1}(), Month16 = Array{Int64, 1}(), Month17 = Array{Int64, 1}(),\n",
    "            Month18 = Array{Int64, 1}(), Month19 = Array{Int64, 1}(), Month20 = Array{Int64, 1}(), Month21 = Array{Int64, 1}(), Month22 = Array{Int64, 1}(),\n",
    "            Month23 = Array{Int64, 1}(), Month24 = Array{Int64, 1}())\n",
    "         , Array{Float64, 2}(undef, 24, 24),  Array{Float64, 2}(undef, 24, 24), Array{Float64, 2}(undef, 24,24) ,\n",
    "        DataFrame(Project=  Array{String15,1}(), Month1 = Array{Int64, 1}(), Month2 = Array{Int64, 1}(), Month3 = Array{Int64, 1}(),\n",
    "        Month4 = Array{Int64, 1}(), Month5 = Array{Int64, 1}(), Month6 = Array{Int64, 1}(), Month7 = Array{Int64, 1}(), Month8 = Array{Int64, 1}(),\n",
    "           Month9 = Array{Int64, 1}(), Month10 = Array{Int64, 1}(), Month11 = Array{Int64, 1}(), Month12 = Array{Int64, 1}(),\n",
    "           Month13 = Array{Int64, 1}(), Month14 = Array{Int64, 1}(), Month15 = Array{Int64, 1}(), Month16 = Array{Int64, 1}(), Month17 = Array{Int64, 1}(),\n",
    "           Month18 = Array{Int64, 1}(), Month19 = Array{Int64, 1}(), Month20 = Array{Int64, 1}(), Month21 = Array{Int64, 1}(), Month22 = Array{Int64, 1}(),\n",
    "           Month23 = Array{Int64, 1}(), Month24 = Array{Int64, 1}())\n",
    "           , Array{Float64, 2}(undef, 24, 24), Dept,Name, Array{String, 1}())\n",
    "\n",
    "\n",
    "    end\n",
    "\n",
    "\n",
    "\n",
    "\n",
    "\n",
    "\n",
    "\n",
    "end"
   ]
  },
  {
   "cell_type": "code",
   "execution_count": 12,
   "metadata": {},
   "outputs": [],
   "source": [
    "df = ReadLaborTracker(\"C:\\\\Users\\\\junqueg\\\\OneDrive - dematic.com\\\\MyDocuments_BackUp\\\\15. Programming\\\\Projects\\\\ResourceManagement.jl\\\\src\\\\TEAM_PLANNED_FWD24_NOV.csv\"); "
   ]
  },
  {
   "cell_type": "code",
   "execution_count": 13,
   "metadata": {},
   "outputs": [
    {
     "data": {
      "text/html": [
       "<div class=\"data-frame\"><p>137 rows × 11 columns (omitted printing of 6 columns)</p><table class=\"data-frame\"><thead><tr><th></th><th>Task</th><th>Employee No</th><th>Employee Name</th><th>NOV/2021 Actual</th><th>NOV/2021 Planned</th></tr><tr><th></th><th title=\"Int64\">Int64</th><th title=\"Int64\">Int64</th><th title=\"String31\">String31</th><th title=\"Int64\">Int64</th><th title=\"Int64\">Int64</th></tr></thead><tbody><tr><th>1</th><td>2081</td><td>60000650</td><td>DYER BRENT</td><td>0</td><td>94</td></tr><tr><th>2</th><td>2020</td><td>60000650</td><td>DYER BRENT</td><td>0</td><td>118</td></tr><tr><th>3</th><td>2050</td><td>60000650</td><td>DYER BRENT</td><td>83</td><td>0</td></tr><tr><th>4</th><td>2052</td><td>60000650</td><td>DYER BRENT</td><td>40</td><td>0</td></tr><tr><th>5</th><td>2022</td><td>60000190</td><td>SOLANKI VIRAL</td><td>8</td><td>0</td></tr><tr><th>6</th><td>2050</td><td>60000190</td><td>SOLANKI VIRAL</td><td>24</td><td>0</td></tr><tr><th>7</th><td>2080</td><td>60000190</td><td>SOLANKI VIRAL</td><td>24</td><td>0</td></tr><tr><th>8</th><td>2081</td><td>60000190</td><td>SOLANKI VIRAL</td><td>0</td><td>168</td></tr><tr><th>9</th><td>2000</td><td>12573</td><td>CRAWFORD TERRY</td><td>0</td><td>20</td></tr><tr><th>10</th><td>2000</td><td>60000190</td><td>SOLANKI VIRAL</td><td>0</td><td>0</td></tr><tr><th>11</th><td>2010</td><td>11612</td><td>SHETTY RACHIT</td><td>13</td><td>0</td></tr><tr><th>12</th><td>2029</td><td>50093610</td><td>VENKATACHARI SRUTHILAYA</td><td>34</td><td>0</td></tr><tr><th>13</th><td>2085</td><td>11612</td><td>SHETTY RACHIT</td><td>38</td><td>60</td></tr><tr><th>14</th><td>2020</td><td>60001025</td><td>SHEN STEVEN</td><td>0</td><td>16</td></tr><tr><th>15</th><td>2220</td><td>50095611</td><td>THOMAS JACOB SUNIL</td><td>44</td><td>0</td></tr><tr><th>16</th><td>2081</td><td>60001025</td><td>SHEN STEVEN</td><td>0</td><td>0</td></tr><tr><th>17</th><td>2011</td><td>12685</td><td>REINHARDT ETHAN</td><td>1</td><td>0</td></tr><tr><th>18</th><td>2210</td><td>50095611</td><td>THOMAS JACOB SUNIL</td><td>59</td><td>22</td></tr><tr><th>19</th><td>2220</td><td>50095611</td><td>THOMAS JACOB SUNIL</td><td>0</td><td>0</td></tr><tr><th>20</th><td>2280</td><td>50095611</td><td>THOMAS JACOB SUNIL</td><td>50</td><td>70</td></tr><tr><th>21</th><td>2000</td><td>12685</td><td>REINHARDT ETHAN</td><td>0</td><td>0</td></tr><tr><th>22</th><td>2000</td><td>50096203</td><td>BRIONES JULITA</td><td>0</td><td>40</td></tr><tr><th>23</th><td>2000</td><td>50096728</td><td>HIGA ANTHONY</td><td>0</td><td>40</td></tr><tr><th>24</th><td>2085</td><td>60001025</td><td>SHEN STEVEN</td><td>0</td><td>0</td></tr><tr><th>&vellip;</th><td>&vellip;</td><td>&vellip;</td><td>&vellip;</td><td>&vellip;</td><td>&vellip;</td></tr></tbody></table></div>"
      ],
      "text/latex": [
       "\\begin{tabular}{r|cccccc}\n",
       "\t& Task & Employee No & Employee Name & NOV/2021 Actual & NOV/2021 Planned & \\\\\n",
       "\t\\hline\n",
       "\t& Int64 & Int64 & String31 & Int64 & Int64 & \\\\\n",
       "\t\\hline\n",
       "\t1 & 2081 & 60000650 & DYER BRENT & 0 & 94 & $\\dots$ \\\\\n",
       "\t2 & 2020 & 60000650 & DYER BRENT & 0 & 118 & $\\dots$ \\\\\n",
       "\t3 & 2050 & 60000650 & DYER BRENT & 83 & 0 & $\\dots$ \\\\\n",
       "\t4 & 2052 & 60000650 & DYER BRENT & 40 & 0 & $\\dots$ \\\\\n",
       "\t5 & 2022 & 60000190 & SOLANKI VIRAL & 8 & 0 & $\\dots$ \\\\\n",
       "\t6 & 2050 & 60000190 & SOLANKI VIRAL & 24 & 0 & $\\dots$ \\\\\n",
       "\t7 & 2080 & 60000190 & SOLANKI VIRAL & 24 & 0 & $\\dots$ \\\\\n",
       "\t8 & 2081 & 60000190 & SOLANKI VIRAL & 0 & 168 & $\\dots$ \\\\\n",
       "\t9 & 2000 & 12573 & CRAWFORD TERRY & 0 & 20 & $\\dots$ \\\\\n",
       "\t10 & 2000 & 60000190 & SOLANKI VIRAL & 0 & 0 & $\\dots$ \\\\\n",
       "\t11 & 2010 & 11612 & SHETTY RACHIT & 13 & 0 & $\\dots$ \\\\\n",
       "\t12 & 2029 & 50093610 & VENKATACHARI SRUTHILAYA & 34 & 0 & $\\dots$ \\\\\n",
       "\t13 & 2085 & 11612 & SHETTY RACHIT & 38 & 60 & $\\dots$ \\\\\n",
       "\t14 & 2020 & 60001025 & SHEN STEVEN & 0 & 16 & $\\dots$ \\\\\n",
       "\t15 & 2220 & 50095611 & THOMAS JACOB SUNIL & 44 & 0 & $\\dots$ \\\\\n",
       "\t16 & 2081 & 60001025 & SHEN STEVEN & 0 & 0 & $\\dots$ \\\\\n",
       "\t17 & 2011 & 12685 & REINHARDT ETHAN & 1 & 0 & $\\dots$ \\\\\n",
       "\t18 & 2210 & 50095611 & THOMAS JACOB SUNIL & 59 & 22 & $\\dots$ \\\\\n",
       "\t19 & 2220 & 50095611 & THOMAS JACOB SUNIL & 0 & 0 & $\\dots$ \\\\\n",
       "\t20 & 2280 & 50095611 & THOMAS JACOB SUNIL & 50 & 70 & $\\dots$ \\\\\n",
       "\t21 & 2000 & 12685 & REINHARDT ETHAN & 0 & 0 & $\\dots$ \\\\\n",
       "\t22 & 2000 & 50096203 & BRIONES JULITA & 0 & 40 & $\\dots$ \\\\\n",
       "\t23 & 2000 & 50096728 & HIGA ANTHONY & 0 & 40 & $\\dots$ \\\\\n",
       "\t24 & 2085 & 60001025 & SHEN STEVEN & 0 & 0 & $\\dots$ \\\\\n",
       "\t$\\dots$ & $\\dots$ & $\\dots$ & $\\dots$ & $\\dots$ & $\\dots$ &  \\\\\n",
       "\\end{tabular}\n"
      ],
      "text/plain": [
       "\u001b[1m137×11 DataFrame\u001b[0m\n",
       "\u001b[1m Row \u001b[0m│\u001b[1m Task  \u001b[0m\u001b[1m Employee No \u001b[0m\u001b[1m Employee Name                \u001b[0m\u001b[1m NOV/2021 Actual \u001b[0m\u001b[1m NOV/\u001b[0m ⋯\n",
       "\u001b[1m     \u001b[0m│\u001b[90m Int64 \u001b[0m\u001b[90m Int64       \u001b[0m\u001b[90m String31                     \u001b[0m\u001b[90m Int64           \u001b[0m\u001b[90m Int6\u001b[0m ⋯\n",
       "─────┼──────────────────────────────────────────────────────────────────────────\n",
       "   1 │  2081     60000650  DYER BRENT                                  0       ⋯\n",
       "   2 │  2020     60000650  DYER BRENT                                  0\n",
       "   3 │  2050     60000650  DYER BRENT                                 83\n",
       "   4 │  2052     60000650  DYER BRENT                                 40\n",
       "   5 │  2022     60000190  SOLANKI VIRAL                               8       ⋯\n",
       "   6 │  2050     60000190  SOLANKI VIRAL                              24\n",
       "   7 │  2080     60000190  SOLANKI VIRAL                              24\n",
       "   8 │  2081     60000190  SOLANKI VIRAL                               0\n",
       "  ⋮  │   ⋮         ⋮                    ⋮                       ⋮              ⋱\n",
       " 131 │    40     60000190  SOLANKI VIRAL                              24       ⋯\n",
       " 132 │    40     60000358  FOMEGANG PELAP DIDIER VALERY                0\n",
       " 133 │    40     60000462  KRISHNAKUMAR RISHIKUMAR                     0\n",
       " 134 │    40     60000650  DYER BRENT                                 20\n",
       " 135 │    40     60001025  SHEN STEVEN                                 0       ⋯\n",
       " 136 │    50        11612  SHETTY RACHIT                              11\n",
       " 137 │   111     50093610  VENKATACHARI SRUTHILAYA                     0\n",
       "\u001b[36m                                                  7 columns and 122 rows omitted\u001b[0m"
      ]
     },
     "metadata": {},
     "output_type": "display_data"
    }
   ],
   "source": [
    "df[:, 5:15]"
   ]
  },
  {
   "cell_type": "code",
   "execution_count": 14,
   "metadata": {},
   "outputs": [
    {
     "data": {
      "text/html": [
       "<div class=\"data-frame\"><p>5 rows × 79 columns (omitted printing of 74 columns)</p><table class=\"data-frame\"><thead><tr><th></th><th>Department</th><th>Project</th><th>Description</th><th>Network</th><th>Task</th></tr><tr><th></th><th title=\"String31\">String31</th><th title=\"String15\">String15</th><th title=\"Union{Missing, String63}\">String63?</th><th title=\"String15\">String15</th><th title=\"Int64\">Int64</th></tr></thead><tbody><tr><th>1</th><td>430300 ENG - Controls</td><td>142270</td><td>Pandora II (Fairburn, GA)</td><td>N142270-02</td><td>2081</td></tr><tr><th>2</th><td>430300 ENG - Controls</td><td>144553</td><td>Dot Foods - Mount Sterling, IL</td><td>N144553-02</td><td>2020</td></tr><tr><th>3</th><td>430300 ENG - Controls</td><td>144553</td><td>Dot Foods - Mount Sterling, IL</td><td>N144553-02</td><td>2050</td></tr><tr><th>4</th><td>430300 ENG - Controls</td><td>144553</td><td>Dot Foods - Mount Sterling, IL</td><td>N144553-02</td><td>2052</td></tr><tr><th>5</th><td>430300 ENG - Controls</td><td>146391</td><td>Services-CDN# 146355-Ssense</td><td>N146391-02</td><td>2022</td></tr></tbody></table></div>"
      ],
      "text/latex": [
       "\\begin{tabular}{r|cccccc}\n",
       "\t& Department & Project & Description & Network & Task & \\\\\n",
       "\t\\hline\n",
       "\t& String31 & String15 & String63? & String15 & Int64 & \\\\\n",
       "\t\\hline\n",
       "\t1 & 430300 ENG - Controls & 142270 & Pandora II (Fairburn, GA) & N142270-02 & 2081 & $\\dots$ \\\\\n",
       "\t2 & 430300 ENG - Controls & 144553 & Dot Foods - Mount Sterling, IL & N144553-02 & 2020 & $\\dots$ \\\\\n",
       "\t3 & 430300 ENG - Controls & 144553 & Dot Foods - Mount Sterling, IL & N144553-02 & 2050 & $\\dots$ \\\\\n",
       "\t4 & 430300 ENG - Controls & 144553 & Dot Foods - Mount Sterling, IL & N144553-02 & 2052 & $\\dots$ \\\\\n",
       "\t5 & 430300 ENG - Controls & 146391 & Services-CDN\\# 146355-Ssense & N146391-02 & 2022 & $\\dots$ \\\\\n",
       "\\end{tabular}\n"
      ],
      "text/plain": [
       "\u001b[1m5×79 DataFrame\u001b[0m\n",
       "\u001b[1m Row \u001b[0m│\u001b[1m Department            \u001b[0m\u001b[1m Project  \u001b[0m\u001b[1m Description                    \u001b[0m\u001b[1m Networ\u001b[0m ⋯\n",
       "\u001b[1m     \u001b[0m│\u001b[90m String31              \u001b[0m\u001b[90m String15 \u001b[0m\u001b[90m String63?                      \u001b[0m\u001b[90m String\u001b[0m ⋯\n",
       "─────┼──────────────────────────────────────────────────────────────────────────\n",
       "   1 │ 430300 ENG - Controls  142270    Pandora II (Fairburn, GA)       N14227 ⋯\n",
       "   2 │ 430300 ENG - Controls  144553    Dot Foods - Mount Sterling, IL  N14455\n",
       "   3 │ 430300 ENG - Controls  144553    Dot Foods - Mount Sterling, IL  N14455\n",
       "   4 │ 430300 ENG - Controls  144553    Dot Foods - Mount Sterling, IL  N14455\n",
       "   5 │ 430300 ENG - Controls  146391    Services-CDN# 146355-Ssense     N14639 ⋯\n",
       "\u001b[36m                                                              76 columns omitted\u001b[0m"
      ]
     },
     "metadata": {},
     "output_type": "display_data"
    }
   ],
   "source": [
    "first(df,5)"
   ]
  },
  {
   "cell_type": "code",
   "execution_count": 15,
   "metadata": {},
   "outputs": [
    {
     "name": "stdout",
     "output_type": "stream",
     "text": [
      "Department\n",
      "Project\n",
      "Description\n",
      "Network\n",
      "Task\n",
      "Employee No\n",
      "Employee Name\n",
      "NOV/2021 Actual\n",
      "NOV/2021 Planned\n",
      "NOV/2021 Difference\n",
      "DEC/2021 Actual\n",
      "DEC/2021 Planned\n",
      "DEC/2021 Difference\n",
      "JAN/2022 Actual\n",
      "JAN/2022 Planned\n",
      "JAN/2022 Difference\n",
      "FEB/2022 Actual\n",
      "FEB/2022 Planned\n",
      "FEB/2022 Difference\n",
      "MAR/2022 Actual\n",
      "MAR/2022 Planned\n",
      "MAR/2022 Difference\n",
      "APR/2022 Actual\n",
      "APR/2022 Planned\n",
      "APR/2022 Difference\n",
      "MAY/2022 Actual\n",
      "MAY/2022 Planned\n",
      "MAY/2022 Difference\n",
      "JUN/2022 Actual\n",
      "JUN/2022 Planned\n",
      "JUN/2022 Difference\n",
      "JUL/2022 Actual\n",
      "JUL/2022 Planned\n",
      "JUL/2022 Difference\n",
      "AUG/2022 Actual\n",
      "AUG/2022 Planned\n",
      "AUG/2022 Difference\n",
      "SEP/2022 Actual\n",
      "SEP/2022 Planned\n",
      "SEP/2022 Difference\n",
      "OCT/2022 Actual\n",
      "OCT/2022 Planned\n",
      "OCT/2022 Difference\n",
      "NOV/2022 Actual\n",
      "NOV/2022 Planned\n",
      "NOV/2022 Difference\n",
      "DEC/2022 Actual\n",
      "DEC/2022 Planned\n",
      "DEC/2022 Difference\n",
      "JAN/2023 Actual\n",
      "JAN/2023 Planned\n",
      "JAN/2023 Difference\n",
      "FEB/2023 Actual\n",
      "FEB/2023 Planned\n",
      "FEB/2023 Difference\n",
      "MAR/2023 Actual\n",
      "MAR/2023 Planned\n",
      "MAR/2023 Difference\n",
      "APR/2023 Actual\n",
      "APR/2023 Planned\n",
      "APR/2023 Difference\n",
      "MAY/2023 Actual\n",
      "MAY/2023 Planned\n",
      "MAY/2023 Difference\n",
      "JUN/2023 Actual\n",
      "JUN/2023 Planned\n",
      "JUN/2023 Difference\n",
      "JUL/2023 Actual\n",
      "JUL/2023 Planned\n",
      "JUL/2023 Difference\n",
      "AUG/2023 Actual\n",
      "AUG/2023 Planned\n",
      "AUG/2023 Difference\n",
      "SEP/2023 Actual\n",
      "SEP/2023 Planned\n",
      "SEP/2023 Difference\n",
      "OCT/2023 Actual\n",
      "OCT/2023 Planned\n",
      "OCT/2023 Difference\n"
     ]
    }
   ],
   "source": [
    "for nam in names(df)\n",
    "    println(nam)\n",
    "end"
   ]
  },
  {
   "cell_type": "code",
   "execution_count": 16,
   "metadata": {},
   "outputs": [
    {
     "data": {
      "text/plain": [
       "_getEmployeeHoursFromDf (generic function with 2 methods)"
      ]
     },
     "metadata": {},
     "output_type": "display_data"
    }
   ],
   "source": [
    "function _getEmployeeHoursFromDf(df::DataFrame, name::String, col::Symbol, m::Int=24)\n",
    "\n",
    "    if col == :plan\n",
    "        startcol = 9 #this matchs for both Fwd and Rev Sap Report\n",
    "    elseif col == :actual\n",
    "        startcol = 8\n",
    "    else \n",
    "        startcol = 9 #defaults to plan\n",
    "    end\n",
    "    \n",
    "\n",
    "\n",
    "    filter = (df.\"Employee Name\").==name\n",
    "    df = df[filter,:]\n",
    "    cols = [startcol+3*cols for cols in 0: m-1]\n",
    "    numbercols = [numbercols for numbercols in 2:m ]\n",
    "\n",
    "    dfg = groupby(df, [:\"Project\", :\"Network\", :\"Task\"]);\n",
    "    \n",
    "\n",
    "    dfg_hours_per_month_per_name = combine(dfg, cols .=>sum)\n",
    "\n",
    "    return dfg_hours_per_month_per_name\n",
    "end"
   ]
  },
  {
   "cell_type": "code",
   "execution_count": 17,
   "metadata": {},
   "outputs": [
    {
     "data": {
      "text/html": [
       "<div class=\"data-frame\"><p>10 rows × 27 columns (omitted printing of 21 columns)</p><table class=\"data-frame\"><thead><tr><th></th><th>Project</th><th>Network</th><th>Task</th><th>NOV/2021 Planned_sum</th><th>DEC/2021 Planned_sum</th><th>JAN/2022 Planned_sum</th></tr><tr><th></th><th title=\"String15\">String15</th><th title=\"String15\">String15</th><th title=\"Int64\">Int64</th><th title=\"Int64\">Int64</th><th title=\"Int64\">Int64</th><th title=\"Int64\">Int64</th></tr></thead><tbody><tr><th>1</th><td>150171</td><td>N150171-NB</td><td>2000</td><td>40</td><td>0</td><td>0</td></tr><tr><th>2</th><td>152242</td><td>N152242-02</td><td>2081</td><td>0</td><td>0</td><td>0</td></tr><tr><th>3</th><td>153804</td><td>N153804-02</td><td>2081</td><td>0</td><td>0</td><td>120</td></tr><tr><th>4</th><td>154558</td><td>N154558-02</td><td>2020</td><td>120</td><td>80</td><td>0</td></tr><tr><th>5</th><td>154558</td><td>N154558-02</td><td>2050</td><td>0</td><td>0</td><td>0</td></tr><tr><th>6</th><td>154662</td><td>N154662-02</td><td>2000</td><td>0</td><td>0</td><td>0</td></tr><tr><th>7</th><td>IND-43</td><td>NZ430300-00</td><td>20</td><td>0</td><td>0</td><td>0</td></tr><tr><th>8</th><td>IND-43</td><td>NZ430300-00</td><td>50</td><td>0</td><td>0</td><td>0</td></tr><tr><th>9</th><td>NZ430300</td><td>NZ430300-00</td><td>31</td><td>8</td><td>0</td><td>0</td></tr><tr><th>10</th><td>NZ430300</td><td>NZ430300-00</td><td>40</td><td>0</td><td>40</td><td>0</td></tr></tbody></table></div>"
      ],
      "text/latex": [
       "\\begin{tabular}{r|ccccccc}\n",
       "\t& Project & Network & Task & NOV/2021 Planned\\_sum & DEC/2021 Planned\\_sum & JAN/2022 Planned\\_sum & \\\\\n",
       "\t\\hline\n",
       "\t& String15 & String15 & Int64 & Int64 & Int64 & Int64 & \\\\\n",
       "\t\\hline\n",
       "\t1 & 150171 & N150171-NB & 2000 & 40 & 0 & 0 & $\\dots$ \\\\\n",
       "\t2 & 152242 & N152242-02 & 2081 & 0 & 0 & 0 & $\\dots$ \\\\\n",
       "\t3 & 153804 & N153804-02 & 2081 & 0 & 0 & 120 & $\\dots$ \\\\\n",
       "\t4 & 154558 & N154558-02 & 2020 & 120 & 80 & 0 & $\\dots$ \\\\\n",
       "\t5 & 154558 & N154558-02 & 2050 & 0 & 0 & 0 & $\\dots$ \\\\\n",
       "\t6 & 154662 & N154662-02 & 2000 & 0 & 0 & 0 & $\\dots$ \\\\\n",
       "\t7 & IND-43 & NZ430300-00 & 20 & 0 & 0 & 0 & $\\dots$ \\\\\n",
       "\t8 & IND-43 & NZ430300-00 & 50 & 0 & 0 & 0 & $\\dots$ \\\\\n",
       "\t9 & NZ430300 & NZ430300-00 & 31 & 8 & 0 & 0 & $\\dots$ \\\\\n",
       "\t10 & NZ430300 & NZ430300-00 & 40 & 0 & 40 & 0 & $\\dots$ \\\\\n",
       "\\end{tabular}\n"
      ],
      "text/plain": [
       "\u001b[1m10×27 DataFrame\u001b[0m\n",
       "\u001b[1m Row \u001b[0m│\u001b[1m Project  \u001b[0m\u001b[1m Network     \u001b[0m\u001b[1m Task  \u001b[0m\u001b[1m NOV/2021 Planned_sum \u001b[0m\u001b[1m DEC/2021 Planned_su\u001b[0m ⋯\n",
       "\u001b[1m     \u001b[0m│\u001b[90m String15 \u001b[0m\u001b[90m String15    \u001b[0m\u001b[90m Int64 \u001b[0m\u001b[90m Int64                \u001b[0m\u001b[90m Int64              \u001b[0m ⋯\n",
       "─────┼──────────────────────────────────────────────────────────────────────────\n",
       "   1 │ 150171    N150171-NB    2000                    40                      ⋯\n",
       "   2 │ 152242    N152242-02    2081                     0\n",
       "   3 │ 153804    N153804-02    2081                     0\n",
       "   4 │ 154558    N154558-02    2020                   120                    8\n",
       "   5 │ 154558    N154558-02    2050                     0                      ⋯\n",
       "   6 │ 154662    N154662-02    2000                     0\n",
       "   7 │ IND-43    NZ430300-00     20                     0\n",
       "   8 │ IND-43    NZ430300-00     50                     0\n",
       "   9 │ NZ430300  NZ430300-00     31                     8                      ⋯\n",
       "  10 │ NZ430300  NZ430300-00     40                     0                    4\n",
       "\u001b[36m                                                              23 columns omitted\u001b[0m"
      ]
     },
     "metadata": {},
     "output_type": "display_data"
    }
   ],
   "source": [
    "t = _getEmployeeHoursFromDf(df, \"HIGA ANTHONY\", :plan) #default m=24 months"
   ]
  },
  {
   "cell_type": "code",
   "execution_count": 18,
   "metadata": {},
   "outputs": [
    {
     "data": {
      "text/html": [
       "<div class=\"data-frame\"><p>10 rows × 27 columns (omitted printing of 21 columns)</p><table class=\"data-frame\"><thead><tr><th></th><th>Project</th><th>Network</th><th>Task</th><th>NOV/2021 Planned_sum</th><th>DEC/2021 Planned_sum</th><th>JAN/2022 Planned_sum</th></tr><tr><th></th><th title=\"String15\">String15</th><th title=\"String15\">String15</th><th title=\"Int64\">Int64</th><th title=\"Int64\">Int64</th><th title=\"Int64\">Int64</th><th title=\"Int64\">Int64</th></tr></thead><tbody><tr><th>1</th><td>150171</td><td>N150171-NB</td><td>2000</td><td>40</td><td>0</td><td>0</td></tr><tr><th>2</th><td>152242</td><td>N152242-02</td><td>2081</td><td>0</td><td>0</td><td>0</td></tr><tr><th>3</th><td>153804</td><td>N153804-02</td><td>2081</td><td>0</td><td>0</td><td>120</td></tr><tr><th>4</th><td>154558</td><td>N154558-02</td><td>2020</td><td>120</td><td>80</td><td>0</td></tr><tr><th>5</th><td>154558</td><td>N154558-02</td><td>2050</td><td>0</td><td>0</td><td>0</td></tr><tr><th>6</th><td>154662</td><td>N154662-02</td><td>2000</td><td>0</td><td>0</td><td>0</td></tr><tr><th>7</th><td>IND-43</td><td>NZ430300-00</td><td>20</td><td>0</td><td>0</td><td>0</td></tr><tr><th>8</th><td>IND-43</td><td>NZ430300-00</td><td>50</td><td>0</td><td>0</td><td>0</td></tr><tr><th>9</th><td>NZ430300</td><td>NZ430300-00</td><td>31</td><td>8</td><td>0</td><td>0</td></tr><tr><th>10</th><td>NZ430300</td><td>NZ430300-00</td><td>40</td><td>0</td><td>40</td><td>0</td></tr></tbody></table></div>"
      ],
      "text/latex": [
       "\\begin{tabular}{r|ccccccc}\n",
       "\t& Project & Network & Task & NOV/2021 Planned\\_sum & DEC/2021 Planned\\_sum & JAN/2022 Planned\\_sum & \\\\\n",
       "\t\\hline\n",
       "\t& String15 & String15 & Int64 & Int64 & Int64 & Int64 & \\\\\n",
       "\t\\hline\n",
       "\t1 & 150171 & N150171-NB & 2000 & 40 & 0 & 0 & $\\dots$ \\\\\n",
       "\t2 & 152242 & N152242-02 & 2081 & 0 & 0 & 0 & $\\dots$ \\\\\n",
       "\t3 & 153804 & N153804-02 & 2081 & 0 & 0 & 120 & $\\dots$ \\\\\n",
       "\t4 & 154558 & N154558-02 & 2020 & 120 & 80 & 0 & $\\dots$ \\\\\n",
       "\t5 & 154558 & N154558-02 & 2050 & 0 & 0 & 0 & $\\dots$ \\\\\n",
       "\t6 & 154662 & N154662-02 & 2000 & 0 & 0 & 0 & $\\dots$ \\\\\n",
       "\t7 & IND-43 & NZ430300-00 & 20 & 0 & 0 & 0 & $\\dots$ \\\\\n",
       "\t8 & IND-43 & NZ430300-00 & 50 & 0 & 0 & 0 & $\\dots$ \\\\\n",
       "\t9 & NZ430300 & NZ430300-00 & 31 & 8 & 0 & 0 & $\\dots$ \\\\\n",
       "\t10 & NZ430300 & NZ430300-00 & 40 & 0 & 40 & 0 & $\\dots$ \\\\\n",
       "\\end{tabular}\n"
      ],
      "text/plain": [
       "\u001b[1m10×27 DataFrame\u001b[0m\n",
       "\u001b[1m Row \u001b[0m│\u001b[1m Project  \u001b[0m\u001b[1m Network     \u001b[0m\u001b[1m Task  \u001b[0m\u001b[1m NOV/2021 Planned_sum \u001b[0m\u001b[1m DEC/2021 Planned_su\u001b[0m ⋯\n",
       "\u001b[1m     \u001b[0m│\u001b[90m String15 \u001b[0m\u001b[90m String15    \u001b[0m\u001b[90m Int64 \u001b[0m\u001b[90m Int64                \u001b[0m\u001b[90m Int64              \u001b[0m ⋯\n",
       "─────┼──────────────────────────────────────────────────────────────────────────\n",
       "   1 │ 150171    N150171-NB    2000                    40                      ⋯\n",
       "   2 │ 152242    N152242-02    2081                     0\n",
       "   3 │ 153804    N153804-02    2081                     0\n",
       "   4 │ 154558    N154558-02    2020                   120                    8\n",
       "   5 │ 154558    N154558-02    2050                     0                      ⋯\n",
       "   6 │ 154662    N154662-02    2000                     0\n",
       "   7 │ IND-43    NZ430300-00     20                     0\n",
       "   8 │ IND-43    NZ430300-00     50                     0\n",
       "   9 │ NZ430300  NZ430300-00     31                     8                      ⋯\n",
       "  10 │ NZ430300  NZ430300-00     40                     0                    4\n",
       "\u001b[36m                                                              23 columns omitted\u001b[0m"
      ]
     },
     "metadata": {},
     "output_type": "display_data"
    }
   ],
   "source": [
    "t"
   ]
  },
  {
   "cell_type": "code",
   "execution_count": 19,
   "metadata": {},
   "outputs": [
    {
     "data": {
      "text/plain": [
       "fetchAndWritePlannedHours2! (generic function with 2 methods)"
      ]
     },
     "metadata": {},
     "output_type": "display_data"
    }
   ],
   "source": [
    "function fetchAndWritePlannedHours2!(df::DataFrame, name::String, D::DisciplineLaborTest, target::Symbol, m::Int=24)\n",
    "\n",
    "    df2 = _getEmployeeHoursFromDf(df, name, :plan, m)\n",
    "    rename!(df2, names(df2) .=> names(D.FwdHoursForecast))\n",
    "    \n",
    "    try\n",
    "        \n",
    "        [push!(D.Projects, p) for p in df2.Project if p ∉ D.Projects];\n",
    "    catch\n",
    "        @warn(\"undefined Projects\")\n",
    "    end\n",
    "\n",
    "    if target == :fwd\n",
    "        append!(D.FwdHoursForecast, df2, cols = :intersect)\n",
    "    elseif target == :rev\n",
    "        D.RevHoursForecast = copy(df2)\n",
    "    end\n",
    "    \n",
    "   \n",
    "    \n",
    "    return D\n",
    "end"
   ]
  },
  {
   "cell_type": "code",
   "execution_count": 20,
   "metadata": {},
   "outputs": [
    {
     "data": {
      "text/plain": [
       "DisciplineLaborTest(Float64[], \u001b[1m0×27 DataFrame\u001b[0m, \u001b[1m0×27 DataFrame\u001b[0m, [-5.87747455983167e-39 -2.277425302554542e17 … 9.03218324e-316 9.03225913e-316; 4.611815054451001e43 8.531701000409265e-269 … 9.0321864e-316 9.0322623e-316; … ; 1.9028592405004664e-72 1.3853481937768665e134 … 9.0322528e-316 9.03052753e-316; 3.782287284846024e-309 1.0841382290721149e146 … 9.03052753e-316 9.03052753e-316], [1.2255816363e-314 1.2276659767e-314 … 9.03827843e-316 1.2076304923e-314; 4.0e-323 1.2276659767e-314 … 3.5e-323 9.03827843e-316; … ; 0.0 NaN … 3.034e-321 2.1219957905e-314; 0.0 0.0 … 2.35541532797e-312 0.0], [9.97338021986e-313 2.1219957914e-313 … 0.0 0.0; 1.294417432756e-312 2.33419537426e-313 … 0.0 0.0; … ; 3.0e-323 2.482735076007e-312 … 0.0 0.0; 1.6975966369e-313 2.54639494974e-312 … 0.0 0.0], \u001b[1m0×27 DataFrame\u001b[0m, [0.0 0.0 … 0.0 NaN; 1.162038743e-314 0.0 … 1.16204083e-314 2.1219957905e-314; … ; 0.0 1.162038909e-314 … 0.0 0.0; 5.0e-324 0.0 … 0.0 1.162040992e-314], \"430300\", \"\", String[])"
      ]
     },
     "metadata": {},
     "output_type": "display_data"
    }
   ],
   "source": [
    "Tony = DisciplineLaborTest()"
   ]
  },
  {
   "cell_type": "code",
   "execution_count": 21,
   "metadata": {},
   "outputs": [
    {
     "data": {
      "text/html": [
       "<div class=\"data-frame\"><p>0 rows × 27 columns (omitted printing of 17 columns)</p><table class=\"data-frame\"><thead><tr><th></th><th>Project</th><th>Network</th><th>Task</th><th>Month1</th><th>Month2</th><th>Month3</th><th>Month4</th><th>Month5</th><th>Month6</th><th>Month7</th></tr><tr><th></th><th title=\"String15\">String15</th><th title=\"String15\">String15</th><th title=\"Int64\">Int64</th><th title=\"Int64\">Int64</th><th title=\"Int64\">Int64</th><th title=\"Int64\">Int64</th><th title=\"Int64\">Int64</th><th title=\"Int64\">Int64</th><th title=\"Int64\">Int64</th><th title=\"Int64\">Int64</th></tr></thead><tbody></tbody></table></div>"
      ],
      "text/latex": [
       "\\begin{tabular}{r|ccccccccccc}\n",
       "\t& Project & Network & Task & Month1 & Month2 & Month3 & Month4 & Month5 & Month6 & Month7 & \\\\\n",
       "\t\\hline\n",
       "\t& String15 & String15 & Int64 & Int64 & Int64 & Int64 & Int64 & Int64 & Int64 & Int64 & \\\\\n",
       "\t\\hline\n",
       "\\end{tabular}\n"
      ],
      "text/plain": [
       "\u001b[1m0×27 DataFrame\u001b[0m"
      ]
     },
     "metadata": {},
     "output_type": "display_data"
    }
   ],
   "source": [
    "Tony.FwdHoursForecast"
   ]
  },
  {
   "cell_type": "code",
   "execution_count": 22,
   "metadata": {},
   "outputs": [
    {
     "name": "stdout",
     "output_type": "stream",
     "text": [
      "Project\n",
      "Network\n",
      "Task\n",
      "Month1\n",
      "Month2\n",
      "Month3\n",
      "Month4\n",
      "Month5\n",
      "Month6\n",
      "Month7\n",
      "Month8\n",
      "Month9\n",
      "Month10\n",
      "Month11\n",
      "Month12\n",
      "Month13\n",
      "Month14\n",
      "Month15\n",
      "Month16\n",
      "Month17\n",
      "Month18\n",
      "Month19\n",
      "Month20\n",
      "Month21\n",
      "Month22\n",
      "Month23\n",
      "Month24\n"
     ]
    }
   ],
   "source": [
    "for na in names(Tony.FwdHoursForecast)\n",
    "    println(na)\n",
    "end"
   ]
  },
  {
   "cell_type": "code",
   "execution_count": 23,
   "metadata": {},
   "outputs": [
    {
     "data": {
      "text/plain": [
       "DisciplineLaborTest(Float64[], \u001b[1m0×27 DataFrame\u001b[0m, \u001b[1m0×27 DataFrame\u001b[0m, [9.34e-322 7.884378455060531e291 … 8.487983164e-314 0.0; 2.1810600841198036e70 -1.8005683406214716e-153 … 0.0 0.0; … ; -2.277425302554542e17 1.619387284e-314 … NaN 0.0; 8.531701000409265e-269 0.0 … 2.1219957905e-314 1.1620289644e-314], [0.0 0.0 … 0.0 NaN; 1.162029099e-314 0.0 … 1.1620311857e-314 2.1219957905e-314; … ; 0.0 1.162029265e-314 … 0.0 9.8e-322; 5.0e-324 0.0 … 0.0 1.1652558415e-314], [1.406351853e-315 1.4086074e-315 … 1.401119263e-315 0.0; 1.413477544e-315 1.4086074e-315 … 1.400314924e-315 0.0; … ; 1.406402445e-315 1.417350466e-315 … 0.0 0.0; 1.400314924e-315 1.40075065e-315 … 0.0 0.0], \u001b[1m0×27 DataFrame\u001b[0m, [1.162041067e-314 0.0 … 0.0 0.0; 0.0 1.0e-323 … 0.0 0.0; … ; 0.0 5.0e-324 … 0.0 2.1219957905e-314; 0.0 1.159886336e-314 … 0.0 0.0], \"430300\", \"\", String[])"
      ]
     },
     "metadata": {},
     "output_type": "display_data"
    }
   ],
   "source": [
    "Julie = DisciplineLaborTest()"
   ]
  },
  {
   "cell_type": "code",
   "execution_count": 22,
   "metadata": {},
   "outputs": [
    {
     "data": {
      "text/plain": [
       "DisciplineLaborTest(Float64[], \u001b[1m0×25 DataFrame\u001b[0m, \u001b[1m0×25 DataFrame\u001b[0m, [0.0 2.121995792e-314 … 1.07928759e-315 1.079299447e-315; 0.0 1.224451989e-314 … 1.079287826e-315 1.07929992e-315; … ; 1.2279547087e-314 0.0 … 1.07929897e-315 0.0; 1.2279547087e-314 0.0 … 1.07929921e-315 0.0], [1.224449143e-314 1.227954535e-314 … 1.07928759e-315 1.079299447e-315; NaN 1.229143806e-314 … 1.079287826e-315 1.07929992e-315; … ; 0.0 NaN … 1.07929897e-315 9.1729955e-316; 0.0 0.0 … 1.07929921e-315 8.06358400755e-313], [1.410185407e-315 1.2281249123e-314 … 0.0 0.0; 8.82751026e-315 1.2281249123e-314 … 0.0 1.41784279e-315; … ; 5.0e-324 0.0 … 1.228128011e-314 1.415417997e-315; 1.97042905e-316 0.0 … 0.0 1.265e-321], \u001b[1m0×25 DataFrame\u001b[0m, [1.0700474153e-314 1.070121438e-314 … 0.0 0.0; 1.0700474943e-314 1.070121533e-314 … 0.0 0.0; … ; 1.069675198e-314 1.0708573984e-314 … 0.0 1.1628800814e-314; 1.0701214224e-314 9.906208055e-315 … 0.0 1.3961246907498e-309], \"430300\", \"Anthony Higa\", String[])"
      ]
     },
     "metadata": {},
     "output_type": "display_data"
    }
   ],
   "source": [
    "Tony2 = DisciplineLaborTest(\"430300\", \"Anthony Higa\")"
   ]
  },
  {
   "cell_type": "code",
   "execution_count": 23,
   "metadata": {},
   "outputs": [
    {
     "data": {
      "text/plain": [
       "\"430300\""
      ]
     },
     "metadata": {},
     "output_type": "display_data"
    }
   ],
   "source": [
    "Tony2.Dept"
   ]
  },
  {
   "cell_type": "code",
   "execution_count": 24,
   "metadata": {},
   "outputs": [
    {
     "data": {
      "text/plain": [
       "\"Anthony Higa\""
      ]
     },
     "metadata": {},
     "output_type": "display_data"
    }
   ],
   "source": [
    "Tony2.Name"
   ]
  },
  {
   "cell_type": "code",
   "execution_count": 24,
   "metadata": {},
   "outputs": [],
   "source": [
    "fetchAndWritePlannedHours2!(df, \"HIGA ANTHONY\", Tony, :fwd);"
   ]
  },
  {
   "cell_type": "code",
   "execution_count": 25,
   "metadata": {},
   "outputs": [
    {
     "data": {
      "text/plain": [
       "DisciplineLaborTest(Float64[], \u001b[1m21×27 DataFrame\u001b[0m\n",
       "\u001b[1m Row \u001b[0m│\u001b[1m Project  \u001b[0m\u001b[1m Network     \u001b[0m\u001b[1m Task  \u001b[0m\u001b[1m Month1 \u001b[0m\u001b[1m Month2 \u001b[0m\u001b[1m Month3 \u001b[0m\u001b[1m Month4 \u001b[0m\u001b[1m Month5 \u001b[0m\u001b[1m M\u001b[0m ⋯\n",
       "\u001b[1m     \u001b[0m│\u001b[90m String15 \u001b[0m\u001b[90m String15    \u001b[0m\u001b[90m Int64 \u001b[0m\u001b[90m Int64  \u001b[0m\u001b[90m Int64  \u001b[0m\u001b[90m Int64  \u001b[0m\u001b[90m Int64  \u001b[0m\u001b[90m Int64  \u001b[0m\u001b[90m I\u001b[0m ⋯\n",
       "─────┼──────────────────────────────────────────────────────────────────────────\n",
       "   1 │ 150171    N150171-NB    2000      40       0       0       0       0    ⋯\n",
       "   2 │ 150547    N150547-02    2050      56       0       0       0       0\n",
       "   3 │ 150547    N150547-02    2051      10       0       0       0       0\n",
       "   4 │ 150547    N150547-02    2052       0      11       0       0       0\n",
       "   5 │ 150547    N150547-02    2081       0       0      50     100      50    ⋯\n",
       "   6 │ 152242    N152242-02    2011       2       2       0       0       0\n",
       "   7 │ 152242    N152242-NB    2000       0       0       0       0       0\n",
       "   8 │ 154662    N154662-02    2000       0       0       0       0       0\n",
       "  ⋮  │    ⋮           ⋮         ⋮      ⋮       ⋮       ⋮       ⋮       ⋮       ⋱\n",
       "  15 │ 156257    N156257-02    2060       7       0       0       0       0    ⋯\n",
       "  16 │ 156257    N156257-02    2081       0      60       0       0       0\n",
       "  17 │ 156257    N156257-02    2085       0      16       0       0       0\n",
       "  18 │ IND-43    NZ430300-00     30       0       0       0       0       0\n",
       "  19 │ NZ430300  NZ430300-00     20       0       0       0       0       0    ⋯\n",
       "  20 │ NZ430300  NZ430300-00     31       8       0       0       0       0\n",
       "  21 │ NZ430300  NZ430300-00     40       0      16       0       0       0\n",
       "\u001b[36m                                                   19 columns and 6 rows omitted\u001b[0m, \u001b[1m0×27 DataFrame\u001b[0m, [9.34e-322 7.884378455060531e291 … 8.487983164e-314 0.0; 2.1810600841198036e70 -1.8005683406214716e-153 … 0.0 0.0; … ; -2.277425302554542e17 1.619387284e-314 … NaN 0.0; 8.531701000409265e-269 0.0 … 2.1219957905e-314 1.1620289644e-314], [0.0 0.0 … 0.0 NaN; 1.162029099e-314 0.0 … 1.1620311857e-314 2.1219957905e-314; … ; 0.0 1.162029265e-314 … 0.0 9.8e-322; 5.0e-324 0.0 … 0.0 1.1652558415e-314], [1.406351853e-315 1.4086074e-315 … 1.401119263e-315 0.0; 1.413477544e-315 1.4086074e-315 … 1.400314924e-315 0.0; … ; 1.406402445e-315 1.417350466e-315 … 0.0 0.0; 1.400314924e-315 1.40075065e-315 … 0.0 0.0], \u001b[1m0×27 DataFrame\u001b[0m, [1.162041067e-314 0.0 … 0.0 0.0; 0.0 1.0e-323 … 0.0 0.0; … ; 0.0 5.0e-324 … 0.0 2.1219957905e-314; 0.0 1.159886336e-314 … 0.0 0.0], \"430300\", \"\", [\"150171\", \"150547\", \"152242\", \"154662\", \"154671\", \"156257\", \"IND-43\", \"NZ430300\"])"
      ]
     },
     "metadata": {},
     "output_type": "display_data"
    }
   ],
   "source": [
    "fetchAndWritePlannedHours2!(df, \"BRIONES JULITA\", Julie, :fwd)"
   ]
  },
  {
   "cell_type": "code",
   "execution_count": 28,
   "metadata": {},
   "outputs": [
    {
     "data": {
      "text/html": [
       "<div class=\"data-frame\"><p>10 rows × 27 columns (omitted printing of 17 columns)</p><table class=\"data-frame\"><thead><tr><th></th><th>Project</th><th>Network</th><th>Task</th><th>Month1</th><th>Month2</th><th>Month3</th><th>Month4</th><th>Month5</th><th>Month6</th><th>Month7</th></tr><tr><th></th><th title=\"String15\">String15</th><th title=\"String15\">String15</th><th title=\"Int64\">Int64</th><th title=\"Int64\">Int64</th><th title=\"Int64\">Int64</th><th title=\"Int64\">Int64</th><th title=\"Int64\">Int64</th><th title=\"Int64\">Int64</th><th title=\"Int64\">Int64</th><th title=\"Int64\">Int64</th></tr></thead><tbody><tr><th>1</th><td>150171</td><td>N150171-NB</td><td>2000</td><td>40</td><td>0</td><td>0</td><td>0</td><td>0</td><td>0</td><td>0</td></tr><tr><th>2</th><td>152242</td><td>N152242-02</td><td>2081</td><td>0</td><td>0</td><td>0</td><td>0</td><td>0</td><td>0</td><td>168</td></tr><tr><th>3</th><td>153804</td><td>N153804-02</td><td>2081</td><td>0</td><td>0</td><td>120</td><td>120</td><td>0</td><td>0</td><td>0</td></tr><tr><th>4</th><td>154558</td><td>N154558-02</td><td>2020</td><td>120</td><td>80</td><td>0</td><td>0</td><td>0</td><td>0</td><td>0</td></tr><tr><th>5</th><td>154558</td><td>N154558-02</td><td>2050</td><td>0</td><td>0</td><td>0</td><td>0</td><td>0</td><td>0</td><td>0</td></tr><tr><th>6</th><td>154662</td><td>N154662-02</td><td>2000</td><td>0</td><td>0</td><td>0</td><td>0</td><td>184</td><td>168</td><td>0</td></tr><tr><th>7</th><td>IND-43</td><td>NZ430300-00</td><td>20</td><td>0</td><td>0</td><td>0</td><td>0</td><td>0</td><td>0</td><td>0</td></tr><tr><th>8</th><td>IND-43</td><td>NZ430300-00</td><td>50</td><td>0</td><td>0</td><td>0</td><td>0</td><td>0</td><td>0</td><td>0</td></tr><tr><th>9</th><td>NZ430300</td><td>NZ430300-00</td><td>31</td><td>8</td><td>0</td><td>0</td><td>0</td><td>0</td><td>0</td><td>0</td></tr><tr><th>10</th><td>NZ430300</td><td>NZ430300-00</td><td>40</td><td>0</td><td>40</td><td>0</td><td>0</td><td>0</td><td>0</td><td>0</td></tr></tbody></table></div>"
      ],
      "text/latex": [
       "\\begin{tabular}{r|ccccccccccc}\n",
       "\t& Project & Network & Task & Month1 & Month2 & Month3 & Month4 & Month5 & Month6 & Month7 & \\\\\n",
       "\t\\hline\n",
       "\t& String15 & String15 & Int64 & Int64 & Int64 & Int64 & Int64 & Int64 & Int64 & Int64 & \\\\\n",
       "\t\\hline\n",
       "\t1 & 150171 & N150171-NB & 2000 & 40 & 0 & 0 & 0 & 0 & 0 & 0 & $\\dots$ \\\\\n",
       "\t2 & 152242 & N152242-02 & 2081 & 0 & 0 & 0 & 0 & 0 & 0 & 168 & $\\dots$ \\\\\n",
       "\t3 & 153804 & N153804-02 & 2081 & 0 & 0 & 120 & 120 & 0 & 0 & 0 & $\\dots$ \\\\\n",
       "\t4 & 154558 & N154558-02 & 2020 & 120 & 80 & 0 & 0 & 0 & 0 & 0 & $\\dots$ \\\\\n",
       "\t5 & 154558 & N154558-02 & 2050 & 0 & 0 & 0 & 0 & 0 & 0 & 0 & $\\dots$ \\\\\n",
       "\t6 & 154662 & N154662-02 & 2000 & 0 & 0 & 0 & 0 & 184 & 168 & 0 & $\\dots$ \\\\\n",
       "\t7 & IND-43 & NZ430300-00 & 20 & 0 & 0 & 0 & 0 & 0 & 0 & 0 & $\\dots$ \\\\\n",
       "\t8 & IND-43 & NZ430300-00 & 50 & 0 & 0 & 0 & 0 & 0 & 0 & 0 & $\\dots$ \\\\\n",
       "\t9 & NZ430300 & NZ430300-00 & 31 & 8 & 0 & 0 & 0 & 0 & 0 & 0 & $\\dots$ \\\\\n",
       "\t10 & NZ430300 & NZ430300-00 & 40 & 0 & 40 & 0 & 0 & 0 & 0 & 0 & $\\dots$ \\\\\n",
       "\\end{tabular}\n"
      ],
      "text/plain": [
       "\u001b[1m10×27 DataFrame\u001b[0m\n",
       "\u001b[1m Row \u001b[0m│\u001b[1m Project  \u001b[0m\u001b[1m Network     \u001b[0m\u001b[1m Task  \u001b[0m\u001b[1m Month1 \u001b[0m\u001b[1m Month2 \u001b[0m\u001b[1m Month3 \u001b[0m\u001b[1m Month4 \u001b[0m\u001b[1m Month5 \u001b[0m\u001b[1m M\u001b[0m ⋯\n",
       "\u001b[1m     \u001b[0m│\u001b[90m String15 \u001b[0m\u001b[90m String15    \u001b[0m\u001b[90m Int64 \u001b[0m\u001b[90m Int64  \u001b[0m\u001b[90m Int64  \u001b[0m\u001b[90m Int64  \u001b[0m\u001b[90m Int64  \u001b[0m\u001b[90m Int64  \u001b[0m\u001b[90m I\u001b[0m ⋯\n",
       "─────┼──────────────────────────────────────────────────────────────────────────\n",
       "   1 │ 150171    N150171-NB    2000      40       0       0       0       0    ⋯\n",
       "   2 │ 152242    N152242-02    2081       0       0       0       0       0\n",
       "   3 │ 153804    N153804-02    2081       0       0     120     120       0\n",
       "   4 │ 154558    N154558-02    2020     120      80       0       0       0\n",
       "   5 │ 154558    N154558-02    2050       0       0       0       0       0    ⋯\n",
       "   6 │ 154662    N154662-02    2000       0       0       0       0     184\n",
       "   7 │ IND-43    NZ430300-00     20       0       0       0       0       0\n",
       "   8 │ IND-43    NZ430300-00     50       0       0       0       0       0\n",
       "   9 │ NZ430300  NZ430300-00     31       8       0       0       0       0    ⋯\n",
       "  10 │ NZ430300  NZ430300-00     40       0      40       0       0       0\n",
       "\u001b[36m                                                              19 columns omitted\u001b[0m"
      ]
     },
     "metadata": {},
     "output_type": "display_data"
    }
   ],
   "source": [
    "Tony.FwdHoursForecast"
   ]
  },
  {
   "cell_type": "code",
   "execution_count": 27,
   "metadata": {},
   "outputs": [
    {
     "data": {
      "text/html": [
       "<div class=\"data-frame\"><p>21 rows × 27 columns (omitted printing of 17 columns)</p><table class=\"data-frame\"><thead><tr><th></th><th>Project</th><th>Network</th><th>Task</th><th>Month1</th><th>Month2</th><th>Month3</th><th>Month4</th><th>Month5</th><th>Month6</th><th>Month7</th></tr><tr><th></th><th title=\"String15\">String15</th><th title=\"String15\">String15</th><th title=\"Int64\">Int64</th><th title=\"Int64\">Int64</th><th title=\"Int64\">Int64</th><th title=\"Int64\">Int64</th><th title=\"Int64\">Int64</th><th title=\"Int64\">Int64</th><th title=\"Int64\">Int64</th><th title=\"Int64\">Int64</th></tr></thead><tbody><tr><th>1</th><td>150171</td><td>N150171-NB</td><td>2000</td><td>40</td><td>0</td><td>0</td><td>0</td><td>0</td><td>0</td><td>0</td></tr><tr><th>2</th><td>150547</td><td>N150547-02</td><td>2050</td><td>56</td><td>0</td><td>0</td><td>0</td><td>0</td><td>0</td><td>0</td></tr><tr><th>3</th><td>150547</td><td>N150547-02</td><td>2051</td><td>10</td><td>0</td><td>0</td><td>0</td><td>0</td><td>0</td><td>0</td></tr><tr><th>4</th><td>150547</td><td>N150547-02</td><td>2052</td><td>0</td><td>11</td><td>0</td><td>0</td><td>0</td><td>0</td><td>0</td></tr><tr><th>5</th><td>150547</td><td>N150547-02</td><td>2081</td><td>0</td><td>0</td><td>50</td><td>100</td><td>50</td><td>0</td><td>0</td></tr><tr><th>6</th><td>152242</td><td>N152242-02</td><td>2011</td><td>2</td><td>2</td><td>0</td><td>0</td><td>0</td><td>0</td><td>0</td></tr><tr><th>7</th><td>152242</td><td>N152242-NB</td><td>2000</td><td>0</td><td>0</td><td>0</td><td>0</td><td>0</td><td>40</td><td>80</td></tr><tr><th>8</th><td>154662</td><td>N154662-02</td><td>2000</td><td>0</td><td>0</td><td>0</td><td>0</td><td>0</td><td>168</td><td>80</td></tr><tr><th>9</th><td>154671</td><td>N154671-02</td><td>2022</td><td>0</td><td>0</td><td>0</td><td>0</td><td>0</td><td>0</td><td>0</td></tr><tr><th>10</th><td>156257</td><td>N156257-02</td><td>2010</td><td>0</td><td>1</td><td>0</td><td>0</td><td>0</td><td>0</td><td>0</td></tr><tr><th>11</th><td>156257</td><td>N156257-02</td><td>2022</td><td>15</td><td>0</td><td>0</td><td>0</td><td>0</td><td>0</td><td>0</td></tr><tr><th>12</th><td>156257</td><td>N156257-02</td><td>2050</td><td>8</td><td>0</td><td>0</td><td>0</td><td>0</td><td>0</td><td>0</td></tr><tr><th>13</th><td>156257</td><td>N156257-02</td><td>2051</td><td>15</td><td>0</td><td>0</td><td>0</td><td>0</td><td>0</td><td>0</td></tr><tr><th>14</th><td>156257</td><td>N156257-02</td><td>2052</td><td>15</td><td>0</td><td>0</td><td>0</td><td>0</td><td>0</td><td>0</td></tr><tr><th>15</th><td>156257</td><td>N156257-02</td><td>2060</td><td>7</td><td>0</td><td>0</td><td>0</td><td>0</td><td>0</td><td>0</td></tr><tr><th>16</th><td>156257</td><td>N156257-02</td><td>2081</td><td>0</td><td>60</td><td>0</td><td>0</td><td>0</td><td>0</td><td>0</td></tr><tr><th>17</th><td>156257</td><td>N156257-02</td><td>2085</td><td>0</td><td>16</td><td>0</td><td>0</td><td>0</td><td>0</td><td>0</td></tr><tr><th>18</th><td>IND-43</td><td>NZ430300-00</td><td>30</td><td>0</td><td>0</td><td>0</td><td>0</td><td>0</td><td>0</td><td>0</td></tr><tr><th>19</th><td>NZ430300</td><td>NZ430300-00</td><td>20</td><td>0</td><td>0</td><td>0</td><td>0</td><td>0</td><td>0</td><td>0</td></tr><tr><th>20</th><td>NZ430300</td><td>NZ430300-00</td><td>31</td><td>8</td><td>0</td><td>0</td><td>0</td><td>0</td><td>0</td><td>0</td></tr><tr><th>21</th><td>NZ430300</td><td>NZ430300-00</td><td>40</td><td>0</td><td>16</td><td>0</td><td>0</td><td>0</td><td>0</td><td>0</td></tr></tbody></table></div>"
      ],
      "text/latex": [
       "\\begin{tabular}{r|ccccccccccc}\n",
       "\t& Project & Network & Task & Month1 & Month2 & Month3 & Month4 & Month5 & Month6 & Month7 & \\\\\n",
       "\t\\hline\n",
       "\t& String15 & String15 & Int64 & Int64 & Int64 & Int64 & Int64 & Int64 & Int64 & Int64 & \\\\\n",
       "\t\\hline\n",
       "\t1 & 150171 & N150171-NB & 2000 & 40 & 0 & 0 & 0 & 0 & 0 & 0 & $\\dots$ \\\\\n",
       "\t2 & 150547 & N150547-02 & 2050 & 56 & 0 & 0 & 0 & 0 & 0 & 0 & $\\dots$ \\\\\n",
       "\t3 & 150547 & N150547-02 & 2051 & 10 & 0 & 0 & 0 & 0 & 0 & 0 & $\\dots$ \\\\\n",
       "\t4 & 150547 & N150547-02 & 2052 & 0 & 11 & 0 & 0 & 0 & 0 & 0 & $\\dots$ \\\\\n",
       "\t5 & 150547 & N150547-02 & 2081 & 0 & 0 & 50 & 100 & 50 & 0 & 0 & $\\dots$ \\\\\n",
       "\t6 & 152242 & N152242-02 & 2011 & 2 & 2 & 0 & 0 & 0 & 0 & 0 & $\\dots$ \\\\\n",
       "\t7 & 152242 & N152242-NB & 2000 & 0 & 0 & 0 & 0 & 0 & 40 & 80 & $\\dots$ \\\\\n",
       "\t8 & 154662 & N154662-02 & 2000 & 0 & 0 & 0 & 0 & 0 & 168 & 80 & $\\dots$ \\\\\n",
       "\t9 & 154671 & N154671-02 & 2022 & 0 & 0 & 0 & 0 & 0 & 0 & 0 & $\\dots$ \\\\\n",
       "\t10 & 156257 & N156257-02 & 2010 & 0 & 1 & 0 & 0 & 0 & 0 & 0 & $\\dots$ \\\\\n",
       "\t11 & 156257 & N156257-02 & 2022 & 15 & 0 & 0 & 0 & 0 & 0 & 0 & $\\dots$ \\\\\n",
       "\t12 & 156257 & N156257-02 & 2050 & 8 & 0 & 0 & 0 & 0 & 0 & 0 & $\\dots$ \\\\\n",
       "\t13 & 156257 & N156257-02 & 2051 & 15 & 0 & 0 & 0 & 0 & 0 & 0 & $\\dots$ \\\\\n",
       "\t14 & 156257 & N156257-02 & 2052 & 15 & 0 & 0 & 0 & 0 & 0 & 0 & $\\dots$ \\\\\n",
       "\t15 & 156257 & N156257-02 & 2060 & 7 & 0 & 0 & 0 & 0 & 0 & 0 & $\\dots$ \\\\\n",
       "\t16 & 156257 & N156257-02 & 2081 & 0 & 60 & 0 & 0 & 0 & 0 & 0 & $\\dots$ \\\\\n",
       "\t17 & 156257 & N156257-02 & 2085 & 0 & 16 & 0 & 0 & 0 & 0 & 0 & $\\dots$ \\\\\n",
       "\t18 & IND-43 & NZ430300-00 & 30 & 0 & 0 & 0 & 0 & 0 & 0 & 0 & $\\dots$ \\\\\n",
       "\t19 & NZ430300 & NZ430300-00 & 20 & 0 & 0 & 0 & 0 & 0 & 0 & 0 & $\\dots$ \\\\\n",
       "\t20 & NZ430300 & NZ430300-00 & 31 & 8 & 0 & 0 & 0 & 0 & 0 & 0 & $\\dots$ \\\\\n",
       "\t21 & NZ430300 & NZ430300-00 & 40 & 0 & 16 & 0 & 0 & 0 & 0 & 0 & $\\dots$ \\\\\n",
       "\\end{tabular}\n"
      ],
      "text/plain": [
       "\u001b[1m21×27 DataFrame\u001b[0m\n",
       "\u001b[1m Row \u001b[0m│\u001b[1m Project  \u001b[0m\u001b[1m Network     \u001b[0m\u001b[1m Task  \u001b[0m\u001b[1m Month1 \u001b[0m\u001b[1m Month2 \u001b[0m\u001b[1m Month3 \u001b[0m\u001b[1m Month4 \u001b[0m\u001b[1m Month5 \u001b[0m\u001b[1m M\u001b[0m ⋯\n",
       "\u001b[1m     \u001b[0m│\u001b[90m String15 \u001b[0m\u001b[90m String15    \u001b[0m\u001b[90m Int64 \u001b[0m\u001b[90m Int64  \u001b[0m\u001b[90m Int64  \u001b[0m\u001b[90m Int64  \u001b[0m\u001b[90m Int64  \u001b[0m\u001b[90m Int64  \u001b[0m\u001b[90m I\u001b[0m ⋯\n",
       "─────┼──────────────────────────────────────────────────────────────────────────\n",
       "   1 │ 150171    N150171-NB    2000      40       0       0       0       0    ⋯\n",
       "   2 │ 150547    N150547-02    2050      56       0       0       0       0\n",
       "   3 │ 150547    N150547-02    2051      10       0       0       0       0\n",
       "   4 │ 150547    N150547-02    2052       0      11       0       0       0\n",
       "   5 │ 150547    N150547-02    2081       0       0      50     100      50    ⋯\n",
       "   6 │ 152242    N152242-02    2011       2       2       0       0       0\n",
       "   7 │ 152242    N152242-NB    2000       0       0       0       0       0\n",
       "   8 │ 154662    N154662-02    2000       0       0       0       0       0\n",
       "  ⋮  │    ⋮           ⋮         ⋮      ⋮       ⋮       ⋮       ⋮       ⋮       ⋱\n",
       "  15 │ 156257    N156257-02    2060       7       0       0       0       0    ⋯\n",
       "  16 │ 156257    N156257-02    2081       0      60       0       0       0\n",
       "  17 │ 156257    N156257-02    2085       0      16       0       0       0\n",
       "  18 │ IND-43    NZ430300-00     30       0       0       0       0       0\n",
       "  19 │ NZ430300  NZ430300-00     20       0       0       0       0       0    ⋯\n",
       "  20 │ NZ430300  NZ430300-00     31       8       0       0       0       0\n",
       "  21 │ NZ430300  NZ430300-00     40       0      16       0       0       0\n",
       "\u001b[36m                                                   19 columns and 6 rows omitted\u001b[0m"
      ]
     },
     "metadata": {},
     "output_type": "display_data"
    }
   ],
   "source": [
    "Julie.FwdHoursForecast"
   ]
  },
  {
   "cell_type": "code",
   "execution_count": 27,
   "metadata": {},
   "outputs": [
    {
     "ename": "DimensionMismatch",
     "evalue": "DimensionMismatch(\"arrays could not be broadcast to a common size; got a dimension with lengths 27 and 25\")",
     "output_type": "error",
     "traceback": [
      "DimensionMismatch(\"arrays could not be broadcast to a common size; got a dimension with lengths 27 and 25\")\n",
      "\n",
      "Stacktrace:\n",
      "  [1] _bcs1\n",
      "    @ .\\broadcast.jl:516 [inlined]\n",
      "  [2] _bcs\n",
      "    @ .\\broadcast.jl:510 [inlined]\n",
      "  [3] broadcast_shape\n",
      "    @ .\\broadcast.jl:504 [inlined]\n",
      "  [4] combine_axes\n",
      "    @ .\\broadcast.jl:499 [inlined]\n",
      "  [5] instantiate\n",
      "    @ .\\broadcast.jl:281 [inlined]\n",
      "  [6] materialize(bc::Base.Broadcast.Broadcasted{Base.Broadcast.DefaultArrayStyle{1}, Nothing, Type{Pair}, Tuple{Vector{String}, Vector{String}}})\n",
      "    @ Base.Broadcast .\\broadcast.jl:860\n",
      "  [7] fetchAndWritePlannedHours2!(df::DataFrame, name::String, D::DisciplineLaborTest, target::Symbol, m::Int64)\n",
      "    @ Main c:\\Users\\junqueg\\OneDrive - dematic.com\\MyDocuments_BackUp\\15. Programming\\Projects\\ResourceManagement.jl\\src\\sketchpad.ipynb:4\n",
      "  [8] fetchAndWritePlannedHours2!(df::DataFrame, name::String, D::DisciplineLaborTest, target::Symbol)\n",
      "    @ Main c:\\Users\\junqueg\\OneDrive - dematic.com\\MyDocuments_BackUp\\15. Programming\\Projects\\ResourceManagement.jl\\src\\sketchpad.ipynb:3\n",
      "  [9] top-level scope\n",
      "    @ c:\\Users\\junqueg\\OneDrive - dematic.com\\MyDocuments_BackUp\\15. Programming\\Projects\\ResourceManagement.jl\\src\\sketchpad.ipynb:1\n",
      " [10] eval\n",
      "    @ .\\boot.jl:373 [inlined]\n",
      " [11] include_string(mapexpr::typeof(REPL.softscope), mod::Module, code::String, filename::String)\n",
      "    @ Base .\\loading.jl:1196\n",
      " [12] #invokelatest#2\n",
      "    @ .\\essentials.jl:716 [inlined]\n",
      " [13] invokelatest\n",
      "    @ .\\essentials.jl:714 [inlined]\n",
      " [14] (::VSCodeServer.var\"#164#165\"{VSCodeServer.NotebookRunCellArguments, String})()\n",
      "    @ VSCodeServer c:\\Users\\junqueg\\.vscode\\extensions\\julialang.language-julia-1.6.17\\scripts\\packages\\VSCodeServer\\src\\serve_notebook.jl:19\n",
      " [15] withpath(f::VSCodeServer.var\"#164#165\"{VSCodeServer.NotebookRunCellArguments, String}, path::String)\n",
      "    @ VSCodeServer c:\\Users\\junqueg\\.vscode\\extensions\\julialang.language-julia-1.6.17\\scripts\\packages\\VSCodeServer\\src\\repl.jl:184\n",
      " [16] notebook_runcell_request(conn::VSCodeServer.JSONRPC.JSONRPCEndpoint{Base.PipeEndpoint, Base.PipeEndpoint}, params::VSCodeServer.NotebookRunCellArguments)\n",
      "    @ VSCodeServer c:\\Users\\junqueg\\.vscode\\extensions\\julialang.language-julia-1.6.17\\scripts\\packages\\VSCodeServer\\src\\serve_notebook.jl:13\n",
      " [17] dispatch_msg(x::VSCodeServer.JSONRPC.JSONRPCEndpoint{Base.PipeEndpoint, Base.PipeEndpoint}, dispatcher::VSCodeServer.JSONRPC.MsgDispatcher, msg::Dict{String, Any})\n",
      "    @ VSCodeServer.JSONRPC c:\\Users\\junqueg\\.vscode\\extensions\\julialang.language-julia-1.6.17\\scripts\\packages\\JSONRPC\\src\\typed.jl:67\n",
      " [18] serve_notebook(pipename::String, outputchannel_logger::Base.CoreLogging.SimpleLogger; crashreporting_pipename::String)\n",
      "    @ VSCodeServer c:\\Users\\junqueg\\.vscode\\extensions\\julialang.language-julia-1.6.17\\scripts\\packages\\VSCodeServer\\src\\serve_notebook.jl:136\n",
      " [19] top-level scope\n",
      "    @ c:\\Users\\junqueg\\.vscode\\extensions\\julialang.language-julia-1.6.17\\scripts\\notebook\\notebook.jl:32\n",
      " [20] include(mod::Module, _path::String)\n",
      "    @ Base .\\Base.jl:418\n",
      " [21] exec_options(opts::Base.JLOptions)\n",
      "    @ Base .\\client.jl:292\n",
      " [22] _start()\n",
      "    @ Base .\\client.jl:495"
     ]
    }
   ],
   "source": [
    "fetchAndWritePlannedHours2!(df, \"HIGA ANTHONY\", Tony2, :fwd);"
   ]
  },
  {
   "cell_type": "code",
   "execution_count": null,
   "metadata": {},
   "outputs": [],
   "source": []
  },
  {
   "cell_type": "code",
   "execution_count": 23,
   "metadata": {},
   "outputs": [
    {
     "data": {
      "text/html": [
       "<div class=\"data-frame\"><p>7 rows × 25 columns (omitted printing of 15 columns)</p><table class=\"data-frame\"><thead><tr><th></th><th>Project</th><th>Month1</th><th>Month2</th><th>Month3</th><th>Month4</th><th>Month5</th><th>Month6</th><th>Month7</th><th>Month8</th><th>Month9</th></tr><tr><th></th><th title=\"String15\">String15</th><th title=\"Int64\">Int64</th><th title=\"Int64\">Int64</th><th title=\"Int64\">Int64</th><th title=\"Int64\">Int64</th><th title=\"Int64\">Int64</th><th title=\"Int64\">Int64</th><th title=\"Int64\">Int64</th><th title=\"Int64\">Int64</th><th title=\"Int64\">Int64</th></tr></thead><tbody><tr><th>1</th><td>150171</td><td>40</td><td>0</td><td>0</td><td>0</td><td>0</td><td>0</td><td>0</td><td>0</td><td>0</td></tr><tr><th>2</th><td>152242</td><td>0</td><td>0</td><td>0</td><td>0</td><td>0</td><td>0</td><td>168</td><td>100</td><td>0</td></tr><tr><th>3</th><td>153804</td><td>0</td><td>0</td><td>120</td><td>120</td><td>0</td><td>0</td><td>0</td><td>0</td><td>0</td></tr><tr><th>4</th><td>154558</td><td>120</td><td>80</td><td>0</td><td>0</td><td>0</td><td>0</td><td>0</td><td>0</td><td>0</td></tr><tr><th>5</th><td>154662</td><td>0</td><td>0</td><td>0</td><td>0</td><td>184</td><td>168</td><td>0</td><td>0</td><td>0</td></tr><tr><th>6</th><td>IND-43</td><td>0</td><td>0</td><td>0</td><td>0</td><td>0</td><td>0</td><td>0</td><td>0</td><td>0</td></tr><tr><th>7</th><td>NZ430300</td><td>8</td><td>40</td><td>0</td><td>0</td><td>0</td><td>0</td><td>0</td><td>0</td><td>0</td></tr></tbody></table></div>"
      ],
      "text/latex": [
       "\\begin{tabular}{r|ccccccccccc}\n",
       "\t& Project & Month1 & Month2 & Month3 & Month4 & Month5 & Month6 & Month7 & Month8 & Month9 & \\\\\n",
       "\t\\hline\n",
       "\t& String15 & Int64 & Int64 & Int64 & Int64 & Int64 & Int64 & Int64 & Int64 & Int64 & \\\\\n",
       "\t\\hline\n",
       "\t1 & 150171 & 40 & 0 & 0 & 0 & 0 & 0 & 0 & 0 & 0 & $\\dots$ \\\\\n",
       "\t2 & 152242 & 0 & 0 & 0 & 0 & 0 & 0 & 168 & 100 & 0 & $\\dots$ \\\\\n",
       "\t3 & 153804 & 0 & 0 & 120 & 120 & 0 & 0 & 0 & 0 & 0 & $\\dots$ \\\\\n",
       "\t4 & 154558 & 120 & 80 & 0 & 0 & 0 & 0 & 0 & 0 & 0 & $\\dots$ \\\\\n",
       "\t5 & 154662 & 0 & 0 & 0 & 0 & 184 & 168 & 0 & 0 & 0 & $\\dots$ \\\\\n",
       "\t6 & IND-43 & 0 & 0 & 0 & 0 & 0 & 0 & 0 & 0 & 0 & $\\dots$ \\\\\n",
       "\t7 & NZ430300 & 8 & 40 & 0 & 0 & 0 & 0 & 0 & 0 & 0 & $\\dots$ \\\\\n",
       "\\end{tabular}\n"
      ],
      "text/plain": [
       "\u001b[1m7×25 DataFrame\u001b[0m\n",
       "\u001b[1m Row \u001b[0m│\u001b[1m Project  \u001b[0m\u001b[1m Month1 \u001b[0m\u001b[1m Month2 \u001b[0m\u001b[1m Month3 \u001b[0m\u001b[1m Month4 \u001b[0m\u001b[1m Month5 \u001b[0m\u001b[1m Month6 \u001b[0m\u001b[1m Month7 \u001b[0m\u001b[1m Month\u001b[0m ⋯\n",
       "\u001b[1m     \u001b[0m│\u001b[90m String15 \u001b[0m\u001b[90m Int64  \u001b[0m\u001b[90m Int64  \u001b[0m\u001b[90m Int64  \u001b[0m\u001b[90m Int64  \u001b[0m\u001b[90m Int64  \u001b[0m\u001b[90m Int64  \u001b[0m\u001b[90m Int64  \u001b[0m\u001b[90m Int64\u001b[0m ⋯\n",
       "─────┼──────────────────────────────────────────────────────────────────────────\n",
       "   1 │ 150171        40       0       0       0       0       0       0        ⋯\n",
       "   2 │ 152242         0       0       0       0       0       0     168     10\n",
       "   3 │ 153804         0       0     120     120       0       0       0\n",
       "   4 │ 154558       120      80       0       0       0       0       0\n",
       "   5 │ 154662         0       0       0       0     184     168       0        ⋯\n",
       "   6 │ IND-43         0       0       0       0       0       0       0\n",
       "   7 │ NZ430300       8      40       0       0       0       0       0\n",
       "\u001b[36m                                                              17 columns omitted\u001b[0m"
      ]
     },
     "metadata": {},
     "output_type": "display_data"
    }
   ],
   "source": [
    "Tony2.FwdHoursForecast"
   ]
  },
  {
   "cell_type": "code",
   "execution_count": 41,
   "metadata": {},
   "outputs": [
    {
     "data": {
      "text/html": [
       "<div class=\"data-frame\"><p>7 rows × 25 columns (omitted printing of 20 columns)</p><table class=\"data-frame\"><thead><tr><th></th><th>Project</th><th>NOV/2021 Planned_sum</th><th>DEC/2021 Planned_sum</th><th>JAN/2022 Planned_sum</th><th>FEB/2022 Planned_sum</th></tr><tr><th></th><th title=\"String15\">String15</th><th title=\"Int64\">Int64</th><th title=\"Int64\">Int64</th><th title=\"Int64\">Int64</th><th title=\"Int64\">Int64</th></tr></thead><tbody><tr><th>1</th><td>150171</td><td>40</td><td>0</td><td>0</td><td>0</td></tr><tr><th>2</th><td>152242</td><td>0</td><td>0</td><td>0</td><td>0</td></tr><tr><th>3</th><td>153804</td><td>0</td><td>0</td><td>120</td><td>120</td></tr><tr><th>4</th><td>154558</td><td>120</td><td>80</td><td>0</td><td>0</td></tr><tr><th>5</th><td>154662</td><td>0</td><td>0</td><td>0</td><td>0</td></tr><tr><th>6</th><td>IND-43</td><td>0</td><td>0</td><td>0</td><td>0</td></tr><tr><th>7</th><td>NZ430300</td><td>8</td><td>40</td><td>0</td><td>0</td></tr></tbody></table></div>"
      ],
      "text/latex": [
       "\\begin{tabular}{r|cccccc}\n",
       "\t& Project & NOV/2021 Planned\\_sum & DEC/2021 Planned\\_sum & JAN/2022 Planned\\_sum & FEB/2022 Planned\\_sum & \\\\\n",
       "\t\\hline\n",
       "\t& String15 & Int64 & Int64 & Int64 & Int64 & \\\\\n",
       "\t\\hline\n",
       "\t1 & 150171 & 40 & 0 & 0 & 0 & $\\dots$ \\\\\n",
       "\t2 & 152242 & 0 & 0 & 0 & 0 & $\\dots$ \\\\\n",
       "\t3 & 153804 & 0 & 0 & 120 & 120 & $\\dots$ \\\\\n",
       "\t4 & 154558 & 120 & 80 & 0 & 0 & $\\dots$ \\\\\n",
       "\t5 & 154662 & 0 & 0 & 0 & 0 & $\\dots$ \\\\\n",
       "\t6 & IND-43 & 0 & 0 & 0 & 0 & $\\dots$ \\\\\n",
       "\t7 & NZ430300 & 8 & 40 & 0 & 0 & $\\dots$ \\\\\n",
       "\\end{tabular}\n"
      ],
      "text/plain": [
       "\u001b[1m7×25 DataFrame\u001b[0m\n",
       "\u001b[1m Row \u001b[0m│\u001b[1m Project  \u001b[0m\u001b[1m NOV/2021 Planned_sum \u001b[0m\u001b[1m DEC/2021 Planned_sum \u001b[0m\u001b[1m JAN/2022 Planned_\u001b[0m ⋯\n",
       "\u001b[1m     \u001b[0m│\u001b[90m String15 \u001b[0m\u001b[90m Int64                \u001b[0m\u001b[90m Int64                \u001b[0m\u001b[90m Int64            \u001b[0m ⋯\n",
       "─────┼──────────────────────────────────────────────────────────────────────────\n",
       "   1 │ 150171                      40                     0                    ⋯\n",
       "   2 │ 152242                       0                     0\n",
       "   3 │ 153804                       0                     0\n",
       "   4 │ 154558                     120                    80\n",
       "   5 │ 154662                       0                     0                    ⋯\n",
       "   6 │ IND-43                       0                     0\n",
       "   7 │ NZ430300                     8                    40\n",
       "\u001b[36m                                                              22 columns omitted\u001b[0m"
      ]
     },
     "metadata": {},
     "output_type": "display_data"
    }
   ],
   "source": [
    "########################################################################################################################\n",
    "\n",
    "t"
   ]
  },
  {
   "cell_type": "code",
   "execution_count": 42,
   "metadata": {},
   "outputs": [
    {
     "data": {
      "text/html": [
       "<div class=\"data-frame\"><p>7 rows × 25 columns (omitted printing of 15 columns)</p><table class=\"data-frame\"><thead><tr><th></th><th>Project</th><th>Month1</th><th>Month2</th><th>Month3</th><th>Month4</th><th>Month5</th><th>Month6</th><th>Month7</th><th>Month8</th><th>Month9</th></tr><tr><th></th><th title=\"String15\">String15</th><th title=\"Int64\">Int64</th><th title=\"Int64\">Int64</th><th title=\"Int64\">Int64</th><th title=\"Int64\">Int64</th><th title=\"Int64\">Int64</th><th title=\"Int64\">Int64</th><th title=\"Int64\">Int64</th><th title=\"Int64\">Int64</th><th title=\"Int64\">Int64</th></tr></thead><tbody><tr><th>1</th><td>150171</td><td>40</td><td>0</td><td>0</td><td>0</td><td>0</td><td>0</td><td>0</td><td>0</td><td>0</td></tr><tr><th>2</th><td>152242</td><td>0</td><td>0</td><td>0</td><td>0</td><td>0</td><td>0</td><td>168</td><td>100</td><td>0</td></tr><tr><th>3</th><td>153804</td><td>0</td><td>0</td><td>120</td><td>120</td><td>0</td><td>0</td><td>0</td><td>0</td><td>0</td></tr><tr><th>4</th><td>154558</td><td>120</td><td>80</td><td>0</td><td>0</td><td>0</td><td>0</td><td>0</td><td>0</td><td>0</td></tr><tr><th>5</th><td>154662</td><td>0</td><td>0</td><td>0</td><td>0</td><td>184</td><td>168</td><td>0</td><td>0</td><td>0</td></tr><tr><th>6</th><td>IND-43</td><td>0</td><td>0</td><td>0</td><td>0</td><td>0</td><td>0</td><td>0</td><td>0</td><td>0</td></tr><tr><th>7</th><td>NZ430300</td><td>8</td><td>40</td><td>0</td><td>0</td><td>0</td><td>0</td><td>0</td><td>0</td><td>0</td></tr></tbody></table></div>"
      ],
      "text/latex": [
       "\\begin{tabular}{r|ccccccccccc}\n",
       "\t& Project & Month1 & Month2 & Month3 & Month4 & Month5 & Month6 & Month7 & Month8 & Month9 & \\\\\n",
       "\t\\hline\n",
       "\t& String15 & Int64 & Int64 & Int64 & Int64 & Int64 & Int64 & Int64 & Int64 & Int64 & \\\\\n",
       "\t\\hline\n",
       "\t1 & 150171 & 40 & 0 & 0 & 0 & 0 & 0 & 0 & 0 & 0 & $\\dots$ \\\\\n",
       "\t2 & 152242 & 0 & 0 & 0 & 0 & 0 & 0 & 168 & 100 & 0 & $\\dots$ \\\\\n",
       "\t3 & 153804 & 0 & 0 & 120 & 120 & 0 & 0 & 0 & 0 & 0 & $\\dots$ \\\\\n",
       "\t4 & 154558 & 120 & 80 & 0 & 0 & 0 & 0 & 0 & 0 & 0 & $\\dots$ \\\\\n",
       "\t5 & 154662 & 0 & 0 & 0 & 0 & 184 & 168 & 0 & 0 & 0 & $\\dots$ \\\\\n",
       "\t6 & IND-43 & 0 & 0 & 0 & 0 & 0 & 0 & 0 & 0 & 0 & $\\dots$ \\\\\n",
       "\t7 & NZ430300 & 8 & 40 & 0 & 0 & 0 & 0 & 0 & 0 & 0 & $\\dots$ \\\\\n",
       "\\end{tabular}\n"
      ],
      "text/plain": [
       "\u001b[1m7×25 DataFrame\u001b[0m\n",
       "\u001b[1m Row \u001b[0m│\u001b[1m Project  \u001b[0m\u001b[1m Month1 \u001b[0m\u001b[1m Month2 \u001b[0m\u001b[1m Month3 \u001b[0m\u001b[1m Month4 \u001b[0m\u001b[1m Month5 \u001b[0m\u001b[1m Month6 \u001b[0m\u001b[1m Month7 \u001b[0m\u001b[1m Month\u001b[0m ⋯\n",
       "\u001b[1m     \u001b[0m│\u001b[90m String15 \u001b[0m\u001b[90m Int64  \u001b[0m\u001b[90m Int64  \u001b[0m\u001b[90m Int64  \u001b[0m\u001b[90m Int64  \u001b[0m\u001b[90m Int64  \u001b[0m\u001b[90m Int64  \u001b[0m\u001b[90m Int64  \u001b[0m\u001b[90m Int64\u001b[0m ⋯\n",
       "─────┼──────────────────────────────────────────────────────────────────────────\n",
       "   1 │ 150171        40       0       0       0       0       0       0        ⋯\n",
       "   2 │ 152242         0       0       0       0       0       0     168     10\n",
       "   3 │ 153804         0       0     120     120       0       0       0\n",
       "   4 │ 154558       120      80       0       0       0       0       0\n",
       "   5 │ 154662         0       0       0       0     184     168       0        ⋯\n",
       "   6 │ IND-43         0       0       0       0       0       0       0\n",
       "   7 │ NZ430300       8      40       0       0       0       0       0\n",
       "\u001b[36m                                                              17 columns omitted\u001b[0m"
      ]
     },
     "metadata": {},
     "output_type": "display_data"
    }
   ],
   "source": [
    "Tony.FwdHoursForecast"
   ]
  },
  {
   "cell_type": "code",
   "execution_count": 43,
   "metadata": {},
   "outputs": [
    {
     "data": {
      "text/plain": [
       "25-element Vector{String}:\n",
       " \"Project\"\n",
       " \"NOV/2021 Planned_sum\"\n",
       " \"DEC/2021 Planned_sum\"\n",
       " \"JAN/2022 Planned_sum\"\n",
       " \"FEB/2022 Planned_sum\"\n",
       " \"MAR/2022 Planned_sum\"\n",
       " \"APR/2022 Planned_sum\"\n",
       " \"MAY/2022 Planned_sum\"\n",
       " \"JUN/2022 Planned_sum\"\n",
       " \"JUL/2022 Planned_sum\"\n",
       " ⋮\n",
       " \"FEB/2023 Planned_sum\"\n",
       " \"MAR/2023 Planned_sum\"\n",
       " \"APR/2023 Planned_sum\"\n",
       " \"MAY/2023 Planned_sum\"\n",
       " \"JUN/2023 Planned_sum\"\n",
       " \"JUL/2023 Planned_sum\"\n",
       " \"AUG/2023 Planned_sum\"\n",
       " \"SEP/2023 Planned_sum\"\n",
       " \"OCT/2023 Planned_sum\""
      ]
     },
     "metadata": {},
     "output_type": "display_data"
    }
   ],
   "source": [
    "t |> names"
   ]
  },
  {
   "cell_type": "code",
   "execution_count": 44,
   "metadata": {},
   "outputs": [],
   "source": []
  },
  {
   "cell_type": "code",
   "execution_count": 45,
   "metadata": {},
   "outputs": [
    {
     "data": {
      "text/html": [
       "<div class=\"data-frame\"><p>7 rows × 25 columns (omitted printing of 15 columns)</p><table class=\"data-frame\"><thead><tr><th></th><th>Project</th><th>Month1</th><th>Month2</th><th>Month3</th><th>Month4</th><th>Month5</th><th>Month6</th><th>Month7</th><th>Month8</th><th>Month9</th></tr><tr><th></th><th title=\"String15\">String15</th><th title=\"Int64\">Int64</th><th title=\"Int64\">Int64</th><th title=\"Int64\">Int64</th><th title=\"Int64\">Int64</th><th title=\"Int64\">Int64</th><th title=\"Int64\">Int64</th><th title=\"Int64\">Int64</th><th title=\"Int64\">Int64</th><th title=\"Int64\">Int64</th></tr></thead><tbody><tr><th>1</th><td>150171</td><td>40</td><td>0</td><td>0</td><td>0</td><td>0</td><td>0</td><td>0</td><td>0</td><td>0</td></tr><tr><th>2</th><td>152242</td><td>0</td><td>0</td><td>0</td><td>0</td><td>0</td><td>0</td><td>168</td><td>100</td><td>0</td></tr><tr><th>3</th><td>153804</td><td>0</td><td>0</td><td>120</td><td>120</td><td>0</td><td>0</td><td>0</td><td>0</td><td>0</td></tr><tr><th>4</th><td>154558</td><td>120</td><td>80</td><td>0</td><td>0</td><td>0</td><td>0</td><td>0</td><td>0</td><td>0</td></tr><tr><th>5</th><td>154662</td><td>0</td><td>0</td><td>0</td><td>0</td><td>184</td><td>168</td><td>0</td><td>0</td><td>0</td></tr><tr><th>6</th><td>IND-43</td><td>0</td><td>0</td><td>0</td><td>0</td><td>0</td><td>0</td><td>0</td><td>0</td><td>0</td></tr><tr><th>7</th><td>NZ430300</td><td>8</td><td>40</td><td>0</td><td>0</td><td>0</td><td>0</td><td>0</td><td>0</td><td>0</td></tr></tbody></table></div>"
      ],
      "text/latex": [
       "\\begin{tabular}{r|ccccccccccc}\n",
       "\t& Project & Month1 & Month2 & Month3 & Month4 & Month5 & Month6 & Month7 & Month8 & Month9 & \\\\\n",
       "\t\\hline\n",
       "\t& String15 & Int64 & Int64 & Int64 & Int64 & Int64 & Int64 & Int64 & Int64 & Int64 & \\\\\n",
       "\t\\hline\n",
       "\t1 & 150171 & 40 & 0 & 0 & 0 & 0 & 0 & 0 & 0 & 0 & $\\dots$ \\\\\n",
       "\t2 & 152242 & 0 & 0 & 0 & 0 & 0 & 0 & 168 & 100 & 0 & $\\dots$ \\\\\n",
       "\t3 & 153804 & 0 & 0 & 120 & 120 & 0 & 0 & 0 & 0 & 0 & $\\dots$ \\\\\n",
       "\t4 & 154558 & 120 & 80 & 0 & 0 & 0 & 0 & 0 & 0 & 0 & $\\dots$ \\\\\n",
       "\t5 & 154662 & 0 & 0 & 0 & 0 & 184 & 168 & 0 & 0 & 0 & $\\dots$ \\\\\n",
       "\t6 & IND-43 & 0 & 0 & 0 & 0 & 0 & 0 & 0 & 0 & 0 & $\\dots$ \\\\\n",
       "\t7 & NZ430300 & 8 & 40 & 0 & 0 & 0 & 0 & 0 & 0 & 0 & $\\dots$ \\\\\n",
       "\\end{tabular}\n"
      ],
      "text/plain": [
       "\u001b[1m7×25 DataFrame\u001b[0m\n",
       "\u001b[1m Row \u001b[0m│\u001b[1m Project  \u001b[0m\u001b[1m Month1 \u001b[0m\u001b[1m Month2 \u001b[0m\u001b[1m Month3 \u001b[0m\u001b[1m Month4 \u001b[0m\u001b[1m Month5 \u001b[0m\u001b[1m Month6 \u001b[0m\u001b[1m Month7 \u001b[0m\u001b[1m Month\u001b[0m ⋯\n",
       "\u001b[1m     \u001b[0m│\u001b[90m String15 \u001b[0m\u001b[90m Int64  \u001b[0m\u001b[90m Int64  \u001b[0m\u001b[90m Int64  \u001b[0m\u001b[90m Int64  \u001b[0m\u001b[90m Int64  \u001b[0m\u001b[90m Int64  \u001b[0m\u001b[90m Int64  \u001b[0m\u001b[90m Int64\u001b[0m ⋯\n",
       "─────┼──────────────────────────────────────────────────────────────────────────\n",
       "   1 │ 150171        40       0       0       0       0       0       0        ⋯\n",
       "   2 │ 152242         0       0       0       0       0       0     168     10\n",
       "   3 │ 153804         0       0     120     120       0       0       0\n",
       "   4 │ 154558       120      80       0       0       0       0       0\n",
       "   5 │ 154662         0       0       0       0     184     168       0        ⋯\n",
       "   6 │ IND-43         0       0       0       0       0       0       0\n",
       "   7 │ NZ430300       8      40       0       0       0       0       0\n",
       "\u001b[36m                                                              17 columns omitted\u001b[0m"
      ]
     },
     "metadata": {},
     "output_type": "display_data"
    }
   ],
   "source": [
    "Tony.FwdHoursForecast"
   ]
  },
  {
   "cell_type": "code",
   "execution_count": 52,
   "metadata": {},
   "outputs": [
    {
     "data": {
      "text/html": [
       "<div class=\"data-frame\"><p>7 rows × 2 columns</p><table class=\"data-frame\"><thead><tr><th></th><th>Project</th><th>Month1</th></tr><tr><th></th><th title=\"String15\">String15</th><th title=\"Int64\">Int64</th></tr></thead><tbody><tr><th>1</th><td>150171</td><td>40</td></tr><tr><th>2</th><td>152242</td><td>0</td></tr><tr><th>3</th><td>153804</td><td>0</td></tr><tr><th>4</th><td>154558</td><td>120</td></tr><tr><th>5</th><td>154662</td><td>0</td></tr><tr><th>6</th><td>IND-43</td><td>0</td></tr><tr><th>7</th><td>NZ430300</td><td>8</td></tr></tbody></table></div>"
      ],
      "text/latex": [
       "\\begin{tabular}{r|cc}\n",
       "\t& Project & Month1\\\\\n",
       "\t\\hline\n",
       "\t& String15 & Int64\\\\\n",
       "\t\\hline\n",
       "\t1 & 150171 & 40 \\\\\n",
       "\t2 & 152242 & 0 \\\\\n",
       "\t3 & 153804 & 0 \\\\\n",
       "\t4 & 154558 & 120 \\\\\n",
       "\t5 & 154662 & 0 \\\\\n",
       "\t6 & IND-43 & 0 \\\\\n",
       "\t7 & NZ430300 & 8 \\\\\n",
       "\\end{tabular}\n"
      ],
      "text/plain": [
       "\u001b[1m7×2 DataFrame\u001b[0m\n",
       "\u001b[1m Row \u001b[0m│\u001b[1m Project  \u001b[0m\u001b[1m Month1 \u001b[0m\n",
       "\u001b[1m     \u001b[0m│\u001b[90m String15 \u001b[0m\u001b[90m Int64  \u001b[0m\n",
       "─────┼──────────────────\n",
       "   1 │ 150171        40\n",
       "   2 │ 152242         0\n",
       "   3 │ 153804         0\n",
       "   4 │ 154558       120\n",
       "   5 │ 154662         0\n",
       "   6 │ IND-43         0\n",
       "   7 │ NZ430300       8"
      ]
     },
     "metadata": {},
     "output_type": "display_data"
    }
   ],
   "source": [
    "append!(Tony.FwdHoursForecast, t, cols = :intersect)"
   ]
  },
  {
   "cell_type": "code",
   "execution_count": 30,
   "metadata": {},
   "outputs": [],
   "source": []
  },
  {
   "cell_type": "code",
   "execution_count": 27,
   "metadata": {},
   "outputs": [
    {
     "data": {
      "text/html": [
       "<div class=\"data-frame\"><p>7 rows × 25 columns (omitted printing of 15 columns)</p><table class=\"data-frame\"><thead><tr><th></th><th>Project</th><th>Month1</th><th>Month2</th><th>Month3</th><th>Month4</th><th>Month5</th><th>Month6</th><th>Month7</th><th>Month8</th><th>Month9</th></tr><tr><th></th><th title=\"String15\">String15</th><th title=\"Int64\">Int64</th><th title=\"Int64\">Int64</th><th title=\"Int64\">Int64</th><th title=\"Int64\">Int64</th><th title=\"Int64\">Int64</th><th title=\"Int64\">Int64</th><th title=\"Int64\">Int64</th><th title=\"Int64\">Int64</th><th title=\"Int64\">Int64</th></tr></thead><tbody><tr><th>1</th><td>150171</td><td>40</td><td>0</td><td>0</td><td>0</td><td>0</td><td>0</td><td>0</td><td>0</td><td>0</td></tr><tr><th>2</th><td>152242</td><td>0</td><td>0</td><td>0</td><td>0</td><td>0</td><td>0</td><td>168</td><td>100</td><td>0</td></tr><tr><th>3</th><td>153804</td><td>0</td><td>0</td><td>120</td><td>120</td><td>0</td><td>0</td><td>0</td><td>0</td><td>0</td></tr><tr><th>4</th><td>154558</td><td>120</td><td>80</td><td>0</td><td>0</td><td>0</td><td>0</td><td>0</td><td>0</td><td>0</td></tr><tr><th>5</th><td>154662</td><td>0</td><td>0</td><td>0</td><td>0</td><td>184</td><td>168</td><td>0</td><td>0</td><td>0</td></tr><tr><th>6</th><td>IND-43</td><td>0</td><td>0</td><td>0</td><td>0</td><td>0</td><td>0</td><td>0</td><td>0</td><td>0</td></tr><tr><th>7</th><td>NZ430300</td><td>8</td><td>40</td><td>0</td><td>0</td><td>0</td><td>0</td><td>0</td><td>0</td><td>0</td></tr></tbody></table></div>"
      ],
      "text/latex": [
       "\\begin{tabular}{r|ccccccccccc}\n",
       "\t& Project & Month1 & Month2 & Month3 & Month4 & Month5 & Month6 & Month7 & Month8 & Month9 & \\\\\n",
       "\t\\hline\n",
       "\t& String15 & Int64 & Int64 & Int64 & Int64 & Int64 & Int64 & Int64 & Int64 & Int64 & \\\\\n",
       "\t\\hline\n",
       "\t1 & 150171 & 40 & 0 & 0 & 0 & 0 & 0 & 0 & 0 & 0 & $\\dots$ \\\\\n",
       "\t2 & 152242 & 0 & 0 & 0 & 0 & 0 & 0 & 168 & 100 & 0 & $\\dots$ \\\\\n",
       "\t3 & 153804 & 0 & 0 & 120 & 120 & 0 & 0 & 0 & 0 & 0 & $\\dots$ \\\\\n",
       "\t4 & 154558 & 120 & 80 & 0 & 0 & 0 & 0 & 0 & 0 & 0 & $\\dots$ \\\\\n",
       "\t5 & 154662 & 0 & 0 & 0 & 0 & 184 & 168 & 0 & 0 & 0 & $\\dots$ \\\\\n",
       "\t6 & IND-43 & 0 & 0 & 0 & 0 & 0 & 0 & 0 & 0 & 0 & $\\dots$ \\\\\n",
       "\t7 & NZ430300 & 8 & 40 & 0 & 0 & 0 & 0 & 0 & 0 & 0 & $\\dots$ \\\\\n",
       "\\end{tabular}\n"
      ],
      "text/plain": [
       "\u001b[1m7×25 DataFrame\u001b[0m\n",
       "\u001b[1m Row \u001b[0m│\u001b[1m Project  \u001b[0m\u001b[1m Month1 \u001b[0m\u001b[1m Month2 \u001b[0m\u001b[1m Month3 \u001b[0m\u001b[1m Month4 \u001b[0m\u001b[1m Month5 \u001b[0m\u001b[1m Month6 \u001b[0m\u001b[1m Month7 \u001b[0m\u001b[1m Month\u001b[0m ⋯\n",
       "\u001b[1m     \u001b[0m│\u001b[90m String15 \u001b[0m\u001b[90m Int64  \u001b[0m\u001b[90m Int64  \u001b[0m\u001b[90m Int64  \u001b[0m\u001b[90m Int64  \u001b[0m\u001b[90m Int64  \u001b[0m\u001b[90m Int64  \u001b[0m\u001b[90m Int64  \u001b[0m\u001b[90m Int64\u001b[0m ⋯\n",
       "─────┼──────────────────────────────────────────────────────────────────────────\n",
       "   1 │ 150171        40       0       0       0       0       0       0        ⋯\n",
       "   2 │ 152242         0       0       0       0       0       0     168     10\n",
       "   3 │ 153804         0       0     120     120       0       0       0\n",
       "   4 │ 154558       120      80       0       0       0       0       0\n",
       "   5 │ 154662         0       0       0       0     184     168       0        ⋯\n",
       "   6 │ IND-43         0       0       0       0       0       0       0\n",
       "   7 │ NZ430300       8      40       0       0       0       0       0\n",
       "\u001b[36m                                                              17 columns omitted\u001b[0m"
      ]
     },
     "metadata": {},
     "output_type": "display_data"
    }
   ],
   "source": [
    "Tony.FwdHoursForecast"
   ]
  },
  {
   "cell_type": "code",
   "execution_count": 68,
   "metadata": {},
   "outputs": [
    {
     "data": {
      "text/html": [
       "<div class=\"data-frame\"><p>7 rows × 25 columns (omitted printing of 15 columns)</p><table class=\"data-frame\"><thead><tr><th></th><th>Project</th><th>Month1</th><th>Month2</th><th>Month3</th><th>Month4</th><th>Month5</th><th>Month6</th><th>Month7</th><th>Month8</th><th>Month9</th></tr><tr><th></th><th title=\"String15\">String15</th><th title=\"Int64\">Int64</th><th title=\"Int64\">Int64</th><th title=\"Int64\">Int64</th><th title=\"Int64\">Int64</th><th title=\"Int64\">Int64</th><th title=\"Int64\">Int64</th><th title=\"Int64\">Int64</th><th title=\"Int64\">Int64</th><th title=\"Int64\">Int64</th></tr></thead><tbody><tr><th>1</th><td>150171</td><td>40</td><td>0</td><td>0</td><td>0</td><td>0</td><td>0</td><td>0</td><td>0</td><td>0</td></tr><tr><th>2</th><td>152242</td><td>0</td><td>0</td><td>0</td><td>0</td><td>0</td><td>0</td><td>168</td><td>100</td><td>0</td></tr><tr><th>3</th><td>153804</td><td>0</td><td>0</td><td>120</td><td>120</td><td>0</td><td>0</td><td>0</td><td>0</td><td>0</td></tr><tr><th>4</th><td>154558</td><td>120</td><td>80</td><td>0</td><td>0</td><td>0</td><td>0</td><td>0</td><td>0</td><td>0</td></tr><tr><th>5</th><td>154662</td><td>0</td><td>0</td><td>0</td><td>0</td><td>184</td><td>168</td><td>0</td><td>0</td><td>0</td></tr><tr><th>6</th><td>IND-43</td><td>0</td><td>0</td><td>0</td><td>0</td><td>0</td><td>0</td><td>0</td><td>0</td><td>0</td></tr><tr><th>7</th><td>NZ430300</td><td>8</td><td>40</td><td>0</td><td>0</td><td>0</td><td>0</td><td>0</td><td>0</td><td>0</td></tr></tbody></table></div>"
      ],
      "text/latex": [
       "\\begin{tabular}{r|ccccccccccc}\n",
       "\t& Project & Month1 & Month2 & Month3 & Month4 & Month5 & Month6 & Month7 & Month8 & Month9 & \\\\\n",
       "\t\\hline\n",
       "\t& String15 & Int64 & Int64 & Int64 & Int64 & Int64 & Int64 & Int64 & Int64 & Int64 & \\\\\n",
       "\t\\hline\n",
       "\t1 & 150171 & 40 & 0 & 0 & 0 & 0 & 0 & 0 & 0 & 0 & $\\dots$ \\\\\n",
       "\t2 & 152242 & 0 & 0 & 0 & 0 & 0 & 0 & 168 & 100 & 0 & $\\dots$ \\\\\n",
       "\t3 & 153804 & 0 & 0 & 120 & 120 & 0 & 0 & 0 & 0 & 0 & $\\dots$ \\\\\n",
       "\t4 & 154558 & 120 & 80 & 0 & 0 & 0 & 0 & 0 & 0 & 0 & $\\dots$ \\\\\n",
       "\t5 & 154662 & 0 & 0 & 0 & 0 & 184 & 168 & 0 & 0 & 0 & $\\dots$ \\\\\n",
       "\t6 & IND-43 & 0 & 0 & 0 & 0 & 0 & 0 & 0 & 0 & 0 & $\\dots$ \\\\\n",
       "\t7 & NZ430300 & 8 & 40 & 0 & 0 & 0 & 0 & 0 & 0 & 0 & $\\dots$ \\\\\n",
       "\\end{tabular}\n"
      ],
      "text/plain": [
       "\u001b[1m7×25 DataFrame\u001b[0m\n",
       "\u001b[1m Row \u001b[0m│\u001b[1m Project  \u001b[0m\u001b[1m Month1 \u001b[0m\u001b[1m Month2 \u001b[0m\u001b[1m Month3 \u001b[0m\u001b[1m Month4 \u001b[0m\u001b[1m Month5 \u001b[0m\u001b[1m Month6 \u001b[0m\u001b[1m Month7 \u001b[0m\u001b[1m Month\u001b[0m ⋯\n",
       "\u001b[1m     \u001b[0m│\u001b[90m String15 \u001b[0m\u001b[90m Int64  \u001b[0m\u001b[90m Int64  \u001b[0m\u001b[90m Int64  \u001b[0m\u001b[90m Int64  \u001b[0m\u001b[90m Int64  \u001b[0m\u001b[90m Int64  \u001b[0m\u001b[90m Int64  \u001b[0m\u001b[90m Int64\u001b[0m ⋯\n",
       "─────┼──────────────────────────────────────────────────────────────────────────\n",
       "   1 │ 150171        40       0       0       0       0       0       0        ⋯\n",
       "   2 │ 152242         0       0       0       0       0       0     168     10\n",
       "   3 │ 153804         0       0     120     120       0       0       0\n",
       "   4 │ 154558       120      80       0       0       0       0       0\n",
       "   5 │ 154662         0       0       0       0     184     168       0        ⋯\n",
       "   6 │ IND-43         0       0       0       0       0       0       0\n",
       "   7 │ NZ430300       8      40       0       0       0       0       0\n",
       "\u001b[36m                                                              17 columns omitted\u001b[0m"
      ]
     },
     "metadata": {},
     "output_type": "display_data"
    }
   ],
   "source": [
    "rename!(t, names(t) .=> names(Tony.FwdHoursForecast))"
   ]
  },
  {
   "cell_type": "code",
   "execution_count": 69,
   "metadata": {},
   "outputs": [
    {
     "data": {
      "text/html": [
       "<div class=\"data-frame\"><p>7 rows × 25 columns (omitted printing of 15 columns)</p><table class=\"data-frame\"><thead><tr><th></th><th>Project</th><th>Month1</th><th>Month2</th><th>Month3</th><th>Month4</th><th>Month5</th><th>Month6</th><th>Month7</th><th>Month8</th><th>Month9</th></tr><tr><th></th><th title=\"String15\">String15</th><th title=\"Int64\">Int64</th><th title=\"Int64\">Int64</th><th title=\"Int64\">Int64</th><th title=\"Int64\">Int64</th><th title=\"Int64\">Int64</th><th title=\"Int64\">Int64</th><th title=\"Int64\">Int64</th><th title=\"Int64\">Int64</th><th title=\"Int64\">Int64</th></tr></thead><tbody><tr><th>1</th><td>150171</td><td>40</td><td>0</td><td>0</td><td>0</td><td>0</td><td>0</td><td>0</td><td>0</td><td>0</td></tr><tr><th>2</th><td>152242</td><td>0</td><td>0</td><td>0</td><td>0</td><td>0</td><td>0</td><td>168</td><td>100</td><td>0</td></tr><tr><th>3</th><td>153804</td><td>0</td><td>0</td><td>120</td><td>120</td><td>0</td><td>0</td><td>0</td><td>0</td><td>0</td></tr><tr><th>4</th><td>154558</td><td>120</td><td>80</td><td>0</td><td>0</td><td>0</td><td>0</td><td>0</td><td>0</td><td>0</td></tr><tr><th>5</th><td>154662</td><td>0</td><td>0</td><td>0</td><td>0</td><td>184</td><td>168</td><td>0</td><td>0</td><td>0</td></tr><tr><th>6</th><td>IND-43</td><td>0</td><td>0</td><td>0</td><td>0</td><td>0</td><td>0</td><td>0</td><td>0</td><td>0</td></tr><tr><th>7</th><td>NZ430300</td><td>8</td><td>40</td><td>0</td><td>0</td><td>0</td><td>0</td><td>0</td><td>0</td><td>0</td></tr></tbody></table></div>"
      ],
      "text/latex": [
       "\\begin{tabular}{r|ccccccccccc}\n",
       "\t& Project & Month1 & Month2 & Month3 & Month4 & Month5 & Month6 & Month7 & Month8 & Month9 & \\\\\n",
       "\t\\hline\n",
       "\t& String15 & Int64 & Int64 & Int64 & Int64 & Int64 & Int64 & Int64 & Int64 & Int64 & \\\\\n",
       "\t\\hline\n",
       "\t1 & 150171 & 40 & 0 & 0 & 0 & 0 & 0 & 0 & 0 & 0 & $\\dots$ \\\\\n",
       "\t2 & 152242 & 0 & 0 & 0 & 0 & 0 & 0 & 168 & 100 & 0 & $\\dots$ \\\\\n",
       "\t3 & 153804 & 0 & 0 & 120 & 120 & 0 & 0 & 0 & 0 & 0 & $\\dots$ \\\\\n",
       "\t4 & 154558 & 120 & 80 & 0 & 0 & 0 & 0 & 0 & 0 & 0 & $\\dots$ \\\\\n",
       "\t5 & 154662 & 0 & 0 & 0 & 0 & 184 & 168 & 0 & 0 & 0 & $\\dots$ \\\\\n",
       "\t6 & IND-43 & 0 & 0 & 0 & 0 & 0 & 0 & 0 & 0 & 0 & $\\dots$ \\\\\n",
       "\t7 & NZ430300 & 8 & 40 & 0 & 0 & 0 & 0 & 0 & 0 & 0 & $\\dots$ \\\\\n",
       "\\end{tabular}\n"
      ],
      "text/plain": [
       "\u001b[1m7×25 DataFrame\u001b[0m\n",
       "\u001b[1m Row \u001b[0m│\u001b[1m Project  \u001b[0m\u001b[1m Month1 \u001b[0m\u001b[1m Month2 \u001b[0m\u001b[1m Month3 \u001b[0m\u001b[1m Month4 \u001b[0m\u001b[1m Month5 \u001b[0m\u001b[1m Month6 \u001b[0m\u001b[1m Month7 \u001b[0m\u001b[1m Month\u001b[0m ⋯\n",
       "\u001b[1m     \u001b[0m│\u001b[90m String15 \u001b[0m\u001b[90m Int64  \u001b[0m\u001b[90m Int64  \u001b[0m\u001b[90m Int64  \u001b[0m\u001b[90m Int64  \u001b[0m\u001b[90m Int64  \u001b[0m\u001b[90m Int64  \u001b[0m\u001b[90m Int64  \u001b[0m\u001b[90m Int64\u001b[0m ⋯\n",
       "─────┼──────────────────────────────────────────────────────────────────────────\n",
       "   1 │ 150171        40       0       0       0       0       0       0        ⋯\n",
       "   2 │ 152242         0       0       0       0       0       0     168     10\n",
       "   3 │ 153804         0       0     120     120       0       0       0\n",
       "   4 │ 154558       120      80       0       0       0       0       0\n",
       "   5 │ 154662         0       0       0       0     184     168       0        ⋯\n",
       "   6 │ IND-43         0       0       0       0       0       0       0\n",
       "   7 │ NZ430300       8      40       0       0       0       0       0\n",
       "\u001b[36m                                                              17 columns omitted\u001b[0m"
      ]
     },
     "metadata": {},
     "output_type": "display_data"
    }
   ],
   "source": [
    "t"
   ]
  },
  {
   "cell_type": "code",
   "execution_count": 33,
   "metadata": {},
   "outputs": [
    {
     "data": {
      "text/plain": [
       "7-element Vector{String15}:\n",
       " \"150171\"\n",
       " \"152242\"\n",
       " \"153804\"\n",
       " \"154558\"\n",
       " \"154662\"\n",
       " \"IND-43\"\n",
       " \"NZ430300\""
      ]
     },
     "metadata": {},
     "output_type": "display_data"
    }
   ],
   "source": [
    "collect(t.Project)"
   ]
  },
  {
   "cell_type": "code",
   "execution_count": null,
   "metadata": {},
   "outputs": [],
   "source": []
  },
  {
   "cell_type": "code",
   "execution_count": null,
   "metadata": {},
   "outputs": [],
   "source": []
  },
  {
   "cell_type": "code",
   "execution_count": null,
   "metadata": {},
   "outputs": [],
   "source": []
  },
  {
   "cell_type": "code",
   "execution_count": null,
   "metadata": {},
   "outputs": [],
   "source": []
  },
  {
   "cell_type": "code",
   "execution_count": null,
   "metadata": {},
   "outputs": [],
   "source": []
  },
  {
   "cell_type": "code",
   "execution_count": 1,
   "metadata": {},
   "outputs": [
    {
     "data": {
      "text/plain": [
       "3"
      ]
     },
     "metadata": {},
     "output_type": "display_data"
    }
   ],
   "source": [
    "+(1,2)"
   ]
  },
  {
   "cell_type": "code",
   "execution_count": 2,
   "metadata": {},
   "outputs": [
    {
     "data": {
      "text/plain": [
       "(1, 2)"
      ]
     },
     "metadata": {},
     "output_type": "display_data"
    }
   ],
   "source": [
    "a = (1,2)"
   ]
  },
  {
   "cell_type": "code",
   "execution_count": 5,
   "metadata": {},
   "outputs": [
    {
     "data": {
      "text/plain": [
       "3"
      ]
     },
     "metadata": {},
     "output_type": "display_data"
    }
   ],
   "source": [
    "+(a...)"
   ]
  },
  {
   "cell_type": "code",
   "execution_count": null,
   "metadata": {},
   "outputs": [],
   "source": []
  }
 ],
 "metadata": {
  "kernelspec": {
   "display_name": "Julia 1.7.2",
   "language": "julia",
   "name": "julia-1.7"
  },
  "language_info": {
   "file_extension": ".jl",
   "mimetype": "application/julia",
   "name": "julia",
   "version": "1.7.2"
  },
  "orig_nbformat": 4
 },
 "nbformat": 4,
 "nbformat_minor": 2
}
