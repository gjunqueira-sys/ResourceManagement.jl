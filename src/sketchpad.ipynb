{
 "cells": [
  {
   "cell_type": "code",
   "execution_count": 57,
   "metadata": {},
   "outputs": [],
   "source": [
    "using DataFrames\n",
    "using ResourceManagement\n",
    "using DataFrames\n",
    "using Test\n",
    "using CSV\n",
    "\n",
    "mutable struct  DisciplineLaborTest\n",
    "\n",
    "    \n",
    "\n",
    "\n",
    "    FwdHoursAvailable::Array        # Fwd Hours Available on a given month.\n",
    "    FwdHoursForecast::DataFrame         # Array holding Hours Forecasted Fwd monthly(future). Element [1] is the first month forecasted.   \n",
    "    RevHoursForecast::DataFrame           # Array holding Hours Forecasted Rev monthly (in past). Element [1] is the first month forecasted. \n",
    "    RevHoursAvailable::Array        # Array holding Hours Available Rev monthly (in past). Element [1] is the first month forecasted.     \n",
    "\n",
    "    FwdCostsForecast::Array          # Array holding costs Forecasted Fwd monthly (future)\n",
    "    RevCostsForecast::Array         # Array holding costs Forecasted Rev  monthly (past)\n",
    "\n",
    "    RevActualHours::DataFrame        # Array holding Hours incurred Rev monthly (in past). Element [1] is the first month Actual Hours.\n",
    "    RevActualCostHours::Array     # Array holding Hours in Dollar Amounts incurred Rev monthly (in past)\n",
    "\n",
    "    Dept::String                        # Department for Discipline\n",
    "\n",
    "    Name::String                    # name of resource\n",
    "\n",
    "    Projects::Array                 # Project for Discipline\n",
    "\n",
    "\n",
    "    \"\"\"\n",
    "        DisciplineLabor() \n",
    "\n",
    "    Standard Constructor for Discipline Labor.\n",
    "    ```\n",
    "    new(0.0, 0.0, 0.0, 0.0, 0.0, 0.0, Array{Float64, 1}(undef, 12), Vector{Vector{Int64}}(), Array{Float64, 1}(undef, 12), Array{Float64, 1}(undef, 12) ,\n",
    "            Array{Float64, 1}(undef, 12), Array{Float64, 1}(undef, 12), \"430300\") \n",
    "    ```\n",
    "\n",
    "        DisciplineLabor(Dept, N)\n",
    "    Detailed Constructor for Discipline Labor. Specifies Dept and number of months to hold forecast and actuals (N)\n",
    "\n",
    "\n",
    "    # Examples\n",
    "    ```julia\n",
    "    CE = DisciplineLabor()\n",
    "\n",
    "    ```\n",
    "    \"\"\"\n",
    "    function DisciplineLaborTest()      # standard constructor supplied, all zerors, with 24 months array as default \n",
    "\n",
    "\n",
    "        \n",
    "        new(Array{Float64, 1}(), DataFrame(Project=  Array{String15,1}(), Month1 = Array{Int64, 1}(), Month2 = Array{Int64, 1}(), Month3 = Array{Int64, 1}(),\n",
    "        Month4 = Array{Int64, 1}(), Month5 = Array{Int64, 1}(), Month6 = Array{Int64, 1}(), Month7 = Array{Int64, 1}(), Month8 = Array{Int64, 1}(),\n",
    "        Month9 = Array{Int64, 1}(), Month10 = Array{Int64, 1}(), Month11 = Array{Int64, 1}(), Month12 = Array{Int64, 1}(),\n",
    "        Month13 = Array{Int64, 1}(), Month14 = Array{Int64, 1}(), Month15 = Array{Int64, 1}(), Month16 = Array{Int64, 1}(), Month17 = Array{Int64, 1}(),\n",
    "        Month18 = Array{Int64, 1}(), Month19 = Array{Int64, 1}(), Month20 = Array{Int64, 1}(), Month21 = Array{Int64, 1}(), Month22 = Array{Int64, 1}(),\n",
    "        Month23 = Array{Int64, 1}(), Month24 = Array{Int64, 1}())\n",
    "        ,\n",
    "         DataFrame(Project=  Array{String15,1}(), Month1 = Array{Int64, 1}(), Month2 = Array{Int64, 1}(), Month3 = Array{Int64, 1}(),\n",
    "         Month4 = Array{Int64, 1}(), Month5 = Array{Int64, 1}(), Month6 = Array{Int64, 1}(), Month7 = Array{Int64, 1}(), Month8 = Array{Int64, 1}(),\n",
    "            Month9 = Array{Int64, 1}(), Month10 = Array{Int64, 1}(), Month11 = Array{Int64, 1}(), Month12 = Array{Int64, 1}(),\n",
    "            Month13 = Array{Int64, 1}(), Month14 = Array{Int64, 1}(), Month15 = Array{Int64, 1}(), Month16 = Array{Int64, 1}(), Month17 = Array{Int64, 1}(),\n",
    "            Month18 = Array{Int64, 1}(), Month19 = Array{Int64, 1}(), Month20 = Array{Int64, 1}(), Month21 = Array{Int64, 1}(), Month22 = Array{Int64, 1}(),\n",
    "            Month23 = Array{Int64, 1}(), Month24 = Array{Int64, 1}())\n",
    "         , Array{Float64, 2}(undef, 24, 24),  Array{Float64, 2}(undef, 24, 24), Array{Float64, 2}(undef, 24,24) ,\n",
    "        DataFrame(Project=  Array{String15,1}(), Month1 = Array{Int64, 1}(), Month2 = Array{Int64, 1}(), Month3 = Array{Int64, 1}(),\n",
    "        Month4 = Array{Int64, 1}(), Month5 = Array{Int64, 1}(), Month6 = Array{Int64, 1}(), Month7 = Array{Int64, 1}(), Month8 = Array{Int64, 1}(),\n",
    "           Month9 = Array{Int64, 1}(), Month10 = Array{Int64, 1}(), Month11 = Array{Int64, 1}(), Month12 = Array{Int64, 1}(),\n",
    "           Month13 = Array{Int64, 1}(), Month14 = Array{Int64, 1}(), Month15 = Array{Int64, 1}(), Month16 = Array{Int64, 1}(), Month17 = Array{Int64, 1}(),\n",
    "           Month18 = Array{Int64, 1}(), Month19 = Array{Int64, 1}(), Month20 = Array{Int64, 1}(), Month21 = Array{Int64, 1}(), Month22 = Array{Int64, 1}(),\n",
    "           Month23 = Array{Int64, 1}(), Month24 = Array{Int64, 1}())\n",
    "           , Array{Float64, 2}(undef, 24, 24), \"430300\",\"\", Array{String, 1}())\n",
    "\n",
    "\n",
    "    end\n",
    "end"
   ]
  },
  {
   "cell_type": "code",
   "execution_count": 58,
   "metadata": {},
   "outputs": [],
   "source": [
    "df = ReadLaborTracker(\"C:\\\\Users\\\\junqueg\\\\Documents\\\\My Documents\\\\15. Programming\\\\Projects\\\\ResourceManagement.jl\\\\src\\\\TEAM_PLANNED_FWD24_NOV.csv\"); "
   ]
  },
  {
   "cell_type": "code",
   "execution_count": 59,
   "metadata": {},
   "outputs": [
    {
     "data": {
      "text/html": [
       "<div class=\"data-frame\"><p>5 rows × 79 columns (omitted printing of 74 columns)</p><table class=\"data-frame\"><thead><tr><th></th><th>Department</th><th>Project</th><th>Description</th><th>Network</th><th>Task</th></tr><tr><th></th><th title=\"String31\">String31</th><th title=\"String15\">String15</th><th title=\"Union{Missing, String63}\">String63?</th><th title=\"String15\">String15</th><th title=\"Int64\">Int64</th></tr></thead><tbody><tr><th>1</th><td>430300 ENG - Controls</td><td>142270</td><td>Pandora II (Fairburn, GA)</td><td>N142270-02</td><td>2081</td></tr><tr><th>2</th><td>430300 ENG - Controls</td><td>144553</td><td>Dot Foods - Mount Sterling, IL</td><td>N144553-02</td><td>2020</td></tr><tr><th>3</th><td>430300 ENG - Controls</td><td>144553</td><td>Dot Foods - Mount Sterling, IL</td><td>N144553-02</td><td>2050</td></tr><tr><th>4</th><td>430300 ENG - Controls</td><td>144553</td><td>Dot Foods - Mount Sterling, IL</td><td>N144553-02</td><td>2052</td></tr><tr><th>5</th><td>430300 ENG - Controls</td><td>146391</td><td>Services-CDN# 146355-Ssense</td><td>N146391-02</td><td>2022</td></tr></tbody></table></div>"
      ],
      "text/latex": [
       "\\begin{tabular}{r|cccccc}\n",
       "\t& Department & Project & Description & Network & Task & \\\\\n",
       "\t\\hline\n",
       "\t& String31 & String15 & String63? & String15 & Int64 & \\\\\n",
       "\t\\hline\n",
       "\t1 & 430300 ENG - Controls & 142270 & Pandora II (Fairburn, GA) & N142270-02 & 2081 & $\\dots$ \\\\\n",
       "\t2 & 430300 ENG - Controls & 144553 & Dot Foods - Mount Sterling, IL & N144553-02 & 2020 & $\\dots$ \\\\\n",
       "\t3 & 430300 ENG - Controls & 144553 & Dot Foods - Mount Sterling, IL & N144553-02 & 2050 & $\\dots$ \\\\\n",
       "\t4 & 430300 ENG - Controls & 144553 & Dot Foods - Mount Sterling, IL & N144553-02 & 2052 & $\\dots$ \\\\\n",
       "\t5 & 430300 ENG - Controls & 146391 & Services-CDN\\# 146355-Ssense & N146391-02 & 2022 & $\\dots$ \\\\\n",
       "\\end{tabular}\n"
      ],
      "text/plain": [
       "\u001b[1m5×79 DataFrame\u001b[0m\n",
       "\u001b[1m Row \u001b[0m│\u001b[1m Department            \u001b[0m\u001b[1m Project  \u001b[0m\u001b[1m Description                    \u001b[0m\u001b[1m Networ\u001b[0m ⋯\n",
       "\u001b[1m     \u001b[0m│\u001b[90m String31              \u001b[0m\u001b[90m String15 \u001b[0m\u001b[90m String63?                      \u001b[0m\u001b[90m String\u001b[0m ⋯\n",
       "─────┼──────────────────────────────────────────────────────────────────────────\n",
       "   1 │ 430300 ENG - Controls  142270    Pandora II (Fairburn, GA)       N14227 ⋯\n",
       "   2 │ 430300 ENG - Controls  144553    Dot Foods - Mount Sterling, IL  N14455\n",
       "   3 │ 430300 ENG - Controls  144553    Dot Foods - Mount Sterling, IL  N14455\n",
       "   4 │ 430300 ENG - Controls  144553    Dot Foods - Mount Sterling, IL  N14455\n",
       "   5 │ 430300 ENG - Controls  146391    Services-CDN# 146355-Ssense     N14639 ⋯\n",
       "\u001b[36m                                                              76 columns omitted\u001b[0m"
      ]
     },
     "metadata": {},
     "output_type": "display_data"
    }
   ],
   "source": [
    "first(df,5)"
   ]
  },
  {
   "cell_type": "code",
   "execution_count": 37,
   "metadata": {},
   "outputs": [
    {
     "data": {
      "text/plain": [
       "_getEmployeeHoursFromDf (generic function with 1 method)"
      ]
     },
     "metadata": {},
     "output_type": "display_data"
    }
   ],
   "source": [
    "function _getEmployeeHoursFromDf(df::DataFrame, name::String, m::Int, col::Symbol)\n",
    "\n",
    "    if col == :plan\n",
    "        startcol = 9 #this matchs for both Fwd and Rev Sap Report\n",
    "    elseif col == :actual\n",
    "        startcol = 8\n",
    "    else \n",
    "        startcol = 9 #defaults to plan\n",
    "    end\n",
    "    \n",
    "\n",
    "\n",
    "    filter = (df.\"Employee Name\").==name\n",
    "    df = df[filter,:]\n",
    "    cols = [startcol+3*cols for cols in 0: m-1]\n",
    "    numbercols = [numbercols for numbercols in 2:m ]\n",
    "\n",
    "    dfg = groupby(df, :\"Project\");\n",
    "    \n",
    "\n",
    "    dfg_hours_per_month_per_name = combine(dfg, cols .=>sum)\n",
    "\n",
    "    return dfg_hours_per_month_per_name\n",
    "end"
   ]
  },
  {
   "cell_type": "code",
   "execution_count": 60,
   "metadata": {},
   "outputs": [
    {
     "data": {
      "text/html": [
       "<div class=\"data-frame\"><p>7 rows × 25 columns (omitted printing of 20 columns)</p><table class=\"data-frame\"><thead><tr><th></th><th>Project</th><th>NOV/2021 Planned_sum</th><th>DEC/2021 Planned_sum</th><th>JAN/2022 Planned_sum</th><th>FEB/2022 Planned_sum</th></tr><tr><th></th><th title=\"String15\">String15</th><th title=\"Int64\">Int64</th><th title=\"Int64\">Int64</th><th title=\"Int64\">Int64</th><th title=\"Int64\">Int64</th></tr></thead><tbody><tr><th>1</th><td>150171</td><td>40</td><td>0</td><td>0</td><td>0</td></tr><tr><th>2</th><td>152242</td><td>0</td><td>0</td><td>0</td><td>0</td></tr><tr><th>3</th><td>153804</td><td>0</td><td>0</td><td>120</td><td>120</td></tr><tr><th>4</th><td>154558</td><td>120</td><td>80</td><td>0</td><td>0</td></tr><tr><th>5</th><td>154662</td><td>0</td><td>0</td><td>0</td><td>0</td></tr><tr><th>6</th><td>IND-43</td><td>0</td><td>0</td><td>0</td><td>0</td></tr><tr><th>7</th><td>NZ430300</td><td>8</td><td>40</td><td>0</td><td>0</td></tr></tbody></table></div>"
      ],
      "text/latex": [
       "\\begin{tabular}{r|cccccc}\n",
       "\t& Project & NOV/2021 Planned\\_sum & DEC/2021 Planned\\_sum & JAN/2022 Planned\\_sum & FEB/2022 Planned\\_sum & \\\\\n",
       "\t\\hline\n",
       "\t& String15 & Int64 & Int64 & Int64 & Int64 & \\\\\n",
       "\t\\hline\n",
       "\t1 & 150171 & 40 & 0 & 0 & 0 & $\\dots$ \\\\\n",
       "\t2 & 152242 & 0 & 0 & 0 & 0 & $\\dots$ \\\\\n",
       "\t3 & 153804 & 0 & 0 & 120 & 120 & $\\dots$ \\\\\n",
       "\t4 & 154558 & 120 & 80 & 0 & 0 & $\\dots$ \\\\\n",
       "\t5 & 154662 & 0 & 0 & 0 & 0 & $\\dots$ \\\\\n",
       "\t6 & IND-43 & 0 & 0 & 0 & 0 & $\\dots$ \\\\\n",
       "\t7 & NZ430300 & 8 & 40 & 0 & 0 & $\\dots$ \\\\\n",
       "\\end{tabular}\n"
      ],
      "text/plain": [
       "\u001b[1m7×25 DataFrame\u001b[0m\n",
       "\u001b[1m Row \u001b[0m│\u001b[1m Project  \u001b[0m\u001b[1m NOV/2021 Planned_sum \u001b[0m\u001b[1m DEC/2021 Planned_sum \u001b[0m\u001b[1m JAN/2022 Planned_\u001b[0m ⋯\n",
       "\u001b[1m     \u001b[0m│\u001b[90m String15 \u001b[0m\u001b[90m Int64                \u001b[0m\u001b[90m Int64                \u001b[0m\u001b[90m Int64            \u001b[0m ⋯\n",
       "─────┼──────────────────────────────────────────────────────────────────────────\n",
       "   1 │ 150171                      40                     0                    ⋯\n",
       "   2 │ 152242                       0                     0\n",
       "   3 │ 153804                       0                     0\n",
       "   4 │ 154558                     120                    80\n",
       "   5 │ 154662                       0                     0                    ⋯\n",
       "   6 │ IND-43                       0                     0\n",
       "   7 │ NZ430300                     8                    40\n",
       "\u001b[36m                                                              22 columns omitted\u001b[0m"
      ]
     },
     "metadata": {},
     "output_type": "display_data"
    }
   ],
   "source": [
    "t = _getEmployeeHoursFromDf(df, \"HIGA ANTHONY\", 24, :plan)"
   ]
  },
  {
   "cell_type": "code",
   "execution_count": 70,
   "metadata": {},
   "outputs": [
    {
     "data": {
      "text/html": [
       "<div class=\"data-frame\"><p>7 rows × 25 columns (omitted printing of 15 columns)</p><table class=\"data-frame\"><thead><tr><th></th><th>Project</th><th>Month1</th><th>Month2</th><th>Month3</th><th>Month4</th><th>Month5</th><th>Month6</th><th>Month7</th><th>Month8</th><th>Month9</th></tr><tr><th></th><th title=\"String15\">String15</th><th title=\"Int64\">Int64</th><th title=\"Int64\">Int64</th><th title=\"Int64\">Int64</th><th title=\"Int64\">Int64</th><th title=\"Int64\">Int64</th><th title=\"Int64\">Int64</th><th title=\"Int64\">Int64</th><th title=\"Int64\">Int64</th><th title=\"Int64\">Int64</th></tr></thead><tbody><tr><th>1</th><td>150171</td><td>40</td><td>0</td><td>0</td><td>0</td><td>0</td><td>0</td><td>0</td><td>0</td><td>0</td></tr><tr><th>2</th><td>152242</td><td>0</td><td>0</td><td>0</td><td>0</td><td>0</td><td>0</td><td>168</td><td>100</td><td>0</td></tr><tr><th>3</th><td>153804</td><td>0</td><td>0</td><td>120</td><td>120</td><td>0</td><td>0</td><td>0</td><td>0</td><td>0</td></tr><tr><th>4</th><td>154558</td><td>120</td><td>80</td><td>0</td><td>0</td><td>0</td><td>0</td><td>0</td><td>0</td><td>0</td></tr><tr><th>5</th><td>154662</td><td>0</td><td>0</td><td>0</td><td>0</td><td>184</td><td>168</td><td>0</td><td>0</td><td>0</td></tr><tr><th>6</th><td>IND-43</td><td>0</td><td>0</td><td>0</td><td>0</td><td>0</td><td>0</td><td>0</td><td>0</td><td>0</td></tr><tr><th>7</th><td>NZ430300</td><td>8</td><td>40</td><td>0</td><td>0</td><td>0</td><td>0</td><td>0</td><td>0</td><td>0</td></tr></tbody></table></div>"
      ],
      "text/latex": [
       "\\begin{tabular}{r|ccccccccccc}\n",
       "\t& Project & Month1 & Month2 & Month3 & Month4 & Month5 & Month6 & Month7 & Month8 & Month9 & \\\\\n",
       "\t\\hline\n",
       "\t& String15 & Int64 & Int64 & Int64 & Int64 & Int64 & Int64 & Int64 & Int64 & Int64 & \\\\\n",
       "\t\\hline\n",
       "\t1 & 150171 & 40 & 0 & 0 & 0 & 0 & 0 & 0 & 0 & 0 & $\\dots$ \\\\\n",
       "\t2 & 152242 & 0 & 0 & 0 & 0 & 0 & 0 & 168 & 100 & 0 & $\\dots$ \\\\\n",
       "\t3 & 153804 & 0 & 0 & 120 & 120 & 0 & 0 & 0 & 0 & 0 & $\\dots$ \\\\\n",
       "\t4 & 154558 & 120 & 80 & 0 & 0 & 0 & 0 & 0 & 0 & 0 & $\\dots$ \\\\\n",
       "\t5 & 154662 & 0 & 0 & 0 & 0 & 184 & 168 & 0 & 0 & 0 & $\\dots$ \\\\\n",
       "\t6 & IND-43 & 0 & 0 & 0 & 0 & 0 & 0 & 0 & 0 & 0 & $\\dots$ \\\\\n",
       "\t7 & NZ430300 & 8 & 40 & 0 & 0 & 0 & 0 & 0 & 0 & 0 & $\\dots$ \\\\\n",
       "\\end{tabular}\n"
      ],
      "text/plain": [
       "\u001b[1m7×25 DataFrame\u001b[0m\n",
       "\u001b[1m Row \u001b[0m│\u001b[1m Project  \u001b[0m\u001b[1m Month1 \u001b[0m\u001b[1m Month2 \u001b[0m\u001b[1m Month3 \u001b[0m\u001b[1m Month4 \u001b[0m\u001b[1m Month5 \u001b[0m\u001b[1m Month6 \u001b[0m\u001b[1m Month7 \u001b[0m\u001b[1m Month\u001b[0m ⋯\n",
       "\u001b[1m     \u001b[0m│\u001b[90m String15 \u001b[0m\u001b[90m Int64  \u001b[0m\u001b[90m Int64  \u001b[0m\u001b[90m Int64  \u001b[0m\u001b[90m Int64  \u001b[0m\u001b[90m Int64  \u001b[0m\u001b[90m Int64  \u001b[0m\u001b[90m Int64  \u001b[0m\u001b[90m Int64\u001b[0m ⋯\n",
       "─────┼──────────────────────────────────────────────────────────────────────────\n",
       "   1 │ 150171        40       0       0       0       0       0       0        ⋯\n",
       "   2 │ 152242         0       0       0       0       0       0     168     10\n",
       "   3 │ 153804         0       0     120     120       0       0       0\n",
       "   4 │ 154558       120      80       0       0       0       0       0\n",
       "   5 │ 154662         0       0       0       0     184     168       0        ⋯\n",
       "   6 │ IND-43         0       0       0       0       0       0       0\n",
       "   7 │ NZ430300       8      40       0       0       0       0       0\n",
       "\u001b[36m                                                              17 columns omitted\u001b[0m"
      ]
     },
     "metadata": {},
     "output_type": "display_data"
    }
   ],
   "source": [
    "t"
   ]
  },
  {
   "cell_type": "code",
   "execution_count": 83,
   "metadata": {},
   "outputs": [
    {
     "data": {
      "text/plain": [
       "fetchAndWritePlannedHours2! (generic function with 1 method)"
      ]
     },
     "metadata": {},
     "output_type": "display_data"
    }
   ],
   "source": [
    "function fetchAndWritePlannedHours2!(df::DataFrame, name::String, m::Int, D::DisciplineLaborTest, target::Symbol)\n",
    "\n",
    "    df2 = _getEmployeeHoursFromDf(df, name, m, :plan)\n",
    "    rename!(df2, names(df2) .=> names(D.FwdHoursForecast))\n",
    "    \n",
    "    try\n",
    "        \n",
    "        [push!(D.Projects, p) for p in df2.Project if p ∉ D.Projects];\n",
    "    catch\n",
    "        @warn(\"undefined Projects\")\n",
    "    end\n",
    "\n",
    "    if target == :fwd\n",
    "        append!(D.FwdHoursForecast, df2, cols = :intersect)\n",
    "    elseif target == :rev\n",
    "        D.RevHoursForecast = copy(df2)\n",
    "    end\n",
    "    \n",
    "   \n",
    "    \n",
    "    return D\n",
    "end"
   ]
  },
  {
   "cell_type": "code",
   "execution_count": 84,
   "metadata": {},
   "outputs": [],
   "source": [
    "fetchAndWritePlannedHours2!(df, \"HIGA ANTHONY\", 24, Tony, :fwd);"
   ]
  },
  {
   "cell_type": "code",
   "execution_count": 73,
   "metadata": {},
   "outputs": [
    {
     "data": {
      "text/html": [
       "<div class=\"data-frame\"><p>7 rows × 25 columns (omitted printing of 15 columns)</p><table class=\"data-frame\"><thead><tr><th></th><th>Project</th><th>Month1</th><th>Month2</th><th>Month3</th><th>Month4</th><th>Month5</th><th>Month6</th><th>Month7</th><th>Month8</th><th>Month9</th></tr><tr><th></th><th title=\"String15\">String15</th><th title=\"Int64\">Int64</th><th title=\"Int64\">Int64</th><th title=\"Int64\">Int64</th><th title=\"Int64\">Int64</th><th title=\"Int64\">Int64</th><th title=\"Int64\">Int64</th><th title=\"Int64\">Int64</th><th title=\"Int64\">Int64</th><th title=\"Int64\">Int64</th></tr></thead><tbody><tr><th>1</th><td>150171</td><td>40</td><td>0</td><td>0</td><td>0</td><td>0</td><td>0</td><td>0</td><td>0</td><td>0</td></tr><tr><th>2</th><td>152242</td><td>0</td><td>0</td><td>0</td><td>0</td><td>0</td><td>0</td><td>168</td><td>100</td><td>0</td></tr><tr><th>3</th><td>153804</td><td>0</td><td>0</td><td>120</td><td>120</td><td>0</td><td>0</td><td>0</td><td>0</td><td>0</td></tr><tr><th>4</th><td>154558</td><td>120</td><td>80</td><td>0</td><td>0</td><td>0</td><td>0</td><td>0</td><td>0</td><td>0</td></tr><tr><th>5</th><td>154662</td><td>0</td><td>0</td><td>0</td><td>0</td><td>184</td><td>168</td><td>0</td><td>0</td><td>0</td></tr><tr><th>6</th><td>IND-43</td><td>0</td><td>0</td><td>0</td><td>0</td><td>0</td><td>0</td><td>0</td><td>0</td><td>0</td></tr><tr><th>7</th><td>NZ430300</td><td>8</td><td>40</td><td>0</td><td>0</td><td>0</td><td>0</td><td>0</td><td>0</td><td>0</td></tr></tbody></table></div>"
      ],
      "text/latex": [
       "\\begin{tabular}{r|ccccccccccc}\n",
       "\t& Project & Month1 & Month2 & Month3 & Month4 & Month5 & Month6 & Month7 & Month8 & Month9 & \\\\\n",
       "\t\\hline\n",
       "\t& String15 & Int64 & Int64 & Int64 & Int64 & Int64 & Int64 & Int64 & Int64 & Int64 & \\\\\n",
       "\t\\hline\n",
       "\t1 & 150171 & 40 & 0 & 0 & 0 & 0 & 0 & 0 & 0 & 0 & $\\dots$ \\\\\n",
       "\t2 & 152242 & 0 & 0 & 0 & 0 & 0 & 0 & 168 & 100 & 0 & $\\dots$ \\\\\n",
       "\t3 & 153804 & 0 & 0 & 120 & 120 & 0 & 0 & 0 & 0 & 0 & $\\dots$ \\\\\n",
       "\t4 & 154558 & 120 & 80 & 0 & 0 & 0 & 0 & 0 & 0 & 0 & $\\dots$ \\\\\n",
       "\t5 & 154662 & 0 & 0 & 0 & 0 & 184 & 168 & 0 & 0 & 0 & $\\dots$ \\\\\n",
       "\t6 & IND-43 & 0 & 0 & 0 & 0 & 0 & 0 & 0 & 0 & 0 & $\\dots$ \\\\\n",
       "\t7 & NZ430300 & 8 & 40 & 0 & 0 & 0 & 0 & 0 & 0 & 0 & $\\dots$ \\\\\n",
       "\\end{tabular}\n"
      ],
      "text/plain": [
       "\u001b[1m7×25 DataFrame\u001b[0m\n",
       "\u001b[1m Row \u001b[0m│\u001b[1m Project  \u001b[0m\u001b[1m Month1 \u001b[0m\u001b[1m Month2 \u001b[0m\u001b[1m Month3 \u001b[0m\u001b[1m Month4 \u001b[0m\u001b[1m Month5 \u001b[0m\u001b[1m Month6 \u001b[0m\u001b[1m Month7 \u001b[0m\u001b[1m Month\u001b[0m ⋯\n",
       "\u001b[1m     \u001b[0m│\u001b[90m String15 \u001b[0m\u001b[90m Int64  \u001b[0m\u001b[90m Int64  \u001b[0m\u001b[90m Int64  \u001b[0m\u001b[90m Int64  \u001b[0m\u001b[90m Int64  \u001b[0m\u001b[90m Int64  \u001b[0m\u001b[90m Int64  \u001b[0m\u001b[90m Int64\u001b[0m ⋯\n",
       "─────┼──────────────────────────────────────────────────────────────────────────\n",
       "   1 │ 150171        40       0       0       0       0       0       0        ⋯\n",
       "   2 │ 152242         0       0       0       0       0       0     168     10\n",
       "   3 │ 153804         0       0     120     120       0       0       0\n",
       "   4 │ 154558       120      80       0       0       0       0       0\n",
       "   5 │ 154662         0       0       0       0     184     168       0        ⋯\n",
       "   6 │ IND-43         0       0       0       0       0       0       0\n",
       "   7 │ NZ430300       8      40       0       0       0       0       0\n",
       "\u001b[36m                                                              17 columns omitted\u001b[0m"
      ]
     },
     "metadata": {},
     "output_type": "display_data"
    }
   ],
   "source": [
    "########################################################################################################################\n",
    "\n",
    "t"
   ]
  },
  {
   "cell_type": "code",
   "execution_count": 85,
   "metadata": {},
   "outputs": [
    {
     "data": {
      "text/html": [
       "<div class=\"data-frame\"><p>7 rows × 25 columns (omitted printing of 15 columns)</p><table class=\"data-frame\"><thead><tr><th></th><th>Project</th><th>Month1</th><th>Month2</th><th>Month3</th><th>Month4</th><th>Month5</th><th>Month6</th><th>Month7</th><th>Month8</th><th>Month9</th></tr><tr><th></th><th title=\"String15\">String15</th><th title=\"Int64\">Int64</th><th title=\"Int64\">Int64</th><th title=\"Int64\">Int64</th><th title=\"Int64\">Int64</th><th title=\"Int64\">Int64</th><th title=\"Int64\">Int64</th><th title=\"Int64\">Int64</th><th title=\"Int64\">Int64</th><th title=\"Int64\">Int64</th></tr></thead><tbody><tr><th>1</th><td>150171</td><td>40</td><td>0</td><td>0</td><td>0</td><td>0</td><td>0</td><td>0</td><td>0</td><td>0</td></tr><tr><th>2</th><td>152242</td><td>0</td><td>0</td><td>0</td><td>0</td><td>0</td><td>0</td><td>168</td><td>100</td><td>0</td></tr><tr><th>3</th><td>153804</td><td>0</td><td>0</td><td>120</td><td>120</td><td>0</td><td>0</td><td>0</td><td>0</td><td>0</td></tr><tr><th>4</th><td>154558</td><td>120</td><td>80</td><td>0</td><td>0</td><td>0</td><td>0</td><td>0</td><td>0</td><td>0</td></tr><tr><th>5</th><td>154662</td><td>0</td><td>0</td><td>0</td><td>0</td><td>184</td><td>168</td><td>0</td><td>0</td><td>0</td></tr><tr><th>6</th><td>IND-43</td><td>0</td><td>0</td><td>0</td><td>0</td><td>0</td><td>0</td><td>0</td><td>0</td><td>0</td></tr><tr><th>7</th><td>NZ430300</td><td>8</td><td>40</td><td>0</td><td>0</td><td>0</td><td>0</td><td>0</td><td>0</td><td>0</td></tr></tbody></table></div>"
      ],
      "text/latex": [
       "\\begin{tabular}{r|ccccccccccc}\n",
       "\t& Project & Month1 & Month2 & Month3 & Month4 & Month5 & Month6 & Month7 & Month8 & Month9 & \\\\\n",
       "\t\\hline\n",
       "\t& String15 & Int64 & Int64 & Int64 & Int64 & Int64 & Int64 & Int64 & Int64 & Int64 & \\\\\n",
       "\t\\hline\n",
       "\t1 & 150171 & 40 & 0 & 0 & 0 & 0 & 0 & 0 & 0 & 0 & $\\dots$ \\\\\n",
       "\t2 & 152242 & 0 & 0 & 0 & 0 & 0 & 0 & 168 & 100 & 0 & $\\dots$ \\\\\n",
       "\t3 & 153804 & 0 & 0 & 120 & 120 & 0 & 0 & 0 & 0 & 0 & $\\dots$ \\\\\n",
       "\t4 & 154558 & 120 & 80 & 0 & 0 & 0 & 0 & 0 & 0 & 0 & $\\dots$ \\\\\n",
       "\t5 & 154662 & 0 & 0 & 0 & 0 & 184 & 168 & 0 & 0 & 0 & $\\dots$ \\\\\n",
       "\t6 & IND-43 & 0 & 0 & 0 & 0 & 0 & 0 & 0 & 0 & 0 & $\\dots$ \\\\\n",
       "\t7 & NZ430300 & 8 & 40 & 0 & 0 & 0 & 0 & 0 & 0 & 0 & $\\dots$ \\\\\n",
       "\\end{tabular}\n"
      ],
      "text/plain": [
       "\u001b[1m7×25 DataFrame\u001b[0m\n",
       "\u001b[1m Row \u001b[0m│\u001b[1m Project  \u001b[0m\u001b[1m Month1 \u001b[0m\u001b[1m Month2 \u001b[0m\u001b[1m Month3 \u001b[0m\u001b[1m Month4 \u001b[0m\u001b[1m Month5 \u001b[0m\u001b[1m Month6 \u001b[0m\u001b[1m Month7 \u001b[0m\u001b[1m Month\u001b[0m ⋯\n",
       "\u001b[1m     \u001b[0m│\u001b[90m String15 \u001b[0m\u001b[90m Int64  \u001b[0m\u001b[90m Int64  \u001b[0m\u001b[90m Int64  \u001b[0m\u001b[90m Int64  \u001b[0m\u001b[90m Int64  \u001b[0m\u001b[90m Int64  \u001b[0m\u001b[90m Int64  \u001b[0m\u001b[90m Int64\u001b[0m ⋯\n",
       "─────┼──────────────────────────────────────────────────────────────────────────\n",
       "   1 │ 150171        40       0       0       0       0       0       0        ⋯\n",
       "   2 │ 152242         0       0       0       0       0       0     168     10\n",
       "   3 │ 153804         0       0     120     120       0       0       0\n",
       "   4 │ 154558       120      80       0       0       0       0       0\n",
       "   5 │ 154662         0       0       0       0     184     168       0        ⋯\n",
       "   6 │ IND-43         0       0       0       0       0       0       0\n",
       "   7 │ NZ430300       8      40       0       0       0       0       0\n",
       "\u001b[36m                                                              17 columns omitted\u001b[0m"
      ]
     },
     "metadata": {},
     "output_type": "display_data"
    }
   ],
   "source": [
    "Tony.FwdHoursForecast"
   ]
  },
  {
   "cell_type": "code",
   "execution_count": 62,
   "metadata": {},
   "outputs": [
    {
     "data": {
      "text/plain": [
       "25-element Vector{String}:\n",
       " \"Project\"\n",
       " \"NOV/2021 Planned_sum\"\n",
       " \"DEC/2021 Planned_sum\"\n",
       " \"JAN/2022 Planned_sum\"\n",
       " \"FEB/2022 Planned_sum\"\n",
       " \"MAR/2022 Planned_sum\"\n",
       " \"APR/2022 Planned_sum\"\n",
       " \"MAY/2022 Planned_sum\"\n",
       " \"JUN/2022 Planned_sum\"\n",
       " \"JUL/2022 Planned_sum\"\n",
       " ⋮\n",
       " \"FEB/2023 Planned_sum\"\n",
       " \"MAR/2023 Planned_sum\"\n",
       " \"APR/2023 Planned_sum\"\n",
       " \"MAY/2023 Planned_sum\"\n",
       " \"JUN/2023 Planned_sum\"\n",
       " \"JUL/2023 Planned_sum\"\n",
       " \"AUG/2023 Planned_sum\"\n",
       " \"SEP/2023 Planned_sum\"\n",
       " \"OCT/2023 Planned_sum\""
      ]
     },
     "metadata": {},
     "output_type": "display_data"
    }
   ],
   "source": [
    "t |> names"
   ]
  },
  {
   "cell_type": "code",
   "execution_count": 74,
   "metadata": {},
   "outputs": [
    {
     "data": {
      "text/plain": [
       "DisciplineLaborTest(Float64[], \u001b[1m0×25 DataFrame\u001b[0m, \u001b[1m0×25 DataFrame\u001b[0m, [1.226622052892856e-274 7.852156035702361e-134 … 1.143373358e-314 1.1433739507e-314; 4.9744312902769415e-222 -1.421646062593644e-37 … 1.1433733816e-314 1.1433739744e-314; … ; 5.8817673602944116e60 1.7627962434854877e214 … 1.1433738796e-314 1.1433748993e-314; 1.3092415694083875e-238 1.7871700681040032e161 … 1.1433739033e-314 1.143374923e-314], [0.0 5.0e-324 … 0.0 2.1219957905e-314; 0.0 1.183856267e-314 … 0.0 0.0; … ; 1.1838566226e-314 8.487983164e-314 … 0.0 1.1929120474e-314; 1.168240504e-314 0.0 … 0.0 1.2e-322], [0.0 0.0 … 0.0 1.65782186e-316; 2.327820883e-315 9.014338e-316 … 0.0 0.0; … ; 0.0 0.0 … 0.0 2.0e-321; 0.0 1.399131696e-315 … 1.399131696e-315 6.3325145e-317], \u001b[1m0×25 DataFrame\u001b[0m, [1.213122621e-314 0.0 … 0.0 0.0; 0.0 1.399131696e-315 … 1.39950031e-315 0.0; … ; 0.0 1.39950031e-315 … 4.243991582e-314 1.213118858e-314; 0.0 0.0 … 0.0 0.0], \"430300\", \"\", String[])"
      ]
     },
     "metadata": {},
     "output_type": "display_data"
    }
   ],
   "source": [
    "Tony = DisciplineLaborTest()"
   ]
  },
  {
   "cell_type": "code",
   "execution_count": 67,
   "metadata": {},
   "outputs": [
    {
     "data": {
      "text/html": [
       "<div class=\"data-frame\"><p>0 rows × 25 columns (omitted printing of 15 columns)</p><table class=\"data-frame\"><thead><tr><th></th><th>Project</th><th>Month1</th><th>Month2</th><th>Month3</th><th>Month4</th><th>Month5</th><th>Month6</th><th>Month7</th><th>Month8</th><th>Month9</th></tr><tr><th></th><th title=\"String15\">String15</th><th title=\"Int64\">Int64</th><th title=\"Int64\">Int64</th><th title=\"Int64\">Int64</th><th title=\"Int64\">Int64</th><th title=\"Int64\">Int64</th><th title=\"Int64\">Int64</th><th title=\"Int64\">Int64</th><th title=\"Int64\">Int64</th><th title=\"Int64\">Int64</th></tr></thead><tbody></tbody></table></div>"
      ],
      "text/latex": [
       "\\begin{tabular}{r|ccccccccccc}\n",
       "\t& Project & Month1 & Month2 & Month3 & Month4 & Month5 & Month6 & Month7 & Month8 & Month9 & \\\\\n",
       "\t\\hline\n",
       "\t& String15 & Int64 & Int64 & Int64 & Int64 & Int64 & Int64 & Int64 & Int64 & Int64 & \\\\\n",
       "\t\\hline\n",
       "\\end{tabular}\n"
      ],
      "text/plain": [
       "\u001b[1m0×25 DataFrame\u001b[0m"
      ]
     },
     "metadata": {},
     "output_type": "display_data"
    }
   ],
   "source": [
    "Tony.FwdHoursForecast"
   ]
  },
  {
   "cell_type": "code",
   "execution_count": 52,
   "metadata": {},
   "outputs": [
    {
     "data": {
      "text/html": [
       "<div class=\"data-frame\"><p>7 rows × 2 columns</p><table class=\"data-frame\"><thead><tr><th></th><th>Project</th><th>Month1</th></tr><tr><th></th><th title=\"String15\">String15</th><th title=\"Int64\">Int64</th></tr></thead><tbody><tr><th>1</th><td>150171</td><td>40</td></tr><tr><th>2</th><td>152242</td><td>0</td></tr><tr><th>3</th><td>153804</td><td>0</td></tr><tr><th>4</th><td>154558</td><td>120</td></tr><tr><th>5</th><td>154662</td><td>0</td></tr><tr><th>6</th><td>IND-43</td><td>0</td></tr><tr><th>7</th><td>NZ430300</td><td>8</td></tr></tbody></table></div>"
      ],
      "text/latex": [
       "\\begin{tabular}{r|cc}\n",
       "\t& Project & Month1\\\\\n",
       "\t\\hline\n",
       "\t& String15 & Int64\\\\\n",
       "\t\\hline\n",
       "\t1 & 150171 & 40 \\\\\n",
       "\t2 & 152242 & 0 \\\\\n",
       "\t3 & 153804 & 0 \\\\\n",
       "\t4 & 154558 & 120 \\\\\n",
       "\t5 & 154662 & 0 \\\\\n",
       "\t6 & IND-43 & 0 \\\\\n",
       "\t7 & NZ430300 & 8 \\\\\n",
       "\\end{tabular}\n"
      ],
      "text/plain": [
       "\u001b[1m7×2 DataFrame\u001b[0m\n",
       "\u001b[1m Row \u001b[0m│\u001b[1m Project  \u001b[0m\u001b[1m Month1 \u001b[0m\n",
       "\u001b[1m     \u001b[0m│\u001b[90m String15 \u001b[0m\u001b[90m Int64  \u001b[0m\n",
       "─────┼──────────────────\n",
       "   1 │ 150171        40\n",
       "   2 │ 152242         0\n",
       "   3 │ 153804         0\n",
       "   4 │ 154558       120\n",
       "   5 │ 154662         0\n",
       "   6 │ IND-43         0\n",
       "   7 │ NZ430300       8"
      ]
     },
     "metadata": {},
     "output_type": "display_data"
    }
   ],
   "source": [
    "append!(Tony.FwdHoursForecast, t, cols = :intersect)"
   ]
  },
  {
   "cell_type": "code",
   "execution_count": 31,
   "metadata": {},
   "outputs": [
    {
     "data": {
      "text/plain": [
       "2-element Vector{Vector{Int64}}:\n",
       " [40, 0, 0, 120, 0, 0, 8]\n",
       " []"
      ]
     },
     "metadata": {},
     "output_type": "display_data"
    }
   ],
   "source": [
    "append!([t[:,2]], [Tony.FwdHoursForecast.Month1])"
   ]
  },
  {
   "cell_type": "code",
   "execution_count": 53,
   "metadata": {},
   "outputs": [
    {
     "data": {
      "text/html": [
       "<div class=\"data-frame\"><p>7 rows × 2 columns</p><table class=\"data-frame\"><thead><tr><th></th><th>Project</th><th>Month1</th></tr><tr><th></th><th title=\"String15\">String15</th><th title=\"Int64\">Int64</th></tr></thead><tbody><tr><th>1</th><td>150171</td><td>40</td></tr><tr><th>2</th><td>152242</td><td>0</td></tr><tr><th>3</th><td>153804</td><td>0</td></tr><tr><th>4</th><td>154558</td><td>120</td></tr><tr><th>5</th><td>154662</td><td>0</td></tr><tr><th>6</th><td>IND-43</td><td>0</td></tr><tr><th>7</th><td>NZ430300</td><td>8</td></tr></tbody></table></div>"
      ],
      "text/latex": [
       "\\begin{tabular}{r|cc}\n",
       "\t& Project & Month1\\\\\n",
       "\t\\hline\n",
       "\t& String15 & Int64\\\\\n",
       "\t\\hline\n",
       "\t1 & 150171 & 40 \\\\\n",
       "\t2 & 152242 & 0 \\\\\n",
       "\t3 & 153804 & 0 \\\\\n",
       "\t4 & 154558 & 120 \\\\\n",
       "\t5 & 154662 & 0 \\\\\n",
       "\t6 & IND-43 & 0 \\\\\n",
       "\t7 & NZ430300 & 8 \\\\\n",
       "\\end{tabular}\n"
      ],
      "text/plain": [
       "\u001b[1m7×2 DataFrame\u001b[0m\n",
       "\u001b[1m Row \u001b[0m│\u001b[1m Project  \u001b[0m\u001b[1m Month1 \u001b[0m\n",
       "\u001b[1m     \u001b[0m│\u001b[90m String15 \u001b[0m\u001b[90m Int64  \u001b[0m\n",
       "─────┼──────────────────\n",
       "   1 │ 150171        40\n",
       "   2 │ 152242         0\n",
       "   3 │ 153804         0\n",
       "   4 │ 154558       120\n",
       "   5 │ 154662         0\n",
       "   6 │ IND-43         0\n",
       "   7 │ NZ430300       8"
      ]
     },
     "metadata": {},
     "output_type": "display_data"
    }
   ],
   "source": [
    "Tony.FwdHoursForecast"
   ]
  },
  {
   "cell_type": "code",
   "execution_count": 68,
   "metadata": {},
   "outputs": [
    {
     "data": {
      "text/html": [
       "<div class=\"data-frame\"><p>7 rows × 25 columns (omitted printing of 15 columns)</p><table class=\"data-frame\"><thead><tr><th></th><th>Project</th><th>Month1</th><th>Month2</th><th>Month3</th><th>Month4</th><th>Month5</th><th>Month6</th><th>Month7</th><th>Month8</th><th>Month9</th></tr><tr><th></th><th title=\"String15\">String15</th><th title=\"Int64\">Int64</th><th title=\"Int64\">Int64</th><th title=\"Int64\">Int64</th><th title=\"Int64\">Int64</th><th title=\"Int64\">Int64</th><th title=\"Int64\">Int64</th><th title=\"Int64\">Int64</th><th title=\"Int64\">Int64</th><th title=\"Int64\">Int64</th></tr></thead><tbody><tr><th>1</th><td>150171</td><td>40</td><td>0</td><td>0</td><td>0</td><td>0</td><td>0</td><td>0</td><td>0</td><td>0</td></tr><tr><th>2</th><td>152242</td><td>0</td><td>0</td><td>0</td><td>0</td><td>0</td><td>0</td><td>168</td><td>100</td><td>0</td></tr><tr><th>3</th><td>153804</td><td>0</td><td>0</td><td>120</td><td>120</td><td>0</td><td>0</td><td>0</td><td>0</td><td>0</td></tr><tr><th>4</th><td>154558</td><td>120</td><td>80</td><td>0</td><td>0</td><td>0</td><td>0</td><td>0</td><td>0</td><td>0</td></tr><tr><th>5</th><td>154662</td><td>0</td><td>0</td><td>0</td><td>0</td><td>184</td><td>168</td><td>0</td><td>0</td><td>0</td></tr><tr><th>6</th><td>IND-43</td><td>0</td><td>0</td><td>0</td><td>0</td><td>0</td><td>0</td><td>0</td><td>0</td><td>0</td></tr><tr><th>7</th><td>NZ430300</td><td>8</td><td>40</td><td>0</td><td>0</td><td>0</td><td>0</td><td>0</td><td>0</td><td>0</td></tr></tbody></table></div>"
      ],
      "text/latex": [
       "\\begin{tabular}{r|ccccccccccc}\n",
       "\t& Project & Month1 & Month2 & Month3 & Month4 & Month5 & Month6 & Month7 & Month8 & Month9 & \\\\\n",
       "\t\\hline\n",
       "\t& String15 & Int64 & Int64 & Int64 & Int64 & Int64 & Int64 & Int64 & Int64 & Int64 & \\\\\n",
       "\t\\hline\n",
       "\t1 & 150171 & 40 & 0 & 0 & 0 & 0 & 0 & 0 & 0 & 0 & $\\dots$ \\\\\n",
       "\t2 & 152242 & 0 & 0 & 0 & 0 & 0 & 0 & 168 & 100 & 0 & $\\dots$ \\\\\n",
       "\t3 & 153804 & 0 & 0 & 120 & 120 & 0 & 0 & 0 & 0 & 0 & $\\dots$ \\\\\n",
       "\t4 & 154558 & 120 & 80 & 0 & 0 & 0 & 0 & 0 & 0 & 0 & $\\dots$ \\\\\n",
       "\t5 & 154662 & 0 & 0 & 0 & 0 & 184 & 168 & 0 & 0 & 0 & $\\dots$ \\\\\n",
       "\t6 & IND-43 & 0 & 0 & 0 & 0 & 0 & 0 & 0 & 0 & 0 & $\\dots$ \\\\\n",
       "\t7 & NZ430300 & 8 & 40 & 0 & 0 & 0 & 0 & 0 & 0 & 0 & $\\dots$ \\\\\n",
       "\\end{tabular}\n"
      ],
      "text/plain": [
       "\u001b[1m7×25 DataFrame\u001b[0m\n",
       "\u001b[1m Row \u001b[0m│\u001b[1m Project  \u001b[0m\u001b[1m Month1 \u001b[0m\u001b[1m Month2 \u001b[0m\u001b[1m Month3 \u001b[0m\u001b[1m Month4 \u001b[0m\u001b[1m Month5 \u001b[0m\u001b[1m Month6 \u001b[0m\u001b[1m Month7 \u001b[0m\u001b[1m Month\u001b[0m ⋯\n",
       "\u001b[1m     \u001b[0m│\u001b[90m String15 \u001b[0m\u001b[90m Int64  \u001b[0m\u001b[90m Int64  \u001b[0m\u001b[90m Int64  \u001b[0m\u001b[90m Int64  \u001b[0m\u001b[90m Int64  \u001b[0m\u001b[90m Int64  \u001b[0m\u001b[90m Int64  \u001b[0m\u001b[90m Int64\u001b[0m ⋯\n",
       "─────┼──────────────────────────────────────────────────────────────────────────\n",
       "   1 │ 150171        40       0       0       0       0       0       0        ⋯\n",
       "   2 │ 152242         0       0       0       0       0       0     168     10\n",
       "   3 │ 153804         0       0     120     120       0       0       0\n",
       "   4 │ 154558       120      80       0       0       0       0       0\n",
       "   5 │ 154662         0       0       0       0     184     168       0        ⋯\n",
       "   6 │ IND-43         0       0       0       0       0       0       0\n",
       "   7 │ NZ430300       8      40       0       0       0       0       0\n",
       "\u001b[36m                                                              17 columns omitted\u001b[0m"
      ]
     },
     "metadata": {},
     "output_type": "display_data"
    }
   ],
   "source": [
    "rename!(t, names(t) .=> names(Tony.FwdHoursForecast))"
   ]
  },
  {
   "cell_type": "code",
   "execution_count": 69,
   "metadata": {},
   "outputs": [
    {
     "data": {
      "text/html": [
       "<div class=\"data-frame\"><p>7 rows × 25 columns (omitted printing of 15 columns)</p><table class=\"data-frame\"><thead><tr><th></th><th>Project</th><th>Month1</th><th>Month2</th><th>Month3</th><th>Month4</th><th>Month5</th><th>Month6</th><th>Month7</th><th>Month8</th><th>Month9</th></tr><tr><th></th><th title=\"String15\">String15</th><th title=\"Int64\">Int64</th><th title=\"Int64\">Int64</th><th title=\"Int64\">Int64</th><th title=\"Int64\">Int64</th><th title=\"Int64\">Int64</th><th title=\"Int64\">Int64</th><th title=\"Int64\">Int64</th><th title=\"Int64\">Int64</th><th title=\"Int64\">Int64</th></tr></thead><tbody><tr><th>1</th><td>150171</td><td>40</td><td>0</td><td>0</td><td>0</td><td>0</td><td>0</td><td>0</td><td>0</td><td>0</td></tr><tr><th>2</th><td>152242</td><td>0</td><td>0</td><td>0</td><td>0</td><td>0</td><td>0</td><td>168</td><td>100</td><td>0</td></tr><tr><th>3</th><td>153804</td><td>0</td><td>0</td><td>120</td><td>120</td><td>0</td><td>0</td><td>0</td><td>0</td><td>0</td></tr><tr><th>4</th><td>154558</td><td>120</td><td>80</td><td>0</td><td>0</td><td>0</td><td>0</td><td>0</td><td>0</td><td>0</td></tr><tr><th>5</th><td>154662</td><td>0</td><td>0</td><td>0</td><td>0</td><td>184</td><td>168</td><td>0</td><td>0</td><td>0</td></tr><tr><th>6</th><td>IND-43</td><td>0</td><td>0</td><td>0</td><td>0</td><td>0</td><td>0</td><td>0</td><td>0</td><td>0</td></tr><tr><th>7</th><td>NZ430300</td><td>8</td><td>40</td><td>0</td><td>0</td><td>0</td><td>0</td><td>0</td><td>0</td><td>0</td></tr></tbody></table></div>"
      ],
      "text/latex": [
       "\\begin{tabular}{r|ccccccccccc}\n",
       "\t& Project & Month1 & Month2 & Month3 & Month4 & Month5 & Month6 & Month7 & Month8 & Month9 & \\\\\n",
       "\t\\hline\n",
       "\t& String15 & Int64 & Int64 & Int64 & Int64 & Int64 & Int64 & Int64 & Int64 & Int64 & \\\\\n",
       "\t\\hline\n",
       "\t1 & 150171 & 40 & 0 & 0 & 0 & 0 & 0 & 0 & 0 & 0 & $\\dots$ \\\\\n",
       "\t2 & 152242 & 0 & 0 & 0 & 0 & 0 & 0 & 168 & 100 & 0 & $\\dots$ \\\\\n",
       "\t3 & 153804 & 0 & 0 & 120 & 120 & 0 & 0 & 0 & 0 & 0 & $\\dots$ \\\\\n",
       "\t4 & 154558 & 120 & 80 & 0 & 0 & 0 & 0 & 0 & 0 & 0 & $\\dots$ \\\\\n",
       "\t5 & 154662 & 0 & 0 & 0 & 0 & 184 & 168 & 0 & 0 & 0 & $\\dots$ \\\\\n",
       "\t6 & IND-43 & 0 & 0 & 0 & 0 & 0 & 0 & 0 & 0 & 0 & $\\dots$ \\\\\n",
       "\t7 & NZ430300 & 8 & 40 & 0 & 0 & 0 & 0 & 0 & 0 & 0 & $\\dots$ \\\\\n",
       "\\end{tabular}\n"
      ],
      "text/plain": [
       "\u001b[1m7×25 DataFrame\u001b[0m\n",
       "\u001b[1m Row \u001b[0m│\u001b[1m Project  \u001b[0m\u001b[1m Month1 \u001b[0m\u001b[1m Month2 \u001b[0m\u001b[1m Month3 \u001b[0m\u001b[1m Month4 \u001b[0m\u001b[1m Month5 \u001b[0m\u001b[1m Month6 \u001b[0m\u001b[1m Month7 \u001b[0m\u001b[1m Month\u001b[0m ⋯\n",
       "\u001b[1m     \u001b[0m│\u001b[90m String15 \u001b[0m\u001b[90m Int64  \u001b[0m\u001b[90m Int64  \u001b[0m\u001b[90m Int64  \u001b[0m\u001b[90m Int64  \u001b[0m\u001b[90m Int64  \u001b[0m\u001b[90m Int64  \u001b[0m\u001b[90m Int64  \u001b[0m\u001b[90m Int64\u001b[0m ⋯\n",
       "─────┼──────────────────────────────────────────────────────────────────────────\n",
       "   1 │ 150171        40       0       0       0       0       0       0        ⋯\n",
       "   2 │ 152242         0       0       0       0       0       0     168     10\n",
       "   3 │ 153804         0       0     120     120       0       0       0\n",
       "   4 │ 154558       120      80       0       0       0       0       0\n",
       "   5 │ 154662         0       0       0       0     184     168       0        ⋯\n",
       "   6 │ IND-43         0       0       0       0       0       0       0\n",
       "   7 │ NZ430300       8      40       0       0       0       0       0\n",
       "\u001b[36m                                                              17 columns omitted\u001b[0m"
      ]
     },
     "metadata": {},
     "output_type": "display_data"
    }
   ],
   "source": [
    "t"
   ]
  },
  {
   "cell_type": "code",
   "execution_count": 33,
   "metadata": {},
   "outputs": [
    {
     "data": {
      "text/plain": [
       "7-element Vector{String15}:\n",
       " \"150171\"\n",
       " \"152242\"\n",
       " \"153804\"\n",
       " \"154558\"\n",
       " \"154662\"\n",
       " \"IND-43\"\n",
       " \"NZ430300\""
      ]
     },
     "metadata": {},
     "output_type": "display_data"
    }
   ],
   "source": [
    "collect(t.Project)"
   ]
  },
  {
   "cell_type": "code",
   "execution_count": null,
   "metadata": {},
   "outputs": [],
   "source": []
  },
  {
   "cell_type": "code",
   "execution_count": null,
   "metadata": {},
   "outputs": [],
   "source": []
  },
  {
   "cell_type": "code",
   "execution_count": null,
   "metadata": {},
   "outputs": [],
   "source": []
  },
  {
   "cell_type": "code",
   "execution_count": null,
   "metadata": {},
   "outputs": [],
   "source": []
  },
  {
   "cell_type": "code",
   "execution_count": null,
   "metadata": {},
   "outputs": [],
   "source": []
  },
  {
   "cell_type": "code",
   "execution_count": 1,
   "metadata": {},
   "outputs": [
    {
     "data": {
      "text/plain": [
       "3"
      ]
     },
     "metadata": {},
     "output_type": "display_data"
    }
   ],
   "source": [
    "+(1,2)"
   ]
  },
  {
   "cell_type": "code",
   "execution_count": 2,
   "metadata": {},
   "outputs": [
    {
     "data": {
      "text/plain": [
       "(1, 2)"
      ]
     },
     "metadata": {},
     "output_type": "display_data"
    }
   ],
   "source": [
    "a = (1,2)"
   ]
  },
  {
   "cell_type": "code",
   "execution_count": 5,
   "metadata": {},
   "outputs": [
    {
     "data": {
      "text/plain": [
       "3"
      ]
     },
     "metadata": {},
     "output_type": "display_data"
    }
   ],
   "source": [
    "+(a...)"
   ]
  },
  {
   "cell_type": "code",
   "execution_count": null,
   "metadata": {},
   "outputs": [],
   "source": []
  }
 ],
 "metadata": {
  "kernelspec": {
   "display_name": "Julia 1.7.2",
   "language": "julia",
   "name": "julia-1.7"
  },
  "language_info": {
   "file_extension": ".jl",
   "mimetype": "application/julia",
   "name": "julia",
   "version": "1.7.2"
  },
  "orig_nbformat": 4
 },
 "nbformat": 4,
 "nbformat_minor": 2
}
